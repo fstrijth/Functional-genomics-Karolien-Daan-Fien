{
 "cells": [
  {
   "attachments": {},
   "cell_type": "markdown",
   "metadata": {
    "id": "xvvCc4jel6MH"
   },
   "source": [
    "# Project BINF-F402\n",
    "## Group 2\n",
    "\n",
    "Daan Vandenberge, daan.vandenberge@ulb.be, 000577772\n",
    "\n",
    "Karolien Heymans, karolien.heymans@ulb.be, 000577754\n",
    "\n",
    "Fien Strijthaegen, fien.strijthaegen@ulb.be, 000532187\n",
    "\n"
   ]
  },
  {
   "cell_type": "code",
   "execution_count": 5,
   "metadata": {
    "vscode": {
     "languageId": "r"
    }
   },
   "outputs": [
    {
     "name": "stderr",
     "output_type": "stream",
     "text": [
      "Warning message:\n",
      "\"package 'xtable' was built under R version 4.2.3\"\n",
      "Warning message:\n",
      "\"package 'dplyr' was built under R version 4.2.3\"\n",
      "\n",
      "Attaching package: 'dplyr'\n",
      "\n",
      "\n",
      "The following objects are masked from 'package:stats':\n",
      "\n",
      "    filter, lag\n",
      "\n",
      "\n",
      "The following objects are masked from 'package:base':\n",
      "\n",
      "    intersect, setdiff, setequal, union\n",
      "\n",
      "\n"
     ]
    }
   ],
   "source": [
    "library(xtable)\n",
    "library(dplyr)"
   ]
  },
  {
   "attachments": {},
   "cell_type": "markdown",
   "metadata": {
    "id": "J8gTMUWampY0"
   },
   "source": [
    "## Clinical data"
   ]
  },
  {
   "cell_type": "code",
   "execution_count": 1,
   "metadata": {
    "id": "BYdBL4zjkKQh",
    "vscode": {
     "languageId": "r"
    }
   },
   "outputs": [],
   "source": [
    "clinical_data = read.delim(file='clinical-data.tsv',sep ='\\t',header=TRUE,row.names=1)# load in data with the read.delim "
   ]
  },
  {
   "cell_type": "code",
   "execution_count": 2,
   "metadata": {
    "id": "NBLtt3eppDyv",
    "vscode": {
     "languageId": "r"
    }
   },
   "outputs": [],
   "source": [
    "Age = clinical_data$AGE\n",
    "BMI = clinical_data$BMI\n",
    "Cohort = clinical_data$COHORT\n",
    "Hardy_scale = clinical_data$DTHHRDY\n",
    "Heigth = clinical_data$HGHT\n",
    "Ischemic_Time = clinical_data$TRISCHD\n",
    "Sex = clinical_data$SEX\n",
    "Weigth = clinical_data$WGHT\n",
    "# every variable is assigned individually for easier work"
   ]
  },
  {
   "attachments": {},
   "cell_type": "markdown",
   "metadata": {
    "id": "JiZlUeALqc-r"
   },
   "source": [
    "all variables have been assigned to a vector. Next, the data is checked of there are any NA values in the clinical data."
   ]
  },
  {
   "cell_type": "code",
   "execution_count": 3,
   "metadata": {
    "colab": {
     "base_uri": "https://localhost:8080/",
     "height": 156
    },
    "id": "m6JFO7EPqaG7",
    "outputId": "258adeca-a719-42f5-ae5c-abc3e5ddcea7",
    "vscode": {
     "languageId": "r"
    }
   },
   "outputs": [
    {
     "data": {
      "text/html": [
       "FALSE"
      ],
      "text/latex": [
       "FALSE"
      ],
      "text/markdown": [
       "FALSE"
      ],
      "text/plain": [
       "[1] FALSE"
      ]
     },
     "metadata": {},
     "output_type": "display_data"
    },
    {
     "data": {
      "text/html": [
       "FALSE"
      ],
      "text/latex": [
       "FALSE"
      ],
      "text/markdown": [
       "FALSE"
      ],
      "text/plain": [
       "[1] FALSE"
      ]
     },
     "metadata": {},
     "output_type": "display_data"
    },
    {
     "data": {
      "text/html": [
       "FALSE"
      ],
      "text/latex": [
       "FALSE"
      ],
      "text/markdown": [
       "FALSE"
      ],
      "text/plain": [
       "[1] FALSE"
      ]
     },
     "metadata": {},
     "output_type": "display_data"
    },
    {
     "data": {
      "text/html": [
       "FALSE"
      ],
      "text/latex": [
       "FALSE"
      ],
      "text/markdown": [
       "FALSE"
      ],
      "text/plain": [
       "[1] FALSE"
      ]
     },
     "metadata": {},
     "output_type": "display_data"
    },
    {
     "data": {
      "text/html": [
       "FALSE"
      ],
      "text/latex": [
       "FALSE"
      ],
      "text/markdown": [
       "FALSE"
      ],
      "text/plain": [
       "[1] FALSE"
      ]
     },
     "metadata": {},
     "output_type": "display_data"
    },
    {
     "data": {
      "text/html": [
       "FALSE"
      ],
      "text/latex": [
       "FALSE"
      ],
      "text/markdown": [
       "FALSE"
      ],
      "text/plain": [
       "[1] FALSE"
      ]
     },
     "metadata": {},
     "output_type": "display_data"
    },
    {
     "data": {
      "text/html": [
       "FALSE"
      ],
      "text/latex": [
       "FALSE"
      ],
      "text/markdown": [
       "FALSE"
      ],
      "text/plain": [
       "[1] FALSE"
      ]
     },
     "metadata": {},
     "output_type": "display_data"
    },
    {
     "data": {
      "text/html": [
       "FALSE"
      ],
      "text/latex": [
       "FALSE"
      ],
      "text/markdown": [
       "FALSE"
      ],
      "text/plain": [
       "[1] FALSE"
      ]
     },
     "metadata": {},
     "output_type": "display_data"
    }
   ],
   "source": [
    "any(is.na(Age))\n",
    "any(is.na(BMI))\n",
    "any(is.na(Cohort))\n",
    "any(is.na(Hardy_scale))\n",
    "any(is.na(Heigth))\n",
    "any(is.na(Ischemic_Time))\n",
    "any(is.na(Sex))\n",
    "any(is.na(Weigth))\n",
    "# this is done with the any function"
   ]
  },
  {
   "attachments": {},
   "cell_type": "markdown",
   "metadata": {
    "id": "BNzLWV_crMf0"
   },
   "source": [
    "every variable has no empty value"
   ]
  },
  {
   "attachments": {},
   "cell_type": "markdown",
   "metadata": {},
   "source": [
    "## Q1: explore clinical variables"
   ]
  },
  {
   "attachments": {},
   "cell_type": "markdown",
   "metadata": {},
   "source": [
    "Firstly, histogram plots are created to see how each variable is distributed in the clinical data"
   ]
  },
  {
   "cell_type": "code",
   "execution_count": 4,
   "metadata": {
    "colab": {
     "base_uri": "https://localhost:8080/",
     "height": 437
    },
    "id": "30w3QwuxrUhB",
    "outputId": "4b6a57cf-36cd-41cf-9f34-c21021e28b4f",
    "vscode": {
     "languageId": "r"
    }
   },
   "outputs": [
    {
     "data": {
      "image/png": "[encoded data removed]",
      "text/plain": [
       "Plot with title \"Age of death distribution\""
      ]
     },
     "metadata": {
      "image/png": {
       "height": 420,
       "width": 420
      }
     },
     "output_type": "display_data"
    }
   ],
   "source": [
    "hist(Age, main = \"Age of death distribution\", xlab = \"Age\", ylab = \"Frequency\", cex.main = 2, cex.lab = 1.5, cex.axis = 1.5)\n",
    "#this is done with the hist function \n"
   ]
  },
  {
   "cell_type": "code",
   "execution_count": 5,
   "metadata": {
    "colab": {
     "base_uri": "https://localhost:8080/",
     "height": 437
    },
    "id": "G1RWX6HCvHCQ",
    "outputId": "d6eba03b-c521-4ce6-d40d-ad0b0d28a0eb",
    "vscode": {
     "languageId": "r"
    }
   },
   "outputs": [
    {
     "data": {
      "image/png": "[encoded data removed]",
      "text/plain": [
       "Plot with title \"Donor height distribution\""
      ]
     },
     "metadata": {
      "image/png": {
       "height": 420,
       "width": 420
      }
     },
     "output_type": "display_data"
    }
   ],
   "source": [
    "hist(Heigth, main = \"Donor height distribution\", xlab = \"Height\", ylab = \"Frequency\", cex.main = 2, cex.lab = 1.5, cex.axis = 1.5)"
   ]
  },
  {
   "cell_type": "code",
   "execution_count": 6,
   "metadata": {
    "colab": {
     "base_uri": "https://localhost:8080/",
     "height": 437
    },
    "id": "k-v3yWyYvm-w",
    "outputId": "a163eb38-ca47-48bf-cead-97e42e165326",
    "vscode": {
     "languageId": "r"
    }
   },
   "outputs": [
    {
     "data": {
      "image/png": "[encoded data removed]",
      "text/plain": [
       "Plot with title \"BMI distribution\""
      ]
     },
     "metadata": {
      "image/png": {
       "height": 420,
       "width": 420
      }
     },
     "output_type": "display_data"
    }
   ],
   "source": [
    "hist(BMI, main = \"BMI distribution\", xlab = \"BMI\", ylab = \"Frequency\", cex.main = 2, cex.lab = 1.5, cex.axis = 1.5)"
   ]
  },
  {
   "cell_type": "code",
   "execution_count": 7,
   "metadata": {
    "colab": {
     "base_uri": "https://localhost:8080/",
     "height": 437
    },
    "id": "d9AiimUNvrGl",
    "outputId": "36a9a365-2815-4615-add3-cb6ce577aed2",
    "vscode": {
     "languageId": "r"
    }
   },
   "outputs": [
    {
     "data": {
      "image/png": "[encoded data removed]",
      "text/plain": [
       "Plot with title \"Donor weight distribution\""
      ]
     },
     "metadata": {
      "image/png": {
       "height": 420,
       "width": 420
      }
     },
     "output_type": "display_data"
    }
   ],
   "source": [
    "hist(Weigth, main = \"Donor weight distribution\", xlab = \"Weight\", ylab = \"Frequency\", cex.main = 2, cex.lab = 1.5, cex.axis = 1.5)"
   ]
  },
  {
   "cell_type": "code",
   "execution_count": 8,
   "metadata": {
    "colab": {
     "base_uri": "https://localhost:8080/",
     "height": 437
    },
    "id": "UJWtAtmMvyc7",
    "outputId": "b43c54a2-2868-426f-ff33-005f25c962c1",
    "vscode": {
     "languageId": "r"
    }
   },
   "outputs": [
    {
     "data": {
      "image/png": "[encoded data removed]",
      "text/plain": [
       "Plot with title \"Ischemic Time distribution\""
      ]
     },
     "metadata": {
      "image/png": {
       "height": 420,
       "width": 420
      }
     },
     "output_type": "display_data"
    }
   ],
   "source": [
    "hist(Ischemic_Time,  main = \"Ischemic Time distribution\", xlab = \"Ischemic Time (min)\", ylab = \"Frequency\", cex.main = 2, cex.lab = 1.5, cex.axis = 1.5)"
   ]
  },
  {
   "cell_type": "code",
   "execution_count": 12,
   "metadata": {
    "colab": {
     "base_uri": "https://localhost:8080/",
     "height": 437
    },
    "id": "orsM0T5zv6ir",
    "outputId": "b72ff351-8c56-4867-845d-c910e6ddc7eb",
    "vscode": {
     "languageId": "r"
    }
   },
   "outputs": [
    {
     "name": "stderr",
     "output_type": "stream",
     "text": [
      "Warning message:\n",
      "\"\u001b[1m\u001b[22mUsing `size` aesthetic for lines was deprecated in ggplot2 3.4.0.\n",
      "\u001b[36mℹ\u001b[39m Please use `linewidth` instead.\"\n"
     ]
    },
    {
     "data": {
      "image/png": "[encoded data removed]",
      "text/plain": [
       "plot without title"
      ]
     },
     "metadata": {
      "image/png": {
       "height": 420,
       "width": 420
      }
     },
     "output_type": "display_data"
    }
   ],
   "source": [
    "library(ggplot2)\n",
    "       \n",
    "ggplot(data = clinical_data, aes(x = DTHHRDY)) +\n",
    "  geom_bar(fill = \"lightgrey\", color = \"black\", size = 0.3) +\n",
    "  labs(title = \"Hardy scale distribution\", x = \"\", y = \"Frequency\") +\n",
    "  theme(plot.title = element_text(size = 23, hjust = 0.5),\n",
    "        axis.title = element_text(size = 23),\n",
    "        axis.text.x = element_text(size = 20),\n",
    "        axis.text.y = element_text(size = 20),\n",
    "        panel.background = element_rect(fill = \"white\"))# for the distribution of hardy scale, we use the ggplot2 library"
   ]
  },
  {
   "cell_type": "code",
   "execution_count": 13,
   "metadata": {
    "colab": {
     "base_uri": "https://localhost:8080/",
     "height": 437
    },
    "id": "O930WEXW8uSc",
    "outputId": "81ee2292-3a29-4e5d-f112-5b751eeb67b9",
    "vscode": {
     "languageId": "r"
    }
   },
   "outputs": [
    {
     "data": {
      "image/png": "[encoded data removed]",
      "text/plain": [
       "plot without title"
      ]
     },
     "metadata": {
      "image/png": {
       "height": 420,
       "width": 420
      }
     },
     "output_type": "display_data"
    }
   ],
   "source": [
    "ggplot(data = clinical_data, aes(x = COHORT)) +\n",
    "  geom_bar(fill = \"lightgrey\",color = \"black\", size = 0.3) +\n",
    "  labs(title = \"Type of donor distribution\", x = \"\", y = \"Frequency\") +\n",
    "  theme(plot.title = element_text(size = 23, hjust = 0.5),\n",
    "        axis.title = element_text(size = 23),\n",
    "        axis.text.x = element_text(size = 20),\n",
    "        axis.text.y = element_text(size = 20),\n",
    "        panel.background = element_rect(fill = \"white\"))#for the distribution of the donor type, we also used the ggpolt2 library\n",
    "        \n"
   ]
  },
  {
   "attachments": {},
   "cell_type": "markdown",
   "metadata": {},
   "source": [
    "Next, the Shapiro-Wilik test was perfomed to test the normallity of the data for that variable"
   ]
  },
  {
   "cell_type": "code",
   "execution_count": null,
   "metadata": {
    "colab": {
     "base_uri": "https://localhost:8080/",
     "height": 104
    },
    "id": "V86FRtHqwCb-",
    "outputId": "44023b1f-5c02-4c74-e71f-bd87e33af274",
    "vscode": {
     "languageId": "r"
    }
   },
   "outputs": [
    {
     "data": {
      "text/plain": [
       "\n",
       "\tShapiro-Wilk normality test\n",
       "\n",
       "data:  Age\n",
       "W = 0.93931, p-value = 8.064e-06\n"
      ]
     },
     "metadata": {},
     "output_type": "display_data"
    }
   ],
   "source": [
    "shapiro.test(Age)"
   ]
  },
  {
   "cell_type": "code",
   "execution_count": null,
   "metadata": {
    "colab": {
     "base_uri": "https://localhost:8080/",
     "height": 104
    },
    "id": "MWWMpFmwwM-v",
    "outputId": "e3b2af60-9595-4d37-e40a-4d8af8e53b56",
    "vscode": {
     "languageId": "r"
    }
   },
   "outputs": [
    {
     "data": {
      "text/plain": [
       "\n",
       "\tShapiro-Wilk normality test\n",
       "\n",
       "data:  BMI\n",
       "W = 0.97479, p-value = 0.009984\n"
      ]
     },
     "metadata": {},
     "output_type": "display_data"
    }
   ],
   "source": [
    "shapiro.test(BMI)"
   ]
  },
  {
   "cell_type": "code",
   "execution_count": null,
   "metadata": {
    "colab": {
     "base_uri": "https://localhost:8080/",
     "height": 104
    },
    "id": "aI6k9OBbwnLb",
    "outputId": "a7723d61-bebb-4a99-d312-af135b338b5e",
    "vscode": {
     "languageId": "r"
    }
   },
   "outputs": [
    {
     "data": {
      "text/plain": [
       "\n",
       "\tShapiro-Wilk normality test\n",
       "\n",
       "data:  Hardy_scale\n",
       "W = 0.71614, p-value = 3.095e-15\n"
      ]
     },
     "metadata": {},
     "output_type": "display_data"
    }
   ],
   "source": [
    "shapiro.test(Hardy_scale)"
   ]
  },
  {
   "cell_type": "code",
   "execution_count": null,
   "metadata": {
    "colab": {
     "base_uri": "https://localhost:8080/",
     "height": 104
    },
    "id": "Ff871IBUwvOt",
    "outputId": "0469cea3-177f-4dbc-9d5f-f2d734ec6c0c",
    "vscode": {
     "languageId": "r"
    }
   },
   "outputs": [
    {
     "data": {
      "text/plain": [
       "\n",
       "\tShapiro-Wilk normality test\n",
       "\n",
       "data:  Heigth\n",
       "W = 0.98064, p-value = 0.04182\n"
      ]
     },
     "metadata": {},
     "output_type": "display_data"
    }
   ],
   "source": [
    "shapiro.test(Heigth)"
   ]
  },
  {
   "cell_type": "code",
   "execution_count": null,
   "metadata": {
    "colab": {
     "base_uri": "https://localhost:8080/",
     "height": 104
    },
    "id": "gLXW0tsxw0MR",
    "outputId": "51136835-1376-4caa-ae09-cbebf976c07f",
    "vscode": {
     "languageId": "r"
    }
   },
   "outputs": [
    {
     "data": {
      "text/plain": [
       "\n",
       "\tShapiro-Wilk normality test\n",
       "\n",
       "data:  Ischemic_Time\n",
       "W = 0.88707, p-value = 5.442e-09\n"
      ]
     },
     "metadata": {},
     "output_type": "display_data"
    }
   ],
   "source": [
    "shapiro.test(Ischemic_Time)\n"
   ]
  },
  {
   "cell_type": "code",
   "execution_count": 14,
   "metadata": {
    "id": "LF6Zdm2l6ipk",
    "vscode": {
     "languageId": "r"
    }
   },
   "outputs": [],
   "source": [
    "OPO = subset(clinical_data, COHORT == \"Organ Donor (OPO)\")\n",
    "POST = subset(clinical_data, COHORT == \"Postmortem\")"
   ]
  },
  {
   "attachments": {},
   "cell_type": "markdown",
   "metadata": {
    "id": "o-rDWLPSxI3b"
   },
   "source": [
    "all x values are identical"
   ]
  },
  {
   "cell_type": "code",
   "execution_count": 23,
   "metadata": {
    "colab": {
     "base_uri": "https://localhost:8080/",
     "height": 437
    },
    "id": "CXIssyTX_QOI",
    "outputId": "c584d6c1-ce70-413f-d9a1-a26a60ada1d3",
    "vscode": {
     "languageId": "r"
    }
   },
   "outputs": [
    {
     "data": {
      "image/png": "[encoded data removed]",
      "text/plain": [
       "Plot with title \"Normal Q-Q Plot\""
      ]
     },
     "metadata": {
      "image/png": {
       "height": 420,
       "width": 420
      }
     },
     "output_type": "display_data"
    }
   ],
   "source": [
    "par(cex.lab = 1.5)  # Adjust the value as per your desired font size\n",
    "qqnorm(Age)\n"
   ]
  },
  {
   "attachments": {},
   "cell_type": "markdown",
   "metadata": {
    "id": "whPUbE5UsS07"
   },
   "source": [
    "## 1.2 Correlation of the clinical variables\n",
    "\n",
    "The correlation can only be analyzed between the numerical clinical variables."
   ]
  },
  {
   "cell_type": "code",
   "execution_count": 16,
   "metadata": {
    "id": "NLSgGfBSCrc6",
    "vscode": {
     "languageId": "r"
    }
   },
   "outputs": [],
   "source": [
    "numerical_data <- clinical_data[, c(\"AGE\", \"HGHT\", \"WGHT\", \"BMI\", \"TRISCHD\")]"
   ]
  },
  {
   "cell_type": "code",
   "execution_count": null,
   "metadata": {
    "colab": {
     "base_uri": "https://localhost:8080/"
    },
    "id": "KhYsbELJDQBE",
    "outputId": "25f2b61e-f690-4cd3-be97-68a1c1ef8a71",
    "vscode": {
     "languageId": "r"
    }
   },
   "outputs": [
    {
     "name": "stderr",
     "output_type": "stream",
     "text": [
      "Installing package into ‘/usr/local/lib/R/site-library’\n",
      "(as ‘lib’ is unspecified)\n",
      "\n"
     ]
    }
   ],
   "source": [
    "install.packages(\"corrplot\")"
   ]
  },
  {
   "cell_type": "code",
   "execution_count": null,
   "metadata": {
    "colab": {
     "base_uri": "https://localhost:8080/"
    },
    "id": "WxWqqX9sFiRE",
    "outputId": "7c56d14b-440a-4490-a34d-069560fb5a7c",
    "vscode": {
     "languageId": "r"
    }
   },
   "outputs": [
    {
     "name": "stderr",
     "output_type": "stream",
     "text": [
      "corrplot 0.92 loaded\n",
      "\n"
     ]
    }
   ],
   "source": [
    "library(corrplot)\n",
    "library(ggplot2)"
   ]
  },
  {
   "cell_type": "code",
   "execution_count": 17,
   "metadata": {
    "colab": {
     "base_uri": "https://localhost:8080/"
    },
    "id": "7zrsYbXVtVxh",
    "outputId": "f7913b50-5a7c-424c-91ba-ff30eabfdbb4",
    "vscode": {
     "languageId": "r"
    }
   },
   "outputs": [
    {
     "name": "stdout",
     "output_type": "stream",
     "text": [
      "                 AGE        HGHT        WGHT          BMI     TRISCHD\n",
      "AGE      1.000000000 -0.03946346 -0.01047059  0.001525525  0.18672364\n",
      "HGHT    -0.039463456  1.00000000  0.48052359  0.124056430  0.13886352\n",
      "WGHT    -0.010470591  0.48052359  1.00000000  0.916885941  0.04901136\n",
      "BMI      0.001525525  0.12405643  0.91688594  1.000000000 -0.03367039\n",
      "TRISCHD  0.186723639  0.13886352  0.04901136 -0.033670390  1.00000000\n"
     ]
    }
   ],
   "source": [
    "correlation_matrix = cor(numerical_data, method = \"spearman\")\n",
    "print(correlation_matrix)"
   ]
  },
  {
   "attachments": {},
   "cell_type": "markdown",
   "metadata": {
    "id": "DCwZenn5IG2z"
   },
   "source": [
    "The pairs() function is used to create a matrix of scatter plots for the numerical data."
   ]
  },
  {
   "attachments": {},
   "cell_type": "markdown",
   "metadata": {
    "id": "ywd0NVFHASRg"
   },
   "source": [
    "now, we are going to perform the pearson correlatin test , to test the significance of the correlations"
   ]
  },
  {
   "cell_type": "code",
   "execution_count": null,
   "metadata": {
    "colab": {
     "base_uri": "https://localhost:8080/",
     "height": 208
    },
    "id": "zJN0FuSMAIuH",
    "outputId": "03a7a2bc-22e1-4fbf-bb17-5c3cab38a4e2",
    "vscode": {
     "languageId": "r"
    }
   },
   "outputs": [
    {
     "data": {
      "text/plain": [
       "\n",
       "\tPearson's product-moment correlation\n",
       "\n",
       "data:  BMI and Weigth\n",
       "t = 25.739, df = 140, p-value < 2.2e-16\n",
       "alternative hypothesis: true correlation is not equal to 0\n",
       "95 percent confidence interval:\n",
       " 0.8748014 0.9335925\n",
       "sample estimates:\n",
       "      cor \n",
       "0.9085966 \n"
      ]
     },
     "metadata": {},
     "output_type": "display_data"
    }
   ],
   "source": [
    "cor.test(BMI, Weigth, method = \"pearson\")"
   ]
  },
  {
   "cell_type": "code",
   "execution_count": null,
   "metadata": {
    "colab": {
     "base_uri": "https://localhost:8080/",
     "height": 208
    },
    "id": "46-7MUDjCTwi",
    "outputId": "61017578-a2fd-4a85-ec6d-632554f3f888",
    "vscode": {
     "languageId": "r"
    }
   },
   "outputs": [
    {
     "data": {
      "text/plain": [
       "\n",
       "\tPearson's product-moment correlation\n",
       "\n",
       "data:  Ischemic_Time and Age\n",
       "t = 2.2965, df = 140, p-value = 0.02313\n",
       "alternative hypothesis: true correlation is not equal to 0\n",
       "95 percent confidence interval:\n",
       " 0.02664188 0.34444936\n",
       "sample estimates:\n",
       "     cor \n",
       "0.190533 \n"
      ]
     },
     "metadata": {},
     "output_type": "display_data"
    }
   ],
   "source": [
    "cor.test(Ischemic_Time, Age, method = \"pearson\")"
   ]
  },
  {
   "cell_type": "code",
   "execution_count": null,
   "metadata": {
    "colab": {
     "base_uri": "https://localhost:8080/",
     "height": 208
    },
    "id": "wp0u_LgmCdqm",
    "outputId": "72731891-c691-4c11-c095-2c49c4ab2994",
    "vscode": {
     "languageId": "r"
    }
   },
   "outputs": [
    {
     "data": {
      "text/plain": [
       "\n",
       "\tPearson's product-moment correlation\n",
       "\n",
       "data:  Weigth and Heigth\n",
       "t = 7.1444, df = 140, p-value = 4.536e-11\n",
       "alternative hypothesis: true correlation is not equal to 0\n",
       "95 percent confidence interval:\n",
       " 0.3849394 0.6281347\n",
       "sample estimates:\n",
       "      cor \n",
       "0.5168906 \n"
      ]
     },
     "metadata": {},
     "output_type": "display_data"
    }
   ],
   "source": [
    "cor.test(Weigth, Heigth, method = \"pearson\")"
   ]
  },
  {
   "cell_type": "code",
   "execution_count": null,
   "metadata": {
    "colab": {
     "base_uri": "https://localhost:8080/",
     "height": 208
    },
    "id": "YGu7QEyuCkEM",
    "outputId": "71dfe140-ce2d-49c9-c204-23927a42eb97",
    "vscode": {
     "languageId": "r"
    }
   },
   "outputs": [
    {
     "data": {
      "text/plain": [
       "\n",
       "\tPearson's product-moment correlation\n",
       "\n",
       "data:  Ischemic_Time and Heigth\n",
       "t = 1.9277, df = 140, p-value = 0.05592\n",
       "alternative hypothesis: true correlation is not equal to 0\n",
       "95 percent confidence interval:\n",
       " -0.004036589  0.317124953\n",
       "sample estimates:\n",
       "      cor \n",
       "0.1607976 \n"
      ]
     },
     "metadata": {},
     "output_type": "display_data"
    }
   ],
   "source": [
    "cor.test(Ischemic_Time, Heigth, method = \"pearson\")"
   ]
  },
  {
   "cell_type": "code",
   "execution_count": null,
   "metadata": {
    "colab": {
     "base_uri": "https://localhost:8080/",
     "height": 208
    },
    "id": "TwlFNscUC1mx",
    "outputId": "e69a4010-9115-45be-e6fc-ddd3ed0cadb2",
    "vscode": {
     "languageId": "r"
    }
   },
   "outputs": [
    {
     "data": {
      "text/plain": [
       "\n",
       "\tPearson's product-moment correlation\n",
       "\n",
       "data:  BMI and Heigth\n",
       "t = 1.414, df = 140, p-value = 0.1596\n",
       "alternative hypothesis: true correlation is not equal to 0\n",
       "95 percent confidence interval:\n",
       " -0.0469886  0.2779515\n",
       "sample estimates:\n",
       "      cor \n",
       "0.1186571 \n"
      ]
     },
     "metadata": {},
     "output_type": "display_data"
    }
   ],
   "source": [
    "cor.test(BMI, Heigth, method = \"pearson\")"
   ]
  },
  {
   "cell_type": "code",
   "execution_count": 24,
   "metadata": {
    "colab": {
     "base_uri": "https://localhost:8080/",
     "height": 437
    },
    "id": "fUBfwMLfht74",
    "outputId": "9f9e09e3-90e0-464f-d726-c28b1d2a2273",
    "vscode": {
     "languageId": "r"
    }
   },
   "outputs": [
    {
     "data": {
      "image/png": "[encoded data removed]",
      "text/plain": [
       "plot without title"
      ]
     },
     "metadata": {
      "image/png": {
       "height": 420,
       "width": 420
      }
     },
     "output_type": "display_data"
    }
   ],
   "source": [
    "plot(BMI, Weigth, pch = 16)\n",
    "abline(lm(Weigth ~ BMI), col = \"blue\", lwd = 3)"
   ]
  },
  {
   "cell_type": "code",
   "execution_count": null,
   "metadata": {
    "colab": {
     "base_uri": "https://localhost:8080/",
     "height": 437
    },
    "id": "YpYkqjkAic4T",
    "outputId": "fc105731-84d1-49c8-f83a-191378131e91",
    "vscode": {
     "languageId": "r"
    }
   },
   "outputs": [
    {
     "data": {
      "image/png": "[encoded data removed]",
      "text/plain": [
       "Plot with title “”"
      ]
     },
     "metadata": {
      "image/png": {
       "height": 420,
       "width": 420
      }
     },
     "output_type": "display_data"
    }
   ],
   "source": [
    "#correlogram\n",
    "corrplot(correlation_matrix, addCoef.col = 'black', tl.pos = 'd',\n",
    "         cl.pos = 'n', col = COL2())"
   ]
  },
  {
   "cell_type": "code",
   "execution_count": 47,
   "metadata": {
    "colab": {
     "base_uri": "https://localhost:8080/",
     "height": 437
    },
    "id": "frBiA_uQDS1D",
    "outputId": "52667ea0-ce09-401c-9ac7-d04ed445a02f",
    "vscode": {
     "languageId": "r"
    }
   },
   "outputs": [
    {
     "data": {
      "image/png": "[encoded data removed]",
      "text/plain": [
       "plot without title"
      ]
     },
     "metadata": {
      "image/png": {
       "height": 420,
       "width": 420
      }
     },
     "output_type": "display_data"
    }
   ],
   "source": [
    "plot(Weigth, Heigth, pch = 16, col=factor(Cohort), cex.lab = 1.5)\n",
    "abline(lm(Heigth ~ Weigth), col = \"blue\", lwd = 3)\n",
    "legend(\"bottomright\",\n",
    "       legend = levels(factor(Cohort)),\n",
    "       pch = 19,\n",
    "       col = factor(levels(factor(Cohort))))\n",
    "par(cex.lab = 10, cex.axis = 10)"
   ]
  },
  {
   "cell_type": "code",
   "execution_count": 46,
   "metadata": {
    "colab": {
     "base_uri": "https://localhost:8080/",
     "height": 437
    },
    "id": "UBdSgdSaDnAN",
    "outputId": "5ec32f30-6fa1-4fe9-c0f0-6ce8488ebd25",
    "vscode": {
     "languageId": "r"
    }
   },
   "outputs": [
    {
     "data": {
      "image/png": "[encoded data removed]",
      "text/plain": [
       "plot without title"
      ]
     },
     "metadata": {
      "image/png": {
       "height": 420,
       "width": 420
      }
     },
     "output_type": "display_data"
    }
   ],
   "source": [
    "plot(Weigth, Heigth, pch = 16, col=factor(Hardy_scale), cex.lab = 1.5)\n",
    "abline(lm(Heigth ~ Weigth), col = \"blue\", lwd = 3)\n",
    "legend(\"bottomright\",\n",
    "       legend = levels(factor(Hardy_scale)),\n",
    "       pch = 19,\n",
    "       col = factor(levels(factor(Hardy_scale))))\n",
    "par(cex.lab = 10, cex.axis = 10)"
   ]
  },
  {
   "cell_type": "code",
   "execution_count": 45,
   "metadata": {
    "colab": {
     "base_uri": "https://localhost:8080/",
     "height": 437
    },
    "id": "T29yPG12Dvby",
    "outputId": "a7c95de8-261d-4f1b-8952-0207a9b6f72c",
    "vscode": {
     "languageId": "r"
    }
   },
   "outputs": [
    {
     "data": {
      "image/png": "[encoded data removed]",
      "text/plain": [
       "plot without title"
      ]
     },
     "metadata": {
      "image/png": {
       "height": 420,
       "width": 420
      }
     },
     "output_type": "display_data"
    }
   ],
   "source": [
    "plot(BMI, Weigth, pch = 16, col=factor(Cohort), cex.lab = 1.5)\n",
    "abline(lm(Weigth ~ BMI), col = \"blue\", lwd = 3)\n",
    "legend(\"bottomright\",\n",
    "       legend = levels(factor(Cohort)),\n",
    "       pch = 19,\n",
    "       col = factor(levels(factor(Cohort))))\n",
    "par(cex.lab = 10, cex.axis = 10)"
   ]
  },
  {
   "cell_type": "code",
   "execution_count": 44,
   "metadata": {
    "colab": {
     "base_uri": "https://localhost:8080/",
     "height": 437
    },
    "id": "c93pKHBFD8qe",
    "outputId": "37065c09-4ab3-4411-e395-eeaeac5806a5",
    "vscode": {
     "languageId": "r"
    }
   },
   "outputs": [
    {
     "data": {
      "image/png": "[encoded data removed]",
      "text/plain": [
       "plot without title"
      ]
     },
     "metadata": {
      "image/png": {
       "height": 420,
       "width": 420
      }
     },
     "output_type": "display_data"
    }
   ],
   "source": [
    "plot(BMI, Weigth, pch = 16, col=factor(Hardy_scale),cex.lab = 1.5)\n",
    "abline(lm(Weigth ~ BMI), col = \"blue\", lwd = 3)\n",
    "legend(\"bottomright\",\n",
    "       legend = levels(factor(Hardy_scale)),\n",
    "       pch = 19,\n",
    "       col = factor(levels(factor(Hardy_scale))))\n",
    "par(cex.lab = 10, cex.axis = 10)"
   ]
  },
  {
   "cell_type": "code",
   "execution_count": 39,
   "metadata": {
    "colab": {
     "base_uri": "https://localhost:8080/",
     "height": 437
    },
    "id": "0RcBxIQ9ED33",
    "outputId": "ae5c638a-afc9-4498-ceea-da7941c2ccc8",
    "vscode": {
     "languageId": "r"
    }
   },
   "outputs": [
    {
     "data": {
      "image/png": "[encoded data removed]",
      "text/plain": [
       "plot without title"
      ]
     },
     "metadata": {
      "image/png": {
       "height": 420,
       "width": 420
      }
     },
     "output_type": "display_data"
    }
   ],
   "source": [
    "plot(Ischemic_Time, Age, pch = 16, col=factor(Cohort),cex.lab = 1.5)\n",
    "abline(lm(Age ~ Ischemic_Time), col = \"blue\", lwd = 3)\n",
    "legend(\"bottomright\",\n",
    "       legend = levels(factor(Cohort)),\n",
    "       pch = 19,\n",
    "       col = factor(levels(factor(Cohort))))\n",
    "par(cex.lab = 10, cex.axis = 10)"
   ]
  },
  {
   "cell_type": "code",
   "execution_count": 37,
   "metadata": {
    "colab": {
     "base_uri": "https://localhost:8080/",
     "height": 437
    },
    "id": "SZ5S6aOrEhm0",
    "outputId": "7ab41c2e-b984-4f35-eda7-cfd5f0b34f59",
    "vscode": {
     "languageId": "r"
    }
   },
   "outputs": [
    {
     "data": {
      "image/png": "[encoded data removed]",
      "text/plain": [
       "plot without title"
      ]
     },
     "metadata": {
      "image/png": {
       "height": 420,
       "width": 420
      }
     },
     "output_type": "display_data"
    }
   ],
   "source": [
    "plot(Ischemic_Time, Age, pch = 16, col=factor(Hardy_scale),cex.lab = 1.5)\n",
    "abline(lm(Age ~ Ischemic_Time), col = \"blue\", lwd = 3)\n",
    "legend(\"bottomright\",\n",
    "       legend = levels(factor(Hardy_scale)),\n",
    "       pch = 19,\n",
    "       col = factor(levels(factor(Hardy_scale))))\n",
    "par(cex.lab = 10, cex.axis = 10)"
   ]
  },
  {
   "cell_type": "code",
   "execution_count": 49,
   "metadata": {
    "colab": {
     "base_uri": "https://localhost:8080/"
    },
    "id": "0GDy62IvIqj3",
    "outputId": "24097465-3b47-4c3b-f023-27d4180da9c7",
    "vscode": {
     "languageId": "r"
    }
   },
   "outputs": [
    {
     "name": "stdout",
     "output_type": "stream",
     "text": [
      "                   \n",
      "                     0  1  2  3  4\n",
      "  Organ Donor (OPO) 77  0  0  0  0\n",
      "  Postmortem         7  4 29  6 19\n"
     ]
    }
   ],
   "source": [
    "compare_table = table(as.factor(Cohort),as.factor(Hardy_scale))\n",
    "print(compare_table)\n"
   ]
  },
  {
   "cell_type": "code",
   "execution_count": 52,
   "metadata": {
    "colab": {
     "base_uri": "https://localhost:8080/",
     "height": 437
    },
    "id": "PoY_JAcNJOWS",
    "outputId": "d81c5d72-c4eb-4e5a-9b88-3b21cb6a6bf8",
    "vscode": {
     "languageId": "r"
    }
   },
   "outputs": [
    {
     "data": {
      "image/png": "[encoded data removed]",
      "text/plain": [
       "Plot with title \"Hardy scale\""
      ]
     },
     "metadata": {
      "image/png": {
       "height": 420,
       "width": 420
      }
     },
     "output_type": "display_data"
    }
   ],
   "source": [
    "\n",
    "barplot(compare_table,\n",
    "        col=c(\"black\",\"red\"),beside=TRUE)\n",
    "title(main = \"Hardy scale\", cex.main = 1.5)  \n",
    "title(xlab = \"Classes\", cex.lab = 1.5)     \n",
    "title(ylab = \"Percentage\", cex.lab = 1.5)\n",
    "legend(\"topright\", legend=c(\"Organ Donor (OPO)\", \"Postmortem\"),\n",
    "       col=c(\"black\", \"red\"), pch=20, cex=0.8)"
   ]
  },
  {
   "cell_type": "code",
   "execution_count": 60,
   "metadata": {
    "colab": {
     "base_uri": "https://localhost:8080/",
     "height": 437
    },
    "id": "EUNNT44jUABM",
    "outputId": "c21e3656-86c2-4751-d5f4-b49b30ac5ca6",
    "vscode": {
     "languageId": "r"
    }
   },
   "outputs": [
    {
     "data": {
      "image/png": "[encoded data removed]",
      "text/plain": [
       "plot without title"
      ]
     },
     "metadata": {
      "image/png": {
       "height": 420,
       "width": 420
      }
     },
     "output_type": "display_data"
    }
   ],
   "source": [
    "library(ggplot2)\n",
    "ggplot(clinical_data, aes(x=TRISCHD)) +\n",
    "  geom_histogram(fill=\"white\", colour=\"black\", binwidth=100) +\n",
    "  facet_grid(DTHHRDY ~ .) +\n",
    "  geom_bar(fill = \"lightgrey\", color = \"black\", size = 0.3) +\n",
    "  labs(title = \"Hardy scale distribution per class\", x = \"\", y = \"Frequency\") +\n",
    "  theme(plot.title = element_text(size = 23, hjust = 0.5),\n",
    "        axis.title = element_text(size = 20),\n",
    "        axis.text.x = element_text(size = 15),\n",
    "        axis.text.y = element_text(size = 15),\n",
    "        panel.background = element_rect(fill = \"white\"))\n",
    "\n"
   ]
  },
  {
   "attachments": {},
   "cell_type": "markdown",
   "metadata": {
    "id": "3vTd859aK8Dy"
   },
   "source": [
    "PCA analysis\n",
    "\n",
    "Next , The PCA analysis was performed, using the prcomp function.First a subset of the data was created, that only contains the numerical elements"
   ]
  },
  {
   "cell_type": "code",
   "execution_count": 66,
   "metadata": {
    "colab": {
     "base_uri": "https://localhost:8080/",
     "height": 1000
    },
    "id": "ICkFbMKvKZOW",
    "outputId": "e4c367a6-0bef-4b70-e671-bc5500f26f2e",
    "vscode": {
     "languageId": "r"
    }
   },
   "outputs": [
    {
     "data": {
      "text/plain": [
       "Importance of components:\n",
       "                          PC1    PC2    PC3    PC4     PC5\n",
       "Standard deviation     1.4502 1.1063 0.9805 0.8421 0.04849\n",
       "Proportion of Variance 0.4206 0.2448 0.1923 0.1418 0.00047\n",
       "Cumulative Proportion  0.4206 0.6654 0.8577 0.9995 1.00000"
      ]
     },
     "metadata": {},
     "output_type": "display_data"
    },
    {
     "name": "stdout",
     "output_type": "stream",
     "text": [
      "[1] 2.103098742 1.223966912 0.961392693 0.709190800 0.002350852\n",
      "[1] 42.06197484 24.47933824 19.22785387 14.18381601  0.04701705\n"
     ]
    },
    {
     "data": {
      "image/png": "[encoded data removed]",
      "text/plain": [
       "plot without title"
      ]
     },
     "metadata": {
      "image/png": {
       "height": 420,
       "width": 420
      }
     },
     "output_type": "display_data"
    }
   ],
   "source": [
    "num_data = clinical_data[,c(2, 3, 4, 5, 8)]\n",
    "PCA_data = scale(num_data)\n",
    "\n",
    "PCA_analysis = prcomp(PCA_data, center = TRUE, scale. = TRUE)\n",
    "summary(PCA_analysis)\n",
    "plot(PCA_analysis$x[,1], PCA_analysis$x[,2], xlab = \"PCA 1\", ylab = \"PCA 2\", col = factor(Cohort), cex.lab = 1.5) \n",
    "legend(\"topright\", legend=c(\"Organ Donor (OPO)\", \"Postmortem\"),\n",
    "       col=c(\"black\", \"red\"), pch=20, cex=0.8)\n",
    "\n",
    "# Add the dots representing the observations to the biplot\n",
    "#invisible(text(PCA_analysis$x[,1], PCA_analysis$x[,2], labels = \".\", cex = 2))\n",
    "\n",
    "# Add a legend for the arrows representing the variables\n",
    "\n",
    "\n",
    "\n",
    "print(PCA_analysis$sdev^2)# print out the eigenvalues\n",
    "print(PCA_analysis$sdev^2/sum(PCA_analysis$sdev^2)*100)#percentage of variance explained by the pca\n",
    "\n",
    "\n"
   ]
  },
  {
   "attachments": {},
   "cell_type": "markdown",
   "metadata": {},
   "source": [
    "The PCA graph was created using the 'factoextra package'"
   ]
  },
  {
   "cell_type": "code",
   "execution_count": 73,
   "metadata": {
    "colab": {
     "base_uri": "https://localhost:8080/",
     "height": 437
    },
    "id": "ZjNue6wZWpy2",
    "outputId": "b80121f1-b87e-4986-dc33-0bbf5f2050d6",
    "vscode": {
     "languageId": "r"
    }
   },
   "outputs": [
    {
     "data": {
      "image/png": "[encoded data removed]",
      "text/plain": [
       "plot without title"
      ]
     },
     "metadata": {
      "image/png": {
       "height": 420,
       "width": 420
      }
     },
     "output_type": "display_data"
    }
   ],
   "source": [
    "#install.packages(\"factoextra\")\n",
    "library(factoextra)\n",
    "fviz_pca_var(PCA_analysis,col.var = \"contrib\", gradient.cols = c(\"#00AFBB\", \"#E7B800\", \"#FC4E07\"), repel = TRUE) + \n",
    "  theme(axis.title = element_text(size = 20))\n"
   ]
  },
  {
   "cell_type": "code",
   "execution_count": 70,
   "metadata": {
    "colab": {
     "base_uri": "https://localhost:8080/",
     "height": 437
    },
    "id": "V1hsZ0x6iHYM",
    "outputId": "547b6464-3905-458b-dd27-c4996711f8e6",
    "vscode": {
     "languageId": "r"
    }
   },
   "outputs": [
    {
     "data": {
      "image/png": "[encoded data removed]",
      "text/plain": [
       "Plot with title \"Scree plot\""
      ]
     },
     "metadata": {
      "image/png": {
       "height": 420,
       "width": 420
      }
     },
     "output_type": "display_data"
    }
   ],
   "source": [
    "variances = PCA_analysis$sdev^2 / sum(PCA_analysis$sdev^2)\n",
    "cum_variances = cumsum(variances)\n",
    "barplot(cum_variances, main = \"Scree plot\", xlab = \"Cumulative Percentage of Variance Explained\", col = \"blue\", border = NA, names.arg = 1:length(cum_variances),cex.lab=1.5, cex.main=1.5)\n",
    "abline(h = 0.8, lty = 2, col = \"red\")"
   ]
  },
  {
   "cell_type": "code",
   "execution_count": 72,
   "metadata": {
    "colab": {
     "base_uri": "https://localhost:8080/",
     "height": 437
    },
    "id": "8ikCJQ24cIVT",
    "outputId": "a0f60656-617d-43ce-efbe-b8f9660ca2f8",
    "vscode": {
     "languageId": "r"
    }
   },
   "outputs": [
    {
     "data": {
      "image/png": "[encoded data removed]",
      "text/plain": [
       "plot without title"
      ]
     },
     "metadata": {
      "image/png": {
       "height": 420,
       "width": 420
      }
     },
     "output_type": "display_data"
    }
   ],
   "source": [
    "#prop_var = 100 * PCA_analysis$sdev^2 / sum(PCA_analysis$sdev^2)\n",
    "#screeplot(PCA_analysis, type = \"l\", main = \"Scree Plot\", ylim = c(0, 60), \n",
    "          #ylab = \"Percentage of variance explained\", axes = FALSE)\n",
    "#axis(2, at = seq(0, 60, by = 10), labels = seq(0, 60, by = 10))\n",
    "#lines(prop_var, type = \"b\", pch = 19, col = \"red\")\n",
    "fviz_eig(PCA_analysis, addlabels = TRUE, ylim = c(0, 50), barfill = cumsum(PCA_analysis$sdev^2)/sum(PCA_analysis$sdev^2)) + \n",
    "   theme(axis.title = element_text(size = 20)) "
   ]
  },
  {
   "cell_type": "code",
   "execution_count": 74,
   "metadata": {
    "colab": {
     "base_uri": "https://localhost:8080/",
     "height": 286
    },
    "id": "itgIKK1NMUG_",
    "outputId": "d0b20ace-bab4-4cd7-cf1a-c28da46f2bae",
    "vscode": {
     "languageId": "r"
    }
   },
   "outputs": [
    {
     "data": {
      "text/html": [
       "<table class=\"dataframe\">\n",
       "<caption>A matrix: 6 × 5 of type dbl</caption>\n",
       "<thead>\n",
       "\t<tr><th></th><th scope=col>AGE</th><th scope=col>HGHT</th><th scope=col>WGHT</th><th scope=col>BMI</th><th scope=col>TRISCHD</th></tr>\n",
       "</thead>\n",
       "<tbody>\n",
       "\t<tr><th scope=row>GTEX-1122O-0226</th><td> 0.86772570</td><td> 0.64160652</td><td> 1.49574031</td><td> 1.3791798</td><td>-1.0406059</td></tr>\n",
       "\t<tr><th scope=row>GTEX-1128S-0126</th><td> 1.02733328</td><td> 0.64160652</td><td>-0.00743612</td><td>-0.2927816</td><td> 0.8214603</td></tr>\n",
       "\t<tr><th scope=row>GTEX-113JC-0126</th><td>-0.01011597</td><td> 1.01578428</td><td> 0.62879204</td><td> 0.2300075</td><td> 0.3326977</td></tr>\n",
       "\t<tr><th scope=row>GTEX-11DXX-0226</th><td> 1.02733328</td><td> 0.01797693</td><td>-1.12607905</td><td>-1.3022222</td><td>-0.9905375</td></tr>\n",
       "\t<tr><th scope=row>GTEX-11EM3-0126</th><td>-2.56383722</td><td>-2.26866492</td><td>-1.75531569</td><td>-1.1624906</td><td>-1.0811374</td></tr>\n",
       "\t<tr><th scope=row>GTEX-11EMC-0226</th><td> 1.02733328</td><td>-1.02140573</td><td>-1.75531569</td><td>-1.6660063</td><td> 0.4638291</td></tr>\n",
       "</tbody>\n",
       "</table>\n"
      ],
      "text/latex": [
       "A matrix: 6 × 5 of type dbl\n",
       "\\begin{tabular}{r|lllll}\n",
       "  & AGE & HGHT & WGHT & BMI & TRISCHD\\\\\n",
       "\\hline\n",
       "\tGTEX-1122O-0226 &  0.86772570 &  0.64160652 &  1.49574031 &  1.3791798 & -1.0406059\\\\\n",
       "\tGTEX-1128S-0126 &  1.02733328 &  0.64160652 & -0.00743612 & -0.2927816 &  0.8214603\\\\\n",
       "\tGTEX-113JC-0126 & -0.01011597 &  1.01578428 &  0.62879204 &  0.2300075 &  0.3326977\\\\\n",
       "\tGTEX-11DXX-0226 &  1.02733328 &  0.01797693 & -1.12607905 & -1.3022222 & -0.9905375\\\\\n",
       "\tGTEX-11EM3-0126 & -2.56383722 & -2.26866492 & -1.75531569 & -1.1624906 & -1.0811374\\\\\n",
       "\tGTEX-11EMC-0226 &  1.02733328 & -1.02140573 & -1.75531569 & -1.6660063 &  0.4638291\\\\\n",
       "\\end{tabular}\n"
      ],
      "text/markdown": [
       "\n",
       "A matrix: 6 × 5 of type dbl\n",
       "\n",
       "| <!--/--> | AGE | HGHT | WGHT | BMI | TRISCHD |\n",
       "|---|---|---|---|---|---|\n",
       "| GTEX-1122O-0226 |  0.86772570 |  0.64160652 |  1.49574031 |  1.3791798 | -1.0406059 |\n",
       "| GTEX-1128S-0126 |  1.02733328 |  0.64160652 | -0.00743612 | -0.2927816 |  0.8214603 |\n",
       "| GTEX-113JC-0126 | -0.01011597 |  1.01578428 |  0.62879204 |  0.2300075 |  0.3326977 |\n",
       "| GTEX-11DXX-0226 |  1.02733328 |  0.01797693 | -1.12607905 | -1.3022222 | -0.9905375 |\n",
       "| GTEX-11EM3-0126 | -2.56383722 | -2.26866492 | -1.75531569 | -1.1624906 | -1.0811374 |\n",
       "| GTEX-11EMC-0226 |  1.02733328 | -1.02140573 | -1.75531569 | -1.6660063 |  0.4638291 |\n",
       "\n"
      ],
      "text/plain": [
       "                AGE         HGHT        WGHT        BMI        TRISCHD   \n",
       "GTEX-1122O-0226  0.86772570  0.64160652  1.49574031  1.3791798 -1.0406059\n",
       "GTEX-1128S-0126  1.02733328  0.64160652 -0.00743612 -0.2927816  0.8214603\n",
       "GTEX-113JC-0126 -0.01011597  1.01578428  0.62879204  0.2300075  0.3326977\n",
       "GTEX-11DXX-0226  1.02733328  0.01797693 -1.12607905 -1.3022222 -0.9905375\n",
       "GTEX-11EM3-0126 -2.56383722 -2.26866492 -1.75531569 -1.1624906 -1.0811374\n",
       "GTEX-11EMC-0226  1.02733328 -1.02140573 -1.75531569 -1.6660063  0.4638291"
      ]
     },
     "metadata": {},
     "output_type": "display_data"
    }
   ],
   "source": [
    "head(PCA_data)"
   ]
  },
  {
   "cell_type": "code",
   "execution_count": 75,
   "metadata": {
    "colab": {
     "base_uri": "https://localhost:8080/",
     "height": 437
    },
    "id": "Xcv72XHetztb",
    "outputId": "03fd52fc-16c6-4d61-8c01-90abdb334b6c",
    "vscode": {
     "languageId": "r"
    }
   },
   "outputs": [
    {
     "data": {
      "image/png": "[encoded data removed]",
      "text/plain": [
       "plot without title"
      ]
     },
     "metadata": {
      "image/png": {
       "height": 420,
       "width": 420
      }
     },
     "output_type": "display_data"
    }
   ],
   "source": [
    "pairs(numerical_data)"
   ]
  },
  {
   "attachments": {},
   "cell_type": "markdown",
   "metadata": {},
   "source": [
    "# TODO: insert code from group2_part2"
   ]
  },
  {
   "attachments": {},
   "cell_type": "markdown",
   "metadata": {},
   "source": [
    "## Q3 Morphology vs gene expression"
   ]
  },
  {
   "cell_type": "code",
   "execution_count": 2,
   "metadata": {
    "vscode": {
     "languageId": "r"
    }
   },
   "outputs": [
    {
     "name": "stderr",
     "output_type": "stream",
     "text": [
      "Loading required package: S4Vectors\n",
      "\n",
      "Loading required package: stats4\n",
      "\n",
      "Loading required package: BiocGenerics\n",
      "\n",
      "\n",
      "Attaching package: 'BiocGenerics'\n",
      "\n",
      "\n",
      "The following objects are masked from 'package:stats':\n",
      "\n",
      "    IQR, mad, sd, var, xtabs\n",
      "\n",
      "\n",
      "The following objects are masked from 'package:base':\n",
      "\n",
      "    anyDuplicated, append, as.data.frame, basename, cbind, colnames,\n",
      "    dirname, do.call, duplicated, eval, evalq, Filter, Find, get, grep,\n",
      "    grepl, intersect, is.unsorted, lapply, Map, mapply, match, mget,\n",
      "    order, paste, pmax, pmax.int, pmin, pmin.int, Position, rank,\n",
      "    rbind, Reduce, rownames, sapply, setdiff, sort, table, tapply,\n",
      "    union, unique, unsplit, which.max, which.min\n",
      "\n",
      "\n",
      "\n",
      "Attaching package: 'S4Vectors'\n",
      "\n",
      "\n",
      "The following objects are masked from 'package:base':\n",
      "\n",
      "    expand.grid, I, unname\n",
      "\n",
      "\n",
      "Loading required package: IRanges\n",
      "\n",
      "\n",
      "Attaching package: 'IRanges'\n",
      "\n",
      "\n",
      "The following object is masked from 'package:grDevices':\n",
      "\n",
      "    windows\n",
      "\n",
      "\n",
      "Loading required package: GenomicRanges\n",
      "\n",
      "Loading required package: GenomeInfoDb\n",
      "\n",
      "Loading required package: SummarizedExperiment\n",
      "\n",
      "Loading required package: MatrixGenerics\n",
      "\n",
      "Loading required package: matrixStats\n",
      "\n",
      "Warning message:\n",
      "\"package 'matrixStats' was built under R version 4.2.2\"\n",
      "\n",
      "Attaching package: 'MatrixGenerics'\n",
      "\n",
      "\n",
      "The following objects are masked from 'package:matrixStats':\n",
      "\n",
      "    colAlls, colAnyNAs, colAnys, colAvgsPerRowSet, colCollapse,\n",
      "    colCounts, colCummaxs, colCummins, colCumprods, colCumsums,\n",
      "    colDiffs, colIQRDiffs, colIQRs, colLogSumExps, colMadDiffs,\n",
      "    colMads, colMaxs, colMeans2, colMedians, colMins, colOrderStats,\n",
      "    colProds, colQuantiles, colRanges, colRanks, colSdDiffs, colSds,\n",
      "    colSums2, colTabulates, colVarDiffs, colVars, colWeightedMads,\n",
      "    colWeightedMeans, colWeightedMedians, colWeightedSds,\n",
      "    colWeightedVars, rowAlls, rowAnyNAs, rowAnys, rowAvgsPerColSet,\n",
      "    rowCollapse, rowCounts, rowCummaxs, rowCummins, rowCumprods,\n",
      "    rowCumsums, rowDiffs, rowIQRDiffs, rowIQRs, rowLogSumExps,\n",
      "    rowMadDiffs, rowMads, rowMaxs, rowMeans2, rowMedians, rowMins,\n",
      "    rowOrderStats, rowProds, rowQuantiles, rowRanges, rowRanks,\n",
      "    rowSdDiffs, rowSds, rowSums2, rowTabulates, rowVarDiffs, rowVars,\n",
      "    rowWeightedMads, rowWeightedMeans, rowWeightedMedians,\n",
      "    rowWeightedSds, rowWeightedVars\n",
      "\n",
      "\n",
      "Loading required package: Biobase\n",
      "\n",
      "Welcome to Bioconductor\n",
      "\n",
      "    Vignettes contain introductory material; view with\n",
      "    'browseVignettes()'. To cite Bioconductor, see\n",
      "    'citation(\"Biobase\")', and for packages 'citation(\"pkgname\")'.\n",
      "\n",
      "\n",
      "\n",
      "Attaching package: 'Biobase'\n",
      "\n",
      "\n",
      "The following object is masked from 'package:MatrixGenerics':\n",
      "\n",
      "    rowMedians\n",
      "\n",
      "\n",
      "The following objects are masked from 'package:matrixStats':\n",
      "\n",
      "    anyMissing, rowMedians\n",
      "\n",
      "\n"
     ]
    }
   ],
   "source": [
    "library(DESeq2)"
   ]
  },
  {
   "cell_type": "code",
   "execution_count": 1,
   "metadata": {
    "vscode": {
     "languageId": "r"
    }
   },
   "outputs": [
    {
     "data": {
      "text/html": [
       "<table class=\"dataframe\">\n",
       "<caption>A data.frame: 6 × 64</caption>\n",
       "<thead>\n",
       "\t<tr><th></th><th scope=col>Mophological.cluster.0</th><th scope=col>Mophological.cluster.1</th><th scope=col>Mophological.cluster.2</th><th scope=col>Mophological.cluster.3</th><th scope=col>Mophological.cluster.4</th><th scope=col>Mophological.cluster.5</th><th scope=col>Mophological.cluster.6</th><th scope=col>Mophological.cluster.7</th><th scope=col>Mophological.cluster.8</th><th scope=col>Mophological.cluster.9</th><th scope=col>⋯</th><th scope=col>Mophological.cluster.54</th><th scope=col>Mophological.cluster.55</th><th scope=col>Mophological.cluster.56</th><th scope=col>Mophological.cluster.57</th><th scope=col>Mophological.cluster.58</th><th scope=col>Mophological.cluster.59</th><th scope=col>Mophological.cluster.60</th><th scope=col>Mophological.cluster.61</th><th scope=col>Mophological.cluster.62</th><th scope=col>Mophological.cluster.63</th></tr>\n",
       "\t<tr><th></th><th scope=col>&lt;int&gt;</th><th scope=col>&lt;int&gt;</th><th scope=col>&lt;int&gt;</th><th scope=col>&lt;int&gt;</th><th scope=col>&lt;int&gt;</th><th scope=col>&lt;int&gt;</th><th scope=col>&lt;int&gt;</th><th scope=col>&lt;int&gt;</th><th scope=col>&lt;int&gt;</th><th scope=col>&lt;int&gt;</th><th scope=col>⋯</th><th scope=col>&lt;int&gt;</th><th scope=col>&lt;int&gt;</th><th scope=col>&lt;int&gt;</th><th scope=col>&lt;int&gt;</th><th scope=col>&lt;int&gt;</th><th scope=col>&lt;int&gt;</th><th scope=col>&lt;int&gt;</th><th scope=col>&lt;int&gt;</th><th scope=col>&lt;int&gt;</th><th scope=col>&lt;int&gt;</th></tr>\n",
       "</thead>\n",
       "<tbody>\n",
       "\t<tr><th scope=row>GTEX-1122O-0226</th><td>171</td><td>133</td><td>105</td><td>235</td><td> 13</td><td>399</td><td>350</td><td>681</td><td>484</td><td>105</td><td>⋯</td><td>146</td><td>264</td><td> 50</td><td> 44</td><td>30</td><td>98</td><td>1069</td><td>686</td><td>513</td><td> 84</td></tr>\n",
       "\t<tr><th scope=row>GTEX-1128S-0126</th><td>198</td><td> 60</td><td>131</td><td>345</td><td>261</td><td>332</td><td>186</td><td>285</td><td>176</td><td>135</td><td>⋯</td><td>  7</td><td>416</td><td> 65</td><td>378</td><td>63</td><td>12</td><td> 655</td><td>199</td><td>207</td><td>334</td></tr>\n",
       "\t<tr><th scope=row>GTEX-113JC-0126</th><td>175</td><td> 95</td><td> 73</td><td>160</td><td> 48</td><td>163</td><td> 93</td><td>398</td><td>301</td><td> 56</td><td>⋯</td><td> 65</td><td>224</td><td>153</td><td> 29</td><td> 5</td><td> 3</td><td> 438</td><td>232</td><td>115</td><td> 34</td></tr>\n",
       "\t<tr><th scope=row>GTEX-11DXX-0226</th><td> 79</td><td> 52</td><td>144</td><td> 20</td><td> 30</td><td>177</td><td>177</td><td> 18</td><td>462</td><td>213</td><td>⋯</td><td> 93</td><td>270</td><td> 72</td><td> 69</td><td>63</td><td> 3</td><td> 131</td><td>285</td><td> 67</td><td> 43</td></tr>\n",
       "\t<tr><th scope=row>GTEX-11EM3-0126</th><td> 20</td><td> 22</td><td>107</td><td> 74</td><td> 49</td><td>589</td><td>466</td><td> 88</td><td> 49</td><td>140</td><td>⋯</td><td> 99</td><td> 41</td><td>150</td><td> 18</td><td> 2</td><td> 2</td><td> 193</td><td> 44</td><td> 66</td><td> 24</td></tr>\n",
       "\t<tr><th scope=row>GTEX-11EMC-0226</th><td> 24</td><td> 35</td><td>161</td><td> 50</td><td>233</td><td> 84</td><td> 29</td><td> 42</td><td> 76</td><td> 65</td><td>⋯</td><td> 26</td><td> 77</td><td>114</td><td>218</td><td> 2</td><td> 0</td><td> 110</td><td> 19</td><td> 10</td><td> 70</td></tr>\n",
       "</tbody>\n",
       "</table>\n"
      ],
      "text/latex": [
       "A data.frame: 6 × 64\n",
       "\\begin{tabular}{r|lllllllllllllllllllll}\n",
       "  & Mophological.cluster.0 & Mophological.cluster.1 & Mophological.cluster.2 & Mophological.cluster.3 & Mophological.cluster.4 & Mophological.cluster.5 & Mophological.cluster.6 & Mophological.cluster.7 & Mophological.cluster.8 & Mophological.cluster.9 & ⋯ & Mophological.cluster.54 & Mophological.cluster.55 & Mophological.cluster.56 & Mophological.cluster.57 & Mophological.cluster.58 & Mophological.cluster.59 & Mophological.cluster.60 & Mophological.cluster.61 & Mophological.cluster.62 & Mophological.cluster.63\\\\\n",
       "  & <int> & <int> & <int> & <int> & <int> & <int> & <int> & <int> & <int> & <int> & ⋯ & <int> & <int> & <int> & <int> & <int> & <int> & <int> & <int> & <int> & <int>\\\\\n",
       "\\hline\n",
       "\tGTEX-1122O-0226 & 171 & 133 & 105 & 235 &  13 & 399 & 350 & 681 & 484 & 105 & ⋯ & 146 & 264 &  50 &  44 & 30 & 98 & 1069 & 686 & 513 &  84\\\\\n",
       "\tGTEX-1128S-0126 & 198 &  60 & 131 & 345 & 261 & 332 & 186 & 285 & 176 & 135 & ⋯ &   7 & 416 &  65 & 378 & 63 & 12 &  655 & 199 & 207 & 334\\\\\n",
       "\tGTEX-113JC-0126 & 175 &  95 &  73 & 160 &  48 & 163 &  93 & 398 & 301 &  56 & ⋯ &  65 & 224 & 153 &  29 &  5 &  3 &  438 & 232 & 115 &  34\\\\\n",
       "\tGTEX-11DXX-0226 &  79 &  52 & 144 &  20 &  30 & 177 & 177 &  18 & 462 & 213 & ⋯ &  93 & 270 &  72 &  69 & 63 &  3 &  131 & 285 &  67 &  43\\\\\n",
       "\tGTEX-11EM3-0126 &  20 &  22 & 107 &  74 &  49 & 589 & 466 &  88 &  49 & 140 & ⋯ &  99 &  41 & 150 &  18 &  2 &  2 &  193 &  44 &  66 &  24\\\\\n",
       "\tGTEX-11EMC-0226 &  24 &  35 & 161 &  50 & 233 &  84 &  29 &  42 &  76 &  65 & ⋯ &  26 &  77 & 114 & 218 &  2 &  0 &  110 &  19 &  10 &  70\\\\\n",
       "\\end{tabular}\n"
      ],
      "text/markdown": [
       "\n",
       "A data.frame: 6 × 64\n",
       "\n",
       "| <!--/--> | Mophological.cluster.0 &lt;int&gt; | Mophological.cluster.1 &lt;int&gt; | Mophological.cluster.2 &lt;int&gt; | Mophological.cluster.3 &lt;int&gt; | Mophological.cluster.4 &lt;int&gt; | Mophological.cluster.5 &lt;int&gt; | Mophological.cluster.6 &lt;int&gt; | Mophological.cluster.7 &lt;int&gt; | Mophological.cluster.8 &lt;int&gt; | Mophological.cluster.9 &lt;int&gt; | ⋯ ⋯ | Mophological.cluster.54 &lt;int&gt; | Mophological.cluster.55 &lt;int&gt; | Mophological.cluster.56 &lt;int&gt; | Mophological.cluster.57 &lt;int&gt; | Mophological.cluster.58 &lt;int&gt; | Mophological.cluster.59 &lt;int&gt; | Mophological.cluster.60 &lt;int&gt; | Mophological.cluster.61 &lt;int&gt; | Mophological.cluster.62 &lt;int&gt; | Mophological.cluster.63 &lt;int&gt; |\n",
       "|---|---|---|---|---|---|---|---|---|---|---|---|---|---|---|---|---|---|---|---|---|---|\n",
       "| GTEX-1122O-0226 | 171 | 133 | 105 | 235 |  13 | 399 | 350 | 681 | 484 | 105 | ⋯ | 146 | 264 |  50 |  44 | 30 | 98 | 1069 | 686 | 513 |  84 |\n",
       "| GTEX-1128S-0126 | 198 |  60 | 131 | 345 | 261 | 332 | 186 | 285 | 176 | 135 | ⋯ |   7 | 416 |  65 | 378 | 63 | 12 |  655 | 199 | 207 | 334 |\n",
       "| GTEX-113JC-0126 | 175 |  95 |  73 | 160 |  48 | 163 |  93 | 398 | 301 |  56 | ⋯ |  65 | 224 | 153 |  29 |  5 |  3 |  438 | 232 | 115 |  34 |\n",
       "| GTEX-11DXX-0226 |  79 |  52 | 144 |  20 |  30 | 177 | 177 |  18 | 462 | 213 | ⋯ |  93 | 270 |  72 |  69 | 63 |  3 |  131 | 285 |  67 |  43 |\n",
       "| GTEX-11EM3-0126 |  20 |  22 | 107 |  74 |  49 | 589 | 466 |  88 |  49 | 140 | ⋯ |  99 |  41 | 150 |  18 |  2 |  2 |  193 |  44 |  66 |  24 |\n",
       "| GTEX-11EMC-0226 |  24 |  35 | 161 |  50 | 233 |  84 |  29 |  42 |  76 |  65 | ⋯ |  26 |  77 | 114 | 218 |  2 |  0 |  110 |  19 |  10 |  70 |\n",
       "\n"
      ],
      "text/plain": [
       "                Mophological.cluster.0 Mophological.cluster.1\n",
       "GTEX-1122O-0226 171                    133                   \n",
       "GTEX-1128S-0126 198                     60                   \n",
       "GTEX-113JC-0126 175                     95                   \n",
       "GTEX-11DXX-0226  79                     52                   \n",
       "GTEX-11EM3-0126  20                     22                   \n",
       "GTEX-11EMC-0226  24                     35                   \n",
       "                Mophological.cluster.2 Mophological.cluster.3\n",
       "GTEX-1122O-0226 105                    235                   \n",
       "GTEX-1128S-0126 131                    345                   \n",
       "GTEX-113JC-0126  73                    160                   \n",
       "GTEX-11DXX-0226 144                     20                   \n",
       "GTEX-11EM3-0126 107                     74                   \n",
       "GTEX-11EMC-0226 161                     50                   \n",
       "                Mophological.cluster.4 Mophological.cluster.5\n",
       "GTEX-1122O-0226  13                    399                   \n",
       "GTEX-1128S-0126 261                    332                   \n",
       "GTEX-113JC-0126  48                    163                   \n",
       "GTEX-11DXX-0226  30                    177                   \n",
       "GTEX-11EM3-0126  49                    589                   \n",
       "GTEX-11EMC-0226 233                     84                   \n",
       "                Mophological.cluster.6 Mophological.cluster.7\n",
       "GTEX-1122O-0226 350                    681                   \n",
       "GTEX-1128S-0126 186                    285                   \n",
       "GTEX-113JC-0126  93                    398                   \n",
       "GTEX-11DXX-0226 177                     18                   \n",
       "GTEX-11EM3-0126 466                     88                   \n",
       "GTEX-11EMC-0226  29                     42                   \n",
       "                Mophological.cluster.8 Mophological.cluster.9 ⋯\n",
       "GTEX-1122O-0226 484                    105                    ⋯\n",
       "GTEX-1128S-0126 176                    135                    ⋯\n",
       "GTEX-113JC-0126 301                     56                    ⋯\n",
       "GTEX-11DXX-0226 462                    213                    ⋯\n",
       "GTEX-11EM3-0126  49                    140                    ⋯\n",
       "GTEX-11EMC-0226  76                     65                    ⋯\n",
       "                Mophological.cluster.54 Mophological.cluster.55\n",
       "GTEX-1122O-0226 146                     264                    \n",
       "GTEX-1128S-0126   7                     416                    \n",
       "GTEX-113JC-0126  65                     224                    \n",
       "GTEX-11DXX-0226  93                     270                    \n",
       "GTEX-11EM3-0126  99                      41                    \n",
       "GTEX-11EMC-0226  26                      77                    \n",
       "                Mophological.cluster.56 Mophological.cluster.57\n",
       "GTEX-1122O-0226  50                      44                    \n",
       "GTEX-1128S-0126  65                     378                    \n",
       "GTEX-113JC-0126 153                      29                    \n",
       "GTEX-11DXX-0226  72                      69                    \n",
       "GTEX-11EM3-0126 150                      18                    \n",
       "GTEX-11EMC-0226 114                     218                    \n",
       "                Mophological.cluster.58 Mophological.cluster.59\n",
       "GTEX-1122O-0226 30                      98                     \n",
       "GTEX-1128S-0126 63                      12                     \n",
       "GTEX-113JC-0126  5                       3                     \n",
       "GTEX-11DXX-0226 63                       3                     \n",
       "GTEX-11EM3-0126  2                       2                     \n",
       "GTEX-11EMC-0226  2                       0                     \n",
       "                Mophological.cluster.60 Mophological.cluster.61\n",
       "GTEX-1122O-0226 1069                    686                    \n",
       "GTEX-1128S-0126  655                    199                    \n",
       "GTEX-113JC-0126  438                    232                    \n",
       "GTEX-11DXX-0226  131                    285                    \n",
       "GTEX-11EM3-0126  193                     44                    \n",
       "GTEX-11EMC-0226  110                     19                    \n",
       "                Mophological.cluster.62 Mophological.cluster.63\n",
       "GTEX-1122O-0226 513                      84                    \n",
       "GTEX-1128S-0126 207                     334                    \n",
       "GTEX-113JC-0126 115                      34                    \n",
       "GTEX-11DXX-0226  67                      43                    \n",
       "GTEX-11EM3-0126  66                      24                    \n",
       "GTEX-11EMC-0226  10                      70                    "
      ]
     },
     "metadata": {},
     "output_type": "display_data"
    },
    {
     "data": {
      "text/html": [
       "<table class=\"dataframe\">\n",
       "<caption>A data.frame: 6 × 142</caption>\n",
       "<thead>\n",
       "\t<tr><th></th><th scope=col>GTEX-1122O-0226</th><th scope=col>GTEX-1128S-0126</th><th scope=col>GTEX-113JC-0126</th><th scope=col>GTEX-11DXX-0226</th><th scope=col>GTEX-11EM3-0126</th><th scope=col>GTEX-11EMC-0226</th><th scope=col>GTEX-11GSP-0126</th><th scope=col>GTEX-11I78-0526</th><th scope=col>GTEX-11P81-0126</th><th scope=col>GTEX-11TTK-0826</th><th scope=col>⋯</th><th scope=col>GTEX-1PBJI-0726</th><th scope=col>GTEX-1QCLZ-0626</th><th scope=col>GTEX-1QEPI-0726</th><th scope=col>GTEX-1QP28-0626</th><th scope=col>GTEX-1QP67-0326</th><th scope=col>GTEX-1QPFJ-0626</th><th scope=col>GTEX-1R46S-0426</th><th scope=col>GTEX-1R9JW-0226</th><th scope=col>GTEX-1RDX4-0926</th><th scope=col>GTEX-1S5ZU-0726</th></tr>\n",
       "\t<tr><th></th><th scope=col>&lt;int&gt;</th><th scope=col>&lt;int&gt;</th><th scope=col>&lt;int&gt;</th><th scope=col>&lt;int&gt;</th><th scope=col>&lt;int&gt;</th><th scope=col>&lt;int&gt;</th><th scope=col>&lt;int&gt;</th><th scope=col>&lt;int&gt;</th><th scope=col>&lt;int&gt;</th><th scope=col>&lt;int&gt;</th><th scope=col>⋯</th><th scope=col>&lt;int&gt;</th><th scope=col>&lt;int&gt;</th><th scope=col>&lt;int&gt;</th><th scope=col>&lt;int&gt;</th><th scope=col>&lt;int&gt;</th><th scope=col>&lt;int&gt;</th><th scope=col>&lt;int&gt;</th><th scope=col>&lt;int&gt;</th><th scope=col>&lt;int&gt;</th><th scope=col>&lt;int&gt;</th></tr>\n",
       "</thead>\n",
       "<tbody>\n",
       "\t<tr><th scope=row>ENSG00000223972.5</th><td>  0</td><td>  0</td><td> 0</td><td>  1</td><td>  0</td><td>  0</td><td> 0</td><td>  0</td><td>  0</td><td>  0</td><td>⋯</td><td>  0</td><td>  1</td><td>  0</td><td> 0</td><td>  1</td><td>  0</td><td>  0</td><td> 0</td><td>  0</td><td>  1</td></tr>\n",
       "\t<tr><th scope=row>ENSG00000227232.5</th><td>132</td><td>259</td><td>87</td><td>207</td><td>122</td><td>251</td><td>99</td><td>125</td><td>119</td><td>321</td><td>⋯</td><td>202</td><td>173</td><td>164</td><td>85</td><td>288</td><td>183</td><td>136</td><td>74</td><td>168</td><td>169</td></tr>\n",
       "\t<tr><th scope=row>ENSG00000278267.1</th><td>  0</td><td>  0</td><td> 0</td><td>  0</td><td>  0</td><td>  0</td><td> 0</td><td>  0</td><td>  0</td><td>  0</td><td>⋯</td><td>  0</td><td>  0</td><td>  0</td><td> 0</td><td>  0</td><td>  0</td><td>  0</td><td> 0</td><td>  0</td><td>  0</td></tr>\n",
       "\t<tr><th scope=row>ENSG00000243485.5</th><td>  0</td><td>  1</td><td> 1</td><td>  0</td><td>  3</td><td>  0</td><td> 0</td><td>  0</td><td>  0</td><td>  0</td><td>⋯</td><td>  0</td><td>  0</td><td>  1</td><td> 0</td><td>  0</td><td>  0</td><td>  0</td><td> 0</td><td>  1</td><td>  0</td></tr>\n",
       "\t<tr><th scope=row>ENSG00000237613.2</th><td>  0</td><td>  0</td><td> 0</td><td>  0</td><td>  1</td><td>  0</td><td> 0</td><td>  0</td><td>  0</td><td>  0</td><td>⋯</td><td>  0</td><td>  1</td><td>  0</td><td> 0</td><td>  0</td><td>  0</td><td>  0</td><td> 1</td><td>  0</td><td>  0</td></tr>\n",
       "\t<tr><th scope=row>ENSG00000268020.3</th><td>  0</td><td>  0</td><td> 0</td><td>  1</td><td>  1</td><td>  0</td><td> 1</td><td>  1</td><td>  0</td><td>  0</td><td>⋯</td><td>  0</td><td>  2</td><td>  1</td><td> 0</td><td>  1</td><td>  0</td><td>  0</td><td> 1</td><td>  0</td><td>  1</td></tr>\n",
       "</tbody>\n",
       "</table>\n"
      ],
      "text/latex": [
       "A data.frame: 6 × 142\n",
       "\\begin{tabular}{r|lllllllllllllllllllll}\n",
       "  & GTEX-1122O-0226 & GTEX-1128S-0126 & GTEX-113JC-0126 & GTEX-11DXX-0226 & GTEX-11EM3-0126 & GTEX-11EMC-0226 & GTEX-11GSP-0126 & GTEX-11I78-0526 & GTEX-11P81-0126 & GTEX-11TTK-0826 & ⋯ & GTEX-1PBJI-0726 & GTEX-1QCLZ-0626 & GTEX-1QEPI-0726 & GTEX-1QP28-0626 & GTEX-1QP67-0326 & GTEX-1QPFJ-0626 & GTEX-1R46S-0426 & GTEX-1R9JW-0226 & GTEX-1RDX4-0926 & GTEX-1S5ZU-0726\\\\\n",
       "  & <int> & <int> & <int> & <int> & <int> & <int> & <int> & <int> & <int> & <int> & ⋯ & <int> & <int> & <int> & <int> & <int> & <int> & <int> & <int> & <int> & <int>\\\\\n",
       "\\hline\n",
       "\tENSG00000223972.5 &   0 &   0 &  0 &   1 &   0 &   0 &  0 &   0 &   0 &   0 & ⋯ &   0 &   1 &   0 &  0 &   1 &   0 &   0 &  0 &   0 &   1\\\\\n",
       "\tENSG00000227232.5 & 132 & 259 & 87 & 207 & 122 & 251 & 99 & 125 & 119 & 321 & ⋯ & 202 & 173 & 164 & 85 & 288 & 183 & 136 & 74 & 168 & 169\\\\\n",
       "\tENSG00000278267.1 &   0 &   0 &  0 &   0 &   0 &   0 &  0 &   0 &   0 &   0 & ⋯ &   0 &   0 &   0 &  0 &   0 &   0 &   0 &  0 &   0 &   0\\\\\n",
       "\tENSG00000243485.5 &   0 &   1 &  1 &   0 &   3 &   0 &  0 &   0 &   0 &   0 & ⋯ &   0 &   0 &   1 &  0 &   0 &   0 &   0 &  0 &   1 &   0\\\\\n",
       "\tENSG00000237613.2 &   0 &   0 &  0 &   0 &   1 &   0 &  0 &   0 &   0 &   0 & ⋯ &   0 &   1 &   0 &  0 &   0 &   0 &   0 &  1 &   0 &   0\\\\\n",
       "\tENSG00000268020.3 &   0 &   0 &  0 &   1 &   1 &   0 &  1 &   1 &   0 &   0 & ⋯ &   0 &   2 &   1 &  0 &   1 &   0 &   0 &  1 &   0 &   1\\\\\n",
       "\\end{tabular}\n"
      ],
      "text/markdown": [
       "\n",
       "A data.frame: 6 × 142\n",
       "\n",
       "| <!--/--> | GTEX-1122O-0226 &lt;int&gt; | GTEX-1128S-0126 &lt;int&gt; | GTEX-113JC-0126 &lt;int&gt; | GTEX-11DXX-0226 &lt;int&gt; | GTEX-11EM3-0126 &lt;int&gt; | GTEX-11EMC-0226 &lt;int&gt; | GTEX-11GSP-0126 &lt;int&gt; | GTEX-11I78-0526 &lt;int&gt; | GTEX-11P81-0126 &lt;int&gt; | GTEX-11TTK-0826 &lt;int&gt; | ⋯ ⋯ | GTEX-1PBJI-0726 &lt;int&gt; | GTEX-1QCLZ-0626 &lt;int&gt; | GTEX-1QEPI-0726 &lt;int&gt; | GTEX-1QP28-0626 &lt;int&gt; | GTEX-1QP67-0326 &lt;int&gt; | GTEX-1QPFJ-0626 &lt;int&gt; | GTEX-1R46S-0426 &lt;int&gt; | GTEX-1R9JW-0226 &lt;int&gt; | GTEX-1RDX4-0926 &lt;int&gt; | GTEX-1S5ZU-0726 &lt;int&gt; |\n",
       "|---|---|---|---|---|---|---|---|---|---|---|---|---|---|---|---|---|---|---|---|---|---|\n",
       "| ENSG00000223972.5 |   0 |   0 |  0 |   1 |   0 |   0 |  0 |   0 |   0 |   0 | ⋯ |   0 |   1 |   0 |  0 |   1 |   0 |   0 |  0 |   0 |   1 |\n",
       "| ENSG00000227232.5 | 132 | 259 | 87 | 207 | 122 | 251 | 99 | 125 | 119 | 321 | ⋯ | 202 | 173 | 164 | 85 | 288 | 183 | 136 | 74 | 168 | 169 |\n",
       "| ENSG00000278267.1 |   0 |   0 |  0 |   0 |   0 |   0 |  0 |   0 |   0 |   0 | ⋯ |   0 |   0 |   0 |  0 |   0 |   0 |   0 |  0 |   0 |   0 |\n",
       "| ENSG00000243485.5 |   0 |   1 |  1 |   0 |   3 |   0 |  0 |   0 |   0 |   0 | ⋯ |   0 |   0 |   1 |  0 |   0 |   0 |   0 |  0 |   1 |   0 |\n",
       "| ENSG00000237613.2 |   0 |   0 |  0 |   0 |   1 |   0 |  0 |   0 |   0 |   0 | ⋯ |   0 |   1 |   0 |  0 |   0 |   0 |   0 |  1 |   0 |   0 |\n",
       "| ENSG00000268020.3 |   0 |   0 |  0 |   1 |   1 |   0 |  1 |   1 |   0 |   0 | ⋯ |   0 |   2 |   1 |  0 |   1 |   0 |   0 |  1 |   0 |   1 |\n",
       "\n"
      ],
      "text/plain": [
       "                  GTEX-1122O-0226 GTEX-1128S-0126 GTEX-113JC-0126\n",
       "ENSG00000223972.5   0               0              0             \n",
       "ENSG00000227232.5 132             259             87             \n",
       "ENSG00000278267.1   0               0              0             \n",
       "ENSG00000243485.5   0               1              1             \n",
       "ENSG00000237613.2   0               0              0             \n",
       "ENSG00000268020.3   0               0              0             \n",
       "                  GTEX-11DXX-0226 GTEX-11EM3-0126 GTEX-11EMC-0226\n",
       "ENSG00000223972.5   1               0               0            \n",
       "ENSG00000227232.5 207             122             251            \n",
       "ENSG00000278267.1   0               0               0            \n",
       "ENSG00000243485.5   0               3               0            \n",
       "ENSG00000237613.2   0               1               0            \n",
       "ENSG00000268020.3   1               1               0            \n",
       "                  GTEX-11GSP-0126 GTEX-11I78-0526 GTEX-11P81-0126\n",
       "ENSG00000223972.5  0                0               0            \n",
       "ENSG00000227232.5 99              125             119            \n",
       "ENSG00000278267.1  0                0               0            \n",
       "ENSG00000243485.5  0                0               0            \n",
       "ENSG00000237613.2  0                0               0            \n",
       "ENSG00000268020.3  1                1               0            \n",
       "                  GTEX-11TTK-0826 ⋯ GTEX-1PBJI-0726 GTEX-1QCLZ-0626\n",
       "ENSG00000223972.5   0             ⋯   0               1            \n",
       "ENSG00000227232.5 321             ⋯ 202             173            \n",
       "ENSG00000278267.1   0             ⋯   0               0            \n",
       "ENSG00000243485.5   0             ⋯   0               0            \n",
       "ENSG00000237613.2   0             ⋯   0               1            \n",
       "ENSG00000268020.3   0             ⋯   0               2            \n",
       "                  GTEX-1QEPI-0726 GTEX-1QP28-0626 GTEX-1QP67-0326\n",
       "ENSG00000223972.5   0              0                1            \n",
       "ENSG00000227232.5 164             85              288            \n",
       "ENSG00000278267.1   0              0                0            \n",
       "ENSG00000243485.5   1              0                0            \n",
       "ENSG00000237613.2   0              0                0            \n",
       "ENSG00000268020.3   1              0                1            \n",
       "                  GTEX-1QPFJ-0626 GTEX-1R46S-0426 GTEX-1R9JW-0226\n",
       "ENSG00000223972.5   0               0              0             \n",
       "ENSG00000227232.5 183             136             74             \n",
       "ENSG00000278267.1   0               0              0             \n",
       "ENSG00000243485.5   0               0              0             \n",
       "ENSG00000237613.2   0               0              1             \n",
       "ENSG00000268020.3   0               0              1             \n",
       "                  GTEX-1RDX4-0926 GTEX-1S5ZU-0726\n",
       "ENSG00000223972.5   0               1            \n",
       "ENSG00000227232.5 168             169            \n",
       "ENSG00000278267.1   0               0            \n",
       "ENSG00000243485.5   1               0            \n",
       "ENSG00000237613.2   0               0            \n",
       "ENSG00000268020.3   0               1            "
      ]
     },
     "metadata": {},
     "output_type": "display_data"
    }
   ],
   "source": [
    "morphological_counts = read.delim(file='morphological-counts.tsv',sep='\\t',header=TRUE,row.names=1)\n",
    "RNA_read_counts = read.delim(file='RNA-read-counts.tsv',sep='\\t',header=TRUE,row.names=1)\n",
    "RNA_read_counts = subset(RNA_read_counts, select = -1)\n",
    "#Gtex ids have lines in rna file, but dots in morph file --> change ids in rna matrix\n",
    "names(RNA_read_counts) = gsub(\"\\\\.\",\"-\",names(RNA_read_counts))\n",
    "head(morphological_counts)\n",
    "head(RNA_read_counts)"
   ]
  },
  {
   "attachments": {},
   "cell_type": "markdown",
   "metadata": {},
   "source": [
    "The provided RNA count file has no missing values"
   ]
  },
  {
   "cell_type": "code",
   "execution_count": 4,
   "metadata": {
    "vscode": {
     "languageId": "r"
    }
   },
   "outputs": [
    {
     "data": {
      "text/html": [
       "FALSE"
      ],
      "text/latex": [
       "FALSE"
      ],
      "text/markdown": [
       "FALSE"
      ],
      "text/plain": [
       "[1] FALSE"
      ]
     },
     "metadata": {},
     "output_type": "display_data"
    }
   ],
   "source": [
    "any(is.na(RNA_read_counts))\n"
   ]
  },
  {
   "attachments": {},
   "cell_type": "markdown",
   "metadata": {},
   "source": [
    "For every sample, we have the RNA counts of 56200 genes"
   ]
  },
  {
   "cell_type": "code",
   "execution_count": 13,
   "metadata": {
    "vscode": {
     "languageId": "r"
    }
   },
   "outputs": [
    {
     "data": {
      "text/html": [
       "<style>\n",
       ".list-inline {list-style: none; margin:0; padding: 0}\n",
       ".list-inline>li {display: inline-block}\n",
       ".list-inline>li:not(:last-child)::after {content: \"\\00b7\"; padding: 0 .5ex}\n",
       "</style>\n",
       "<ol class=list-inline><li>56200</li><li>142</li></ol>\n"
      ],
      "text/latex": [
       "\\begin{enumerate*}\n",
       "\\item 56200\n",
       "\\item 142\n",
       "\\end{enumerate*}\n"
      ],
      "text/markdown": [
       "1. 56200\n",
       "2. 142\n",
       "\n",
       "\n"
      ],
      "text/plain": [
       "[1] 56200   142"
      ]
     },
     "metadata": {},
     "output_type": "display_data"
    }
   ],
   "source": [
    "dim(RNA_read_counts)"
   ]
  },
  {
   "attachments": {},
   "cell_type": "markdown",
   "metadata": {},
   "source": [
    "We construct a vector containing the Median Absolute Deviation (MAD) of the RNA count of every gene. This is a measure of the variability."
   ]
  },
  {
   "cell_type": "code",
   "execution_count": 3,
   "metadata": {
    "vscode": {
     "languageId": "r"
    }
   },
   "outputs": [
    {
     "data": {
      "text/plain": [
       "    Min.  1st Qu.   Median     Mean  3rd Qu.     Max. \n",
       "     0.0      0.0      1.5    369.7     75.6 850445.3 "
      ]
     },
     "metadata": {},
     "output_type": "display_data"
    }
   ],
   "source": [
    "MADvector = c()\n",
    "for (i in 1:nrow(RNA_read_counts)){\n",
    "  MADvector = c(MADvector,mad(as.numeric(RNA_read_counts[i,])))\n",
    "}\n",
    "summary(MADvector)"
   ]
  },
  {
   "attachments": {},
   "cell_type": "markdown",
   "metadata": {},
   "source": [
    "We filter the genes based on the MAD. We want to only keep the genes with a big variability in expression, so we keep the genes with a MAD above the median. This way we discard the 50% of the dataset that varies the least."
   ]
  },
  {
   "cell_type": "code",
   "execution_count": 4,
   "metadata": {
    "vscode": {
     "languageId": "r"
    }
   },
   "outputs": [
    {
     "data": {
      "text/html": [
       "<style>\n",
       ".list-inline {list-style: none; margin:0; padding: 0}\n",
       ".list-inline>li {display: inline-block}\n",
       ".list-inline>li:not(:last-child)::after {content: \"\\00b7\"; padding: 0 .5ex}\n",
       "</style>\n",
       "<ol class=list-inline><li>27850</li><li>142</li></ol>\n"
      ],
      "text/latex": [
       "\\begin{enumerate*}\n",
       "\\item 27850\n",
       "\\item 142\n",
       "\\end{enumerate*}\n"
      ],
      "text/markdown": [
       "1. 27850\n",
       "2. 142\n",
       "\n",
       "\n"
      ],
      "text/plain": [
       "[1] 27850   142"
      ]
     },
     "metadata": {},
     "output_type": "display_data"
    }
   ],
   "source": [
    "RNA_read_counts = RNA_read_counts[which(MADvector > 1.5),]\n",
    "dim(RNA_read_counts)"
   ]
  },
  {
   "attachments": {},
   "cell_type": "markdown",
   "metadata": {},
   "source": [
    "We normalize the rows of the morphological counts by dividing each count by the total count of the row."
   ]
  },
  {
   "cell_type": "code",
   "execution_count": 5,
   "metadata": {
    "vscode": {
     "languageId": "r"
    }
   },
   "outputs": [
    {
     "data": {
      "text/html": [
       "<table class=\"dataframe\">\n",
       "<caption>A data.frame: 6 × 64</caption>\n",
       "<thead>\n",
       "\t<tr><th></th><th scope=col>Mophological.cluster.0</th><th scope=col>Mophological.cluster.1</th><th scope=col>Mophological.cluster.2</th><th scope=col>Mophological.cluster.3</th><th scope=col>Mophological.cluster.4</th><th scope=col>Mophological.cluster.5</th><th scope=col>Mophological.cluster.6</th><th scope=col>Mophological.cluster.7</th><th scope=col>Mophological.cluster.8</th><th scope=col>Mophological.cluster.9</th><th scope=col>⋯</th><th scope=col>Mophological.cluster.54</th><th scope=col>Mophological.cluster.55</th><th scope=col>Mophological.cluster.56</th><th scope=col>Mophological.cluster.57</th><th scope=col>Mophological.cluster.58</th><th scope=col>Mophological.cluster.59</th><th scope=col>Mophological.cluster.60</th><th scope=col>Mophological.cluster.61</th><th scope=col>Mophological.cluster.62</th><th scope=col>Mophological.cluster.63</th></tr>\n",
       "\t<tr><th></th><th scope=col>&lt;dbl&gt;</th><th scope=col>&lt;dbl&gt;</th><th scope=col>&lt;dbl&gt;</th><th scope=col>&lt;dbl&gt;</th><th scope=col>&lt;dbl&gt;</th><th scope=col>&lt;dbl&gt;</th><th scope=col>&lt;dbl&gt;</th><th scope=col>&lt;dbl&gt;</th><th scope=col>&lt;dbl&gt;</th><th scope=col>&lt;dbl&gt;</th><th scope=col>⋯</th><th scope=col>&lt;dbl&gt;</th><th scope=col>&lt;dbl&gt;</th><th scope=col>&lt;dbl&gt;</th><th scope=col>&lt;dbl&gt;</th><th scope=col>&lt;dbl&gt;</th><th scope=col>&lt;dbl&gt;</th><th scope=col>&lt;dbl&gt;</th><th scope=col>&lt;dbl&gt;</th><th scope=col>&lt;dbl&gt;</th><th scope=col>&lt;dbl&gt;</th></tr>\n",
       "</thead>\n",
       "<tbody>\n",
       "\t<tr><th scope=row>GTEX-1122O-0226</th><td>0.011771995</td><td>0.009155996</td><td>0.007228418</td><td>0.016177888</td><td>0.000894947</td><td>0.02746799</td><td>0.024094727</td><td>0.046881454</td><td>0.033319565</td><td>0.007228418</td><td>⋯</td><td>0.0100509431</td><td>0.018174308</td><td>0.003442104</td><td>0.003029051</td><td>0.0020652623</td><td>0.0067465235</td><td>0.07359218</td><td>0.047225664</td><td>0.035315985</td><td>0.005782734</td></tr>\n",
       "\t<tr><th scope=row>GTEX-1128S-0126</th><td>0.016727211</td><td>0.005068852</td><td>0.011066993</td><td>0.029145898</td><td>0.022049506</td><td>0.02804765</td><td>0.015713441</td><td>0.024077047</td><td>0.014868632</td><td>0.011404917</td><td>⋯</td><td>0.0005913661</td><td>0.035144040</td><td>0.005491256</td><td>0.031933767</td><td>0.0053222945</td><td>0.0010137704</td><td>0.05533497</td><td>0.016811692</td><td>0.017487539</td><td>0.028216609</td></tr>\n",
       "\t<tr><th scope=row>GTEX-113JC-0126</th><td>0.017475534</td><td>0.009486719</td><td>0.007289794</td><td>0.015977631</td><td>0.004793289</td><td>0.01627721</td><td>0.009286998</td><td>0.039744358</td><td>0.030057919</td><td>0.005592171</td><td>⋯</td><td>0.0064909127</td><td>0.022368684</td><td>0.015278610</td><td>0.002895946</td><td>0.0004993010</td><td>0.0002995806</td><td>0.04373877</td><td>0.023167565</td><td>0.011483923</td><td>0.003395247</td></tr>\n",
       "\t<tr><th scope=row>GTEX-11DXX-0226</th><td>0.009920884</td><td>0.006530202</td><td>0.018083637</td><td>0.002511616</td><td>0.003767424</td><td>0.02222780</td><td>0.022227804</td><td>0.002260455</td><td>0.058018335</td><td>0.026748713</td><td>⋯</td><td>0.0116790154</td><td>0.033906819</td><td>0.009041818</td><td>0.008665076</td><td>0.0079115911</td><td>0.0003767424</td><td>0.01645109</td><td>0.035790531</td><td>0.008413914</td><td>0.005399975</td></tr>\n",
       "\t<tr><th scope=row>GTEX-11EM3-0126</th><td>0.002532287</td><td>0.002785515</td><td>0.013547734</td><td>0.009369461</td><td>0.006204102</td><td>0.07457584</td><td>0.059002279</td><td>0.011142061</td><td>0.006204102</td><td>0.017726007</td><td>⋯</td><td>0.0125348189</td><td>0.005191188</td><td>0.018992150</td><td>0.002279058</td><td>0.0002532287</td><td>0.0002532287</td><td>0.02443657</td><td>0.005571031</td><td>0.008356546</td><td>0.003038744</td></tr>\n",
       "\t<tr><th scope=row>GTEX-11EMC-0226</th><td>0.005483208</td><td>0.007996345</td><td>0.036783185</td><td>0.011423349</td><td>0.053232808</td><td>0.01919123</td><td>0.006625543</td><td>0.009595613</td><td>0.017363491</td><td>0.014850354</td><td>⋯</td><td>0.0059401416</td><td>0.017591958</td><td>0.026045236</td><td>0.049805803</td><td>0.0004569340</td><td>0.0000000000</td><td>0.02513137</td><td>0.004340873</td><td>0.002284670</td><td>0.015992689</td></tr>\n",
       "</tbody>\n",
       "</table>\n"
      ],
      "text/latex": [
       "A data.frame: 6 × 64\n",
       "\\begin{tabular}{r|lllllllllllllllllllll}\n",
       "  & Mophological.cluster.0 & Mophological.cluster.1 & Mophological.cluster.2 & Mophological.cluster.3 & Mophological.cluster.4 & Mophological.cluster.5 & Mophological.cluster.6 & Mophological.cluster.7 & Mophological.cluster.8 & Mophological.cluster.9 & ⋯ & Mophological.cluster.54 & Mophological.cluster.55 & Mophological.cluster.56 & Mophological.cluster.57 & Mophological.cluster.58 & Mophological.cluster.59 & Mophological.cluster.60 & Mophological.cluster.61 & Mophological.cluster.62 & Mophological.cluster.63\\\\\n",
       "  & <dbl> & <dbl> & <dbl> & <dbl> & <dbl> & <dbl> & <dbl> & <dbl> & <dbl> & <dbl> & ⋯ & <dbl> & <dbl> & <dbl> & <dbl> & <dbl> & <dbl> & <dbl> & <dbl> & <dbl> & <dbl>\\\\\n",
       "\\hline\n",
       "\tGTEX-1122O-0226 & 0.011771995 & 0.009155996 & 0.007228418 & 0.016177888 & 0.000894947 & 0.02746799 & 0.024094727 & 0.046881454 & 0.033319565 & 0.007228418 & ⋯ & 0.0100509431 & 0.018174308 & 0.003442104 & 0.003029051 & 0.0020652623 & 0.0067465235 & 0.07359218 & 0.047225664 & 0.035315985 & 0.005782734\\\\\n",
       "\tGTEX-1128S-0126 & 0.016727211 & 0.005068852 & 0.011066993 & 0.029145898 & 0.022049506 & 0.02804765 & 0.015713441 & 0.024077047 & 0.014868632 & 0.011404917 & ⋯ & 0.0005913661 & 0.035144040 & 0.005491256 & 0.031933767 & 0.0053222945 & 0.0010137704 & 0.05533497 & 0.016811692 & 0.017487539 & 0.028216609\\\\\n",
       "\tGTEX-113JC-0126 & 0.017475534 & 0.009486719 & 0.007289794 & 0.015977631 & 0.004793289 & 0.01627721 & 0.009286998 & 0.039744358 & 0.030057919 & 0.005592171 & ⋯ & 0.0064909127 & 0.022368684 & 0.015278610 & 0.002895946 & 0.0004993010 & 0.0002995806 & 0.04373877 & 0.023167565 & 0.011483923 & 0.003395247\\\\\n",
       "\tGTEX-11DXX-0226 & 0.009920884 & 0.006530202 & 0.018083637 & 0.002511616 & 0.003767424 & 0.02222780 & 0.022227804 & 0.002260455 & 0.058018335 & 0.026748713 & ⋯ & 0.0116790154 & 0.033906819 & 0.009041818 & 0.008665076 & 0.0079115911 & 0.0003767424 & 0.01645109 & 0.035790531 & 0.008413914 & 0.005399975\\\\\n",
       "\tGTEX-11EM3-0126 & 0.002532287 & 0.002785515 & 0.013547734 & 0.009369461 & 0.006204102 & 0.07457584 & 0.059002279 & 0.011142061 & 0.006204102 & 0.017726007 & ⋯ & 0.0125348189 & 0.005191188 & 0.018992150 & 0.002279058 & 0.0002532287 & 0.0002532287 & 0.02443657 & 0.005571031 & 0.008356546 & 0.003038744\\\\\n",
       "\tGTEX-11EMC-0226 & 0.005483208 & 0.007996345 & 0.036783185 & 0.011423349 & 0.053232808 & 0.01919123 & 0.006625543 & 0.009595613 & 0.017363491 & 0.014850354 & ⋯ & 0.0059401416 & 0.017591958 & 0.026045236 & 0.049805803 & 0.0004569340 & 0.0000000000 & 0.02513137 & 0.004340873 & 0.002284670 & 0.015992689\\\\\n",
       "\\end{tabular}\n"
      ],
      "text/markdown": [
       "\n",
       "A data.frame: 6 × 64\n",
       "\n",
       "| <!--/--> | Mophological.cluster.0 &lt;dbl&gt; | Mophological.cluster.1 &lt;dbl&gt; | Mophological.cluster.2 &lt;dbl&gt; | Mophological.cluster.3 &lt;dbl&gt; | Mophological.cluster.4 &lt;dbl&gt; | Mophological.cluster.5 &lt;dbl&gt; | Mophological.cluster.6 &lt;dbl&gt; | Mophological.cluster.7 &lt;dbl&gt; | Mophological.cluster.8 &lt;dbl&gt; | Mophological.cluster.9 &lt;dbl&gt; | ⋯ ⋯ | Mophological.cluster.54 &lt;dbl&gt; | Mophological.cluster.55 &lt;dbl&gt; | Mophological.cluster.56 &lt;dbl&gt; | Mophological.cluster.57 &lt;dbl&gt; | Mophological.cluster.58 &lt;dbl&gt; | Mophological.cluster.59 &lt;dbl&gt; | Mophological.cluster.60 &lt;dbl&gt; | Mophological.cluster.61 &lt;dbl&gt; | Mophological.cluster.62 &lt;dbl&gt; | Mophological.cluster.63 &lt;dbl&gt; |\n",
       "|---|---|---|---|---|---|---|---|---|---|---|---|---|---|---|---|---|---|---|---|---|---|\n",
       "| GTEX-1122O-0226 | 0.011771995 | 0.009155996 | 0.007228418 | 0.016177888 | 0.000894947 | 0.02746799 | 0.024094727 | 0.046881454 | 0.033319565 | 0.007228418 | ⋯ | 0.0100509431 | 0.018174308 | 0.003442104 | 0.003029051 | 0.0020652623 | 0.0067465235 | 0.07359218 | 0.047225664 | 0.035315985 | 0.005782734 |\n",
       "| GTEX-1128S-0126 | 0.016727211 | 0.005068852 | 0.011066993 | 0.029145898 | 0.022049506 | 0.02804765 | 0.015713441 | 0.024077047 | 0.014868632 | 0.011404917 | ⋯ | 0.0005913661 | 0.035144040 | 0.005491256 | 0.031933767 | 0.0053222945 | 0.0010137704 | 0.05533497 | 0.016811692 | 0.017487539 | 0.028216609 |\n",
       "| GTEX-113JC-0126 | 0.017475534 | 0.009486719 | 0.007289794 | 0.015977631 | 0.004793289 | 0.01627721 | 0.009286998 | 0.039744358 | 0.030057919 | 0.005592171 | ⋯ | 0.0064909127 | 0.022368684 | 0.015278610 | 0.002895946 | 0.0004993010 | 0.0002995806 | 0.04373877 | 0.023167565 | 0.011483923 | 0.003395247 |\n",
       "| GTEX-11DXX-0226 | 0.009920884 | 0.006530202 | 0.018083637 | 0.002511616 | 0.003767424 | 0.02222780 | 0.022227804 | 0.002260455 | 0.058018335 | 0.026748713 | ⋯ | 0.0116790154 | 0.033906819 | 0.009041818 | 0.008665076 | 0.0079115911 | 0.0003767424 | 0.01645109 | 0.035790531 | 0.008413914 | 0.005399975 |\n",
       "| GTEX-11EM3-0126 | 0.002532287 | 0.002785515 | 0.013547734 | 0.009369461 | 0.006204102 | 0.07457584 | 0.059002279 | 0.011142061 | 0.006204102 | 0.017726007 | ⋯ | 0.0125348189 | 0.005191188 | 0.018992150 | 0.002279058 | 0.0002532287 | 0.0002532287 | 0.02443657 | 0.005571031 | 0.008356546 | 0.003038744 |\n",
       "| GTEX-11EMC-0226 | 0.005483208 | 0.007996345 | 0.036783185 | 0.011423349 | 0.053232808 | 0.01919123 | 0.006625543 | 0.009595613 | 0.017363491 | 0.014850354 | ⋯ | 0.0059401416 | 0.017591958 | 0.026045236 | 0.049805803 | 0.0004569340 | 0.0000000000 | 0.02513137 | 0.004340873 | 0.002284670 | 0.015992689 |\n",
       "\n"
      ],
      "text/plain": [
       "                Mophological.cluster.0 Mophological.cluster.1\n",
       "GTEX-1122O-0226 0.011771995            0.009155996           \n",
       "GTEX-1128S-0126 0.016727211            0.005068852           \n",
       "GTEX-113JC-0126 0.017475534            0.009486719           \n",
       "GTEX-11DXX-0226 0.009920884            0.006530202           \n",
       "GTEX-11EM3-0126 0.002532287            0.002785515           \n",
       "GTEX-11EMC-0226 0.005483208            0.007996345           \n",
       "                Mophological.cluster.2 Mophological.cluster.3\n",
       "GTEX-1122O-0226 0.007228418            0.016177888           \n",
       "GTEX-1128S-0126 0.011066993            0.029145898           \n",
       "GTEX-113JC-0126 0.007289794            0.015977631           \n",
       "GTEX-11DXX-0226 0.018083637            0.002511616           \n",
       "GTEX-11EM3-0126 0.013547734            0.009369461           \n",
       "GTEX-11EMC-0226 0.036783185            0.011423349           \n",
       "                Mophological.cluster.4 Mophological.cluster.5\n",
       "GTEX-1122O-0226 0.000894947            0.02746799            \n",
       "GTEX-1128S-0126 0.022049506            0.02804765            \n",
       "GTEX-113JC-0126 0.004793289            0.01627721            \n",
       "GTEX-11DXX-0226 0.003767424            0.02222780            \n",
       "GTEX-11EM3-0126 0.006204102            0.07457584            \n",
       "GTEX-11EMC-0226 0.053232808            0.01919123            \n",
       "                Mophological.cluster.6 Mophological.cluster.7\n",
       "GTEX-1122O-0226 0.024094727            0.046881454           \n",
       "GTEX-1128S-0126 0.015713441            0.024077047           \n",
       "GTEX-113JC-0126 0.009286998            0.039744358           \n",
       "GTEX-11DXX-0226 0.022227804            0.002260455           \n",
       "GTEX-11EM3-0126 0.059002279            0.011142061           \n",
       "GTEX-11EMC-0226 0.006625543            0.009595613           \n",
       "                Mophological.cluster.8 Mophological.cluster.9 ⋯\n",
       "GTEX-1122O-0226 0.033319565            0.007228418            ⋯\n",
       "GTEX-1128S-0126 0.014868632            0.011404917            ⋯\n",
       "GTEX-113JC-0126 0.030057919            0.005592171            ⋯\n",
       "GTEX-11DXX-0226 0.058018335            0.026748713            ⋯\n",
       "GTEX-11EM3-0126 0.006204102            0.017726007            ⋯\n",
       "GTEX-11EMC-0226 0.017363491            0.014850354            ⋯\n",
       "                Mophological.cluster.54 Mophological.cluster.55\n",
       "GTEX-1122O-0226 0.0100509431            0.018174308            \n",
       "GTEX-1128S-0126 0.0005913661            0.035144040            \n",
       "GTEX-113JC-0126 0.0064909127            0.022368684            \n",
       "GTEX-11DXX-0226 0.0116790154            0.033906819            \n",
       "GTEX-11EM3-0126 0.0125348189            0.005191188            \n",
       "GTEX-11EMC-0226 0.0059401416            0.017591958            \n",
       "                Mophological.cluster.56 Mophological.cluster.57\n",
       "GTEX-1122O-0226 0.003442104             0.003029051            \n",
       "GTEX-1128S-0126 0.005491256             0.031933767            \n",
       "GTEX-113JC-0126 0.015278610             0.002895946            \n",
       "GTEX-11DXX-0226 0.009041818             0.008665076            \n",
       "GTEX-11EM3-0126 0.018992150             0.002279058            \n",
       "GTEX-11EMC-0226 0.026045236             0.049805803            \n",
       "                Mophological.cluster.58 Mophological.cluster.59\n",
       "GTEX-1122O-0226 0.0020652623            0.0067465235           \n",
       "GTEX-1128S-0126 0.0053222945            0.0010137704           \n",
       "GTEX-113JC-0126 0.0004993010            0.0002995806           \n",
       "GTEX-11DXX-0226 0.0079115911            0.0003767424           \n",
       "GTEX-11EM3-0126 0.0002532287            0.0002532287           \n",
       "GTEX-11EMC-0226 0.0004569340            0.0000000000           \n",
       "                Mophological.cluster.60 Mophological.cluster.61\n",
       "GTEX-1122O-0226 0.07359218              0.047225664            \n",
       "GTEX-1128S-0126 0.05533497              0.016811692            \n",
       "GTEX-113JC-0126 0.04373877              0.023167565            \n",
       "GTEX-11DXX-0226 0.01645109              0.035790531            \n",
       "GTEX-11EM3-0126 0.02443657              0.005571031            \n",
       "GTEX-11EMC-0226 0.02513137              0.004340873            \n",
       "                Mophological.cluster.62 Mophological.cluster.63\n",
       "GTEX-1122O-0226 0.035315985             0.005782734            \n",
       "GTEX-1128S-0126 0.017487539             0.028216609            \n",
       "GTEX-113JC-0126 0.011483923             0.003395247            \n",
       "GTEX-11DXX-0226 0.008413914             0.005399975            \n",
       "GTEX-11EM3-0126 0.008356546             0.003038744            \n",
       "GTEX-11EMC-0226 0.002284670             0.015992689            "
      ]
     },
     "metadata": {},
     "output_type": "display_data"
    }
   ],
   "source": [
    "frequencies_clusters = data.frame(rep(list(rep(0,nrow(morphological_counts))),ncol(morphological_counts)))\n",
    "rownames(frequencies_clusters) = rownames(morphological_counts)\n",
    "names(frequencies_clusters) = names(morphological_counts)\n",
    "for (i in 1:nrow(morphological_counts)){\n",
    "  sum_r = sum(morphological_counts[i,])\n",
    "  frequencies_clusters[i,] <- morphological_counts[i,]/sum_r\n",
    "}\n",
    "head(frequencies_clusters)"
   ]
  },
  {
   "attachments": {},
   "cell_type": "markdown",
   "metadata": {},
   "source": [
    "We will run an differential gene expression analysis for every morphological cluster except for cluster 14 (index 15 in the code here) because that one contains muscle tissue. Cluster 14 is used as a control variable."
   ]
  },
  {
   "cell_type": "code",
   "execution_count": 7,
   "metadata": {
    "vscode": {
     "languageId": "r"
    }
   },
   "outputs": [
    {
     "name": "stdout",
     "output_type": "stream",
     "text": [
      "[1] \"Mophological.cluster.0\"\n"
     ]
    },
    {
     "name": "stderr",
     "output_type": "stream",
     "text": [
      "estimating size factors\n",
      "\n",
      "estimating dispersions\n",
      "\n",
      "gene-wise dispersion estimates\n",
      "\n",
      "mean-dispersion relationship\n",
      "\n",
      "final dispersion estimates\n",
      "\n",
      "fitting model and testing\n",
      "\n"
     ]
    },
    {
     "name": "stdout",
     "output_type": "stream",
     "text": [
      "[1] \"Mophological.cluster.1\"\n"
     ]
    },
    {
     "name": "stderr",
     "output_type": "stream",
     "text": [
      "estimating size factors\n",
      "\n",
      "estimating dispersions\n",
      "\n",
      "gene-wise dispersion estimates\n",
      "\n"
     ]
    },
    {
     "ename": "",
     "evalue": "",
     "output_type": "error",
     "traceback": [
      "\u001b[1;31mCanceled future for execute_request message before replies were done"
     ]
    },
    {
     "ename": "",
     "evalue": "",
     "output_type": "error",
     "traceback": [
      "\u001b[1;31mThe Kernel crashed while executing code in the the current cell or a previous cell. Please review the code in the cell(s) to identify a possible cause of the failure. Click <a href='https://aka.ms/vscodeJupyterKernelCrash'>here</a> for more info. View Jupyter <a href='command:jupyter.viewOutput'>log</a> for further details."
     ]
    }
   ],
   "source": [
    "rel_Morp = names(frequencies_clusters)[-c(15)]\n",
    "dir.create(\"results_3_1\") #create a folder on the computer to score result files\n",
    "for (i in 1:length(rel_Morp)) {\n",
    "  one_rel_Morph <- rel_Morp[i]\n",
    "  print(one_rel_Morph)\n",
    "  #design: ~ cluster_i + cluster14\n",
    "  # cluster 14 is used as control: it contains irrelevant muscle tissue\n",
    "  des <- as.formula(paste(\"~\", one_rel_Morph, \"+\", names(frequencies_clusters)[15]))\n",
    "  ddsfm <- DESeqDataSetFromMatrix(countData = RNA_read_counts,\n",
    "                                  colData = frequencies_clusters, \n",
    "                                  design = des)\n",
    "  ddsfm <- DESeq(ddsfm)\n",
    "  res <- results(ddsfm)\n",
    "  \n",
    "  # Save res as a CSV file\n",
    "  csv_file <- paste0(\"results_3_1\\\\res_\", i, \".csv\")\n",
    "  write.csv(res, file = csv_file)\n",
    "}"
   ]
  },
  {
   "attachments": {},
   "cell_type": "markdown",
   "metadata": {},
   "source": [
    "To determine for each morphological cluster, the significantly associated genes, the following datasets were loaded. These datasets contain for each morphological cluster, the log 2 fold change and adjusted p-value for each gene."
   ]
  },
  {
   "cell_type": "code",
   "execution_count": 2,
   "metadata": {
    "vscode": {
     "languageId": "r"
    }
   },
   "outputs": [
    {
     "data": {
      "text/html": [
       "63"
      ],
      "text/latex": [
       "63"
      ],
      "text/markdown": [
       "63"
      ],
      "text/plain": [
       "[1] 63"
      ]
     },
     "metadata": {},
     "output_type": "display_data"
    }
   ],
   "source": [
    "stats = lapply(paste(\"results_3_1\\\\\",list.files(path=\"results_3_1\"),sep=\"\"), read.csv)\n",
    "length(stats)"
   ]
  },
  {
   "attachments": {},
   "cell_type": "markdown",
   "metadata": {},
   "source": [
    "First of all, the number of significant down-regulated and up-regulated genes associated with each morphological cluster were determined and stored in a table. In order to account for the multiple testing problem, we divide our threshold alpha = 0.1 by 64, since we tested 64 clusters. Then, the number of genes in that subset is counted and the number of upregulated and down-regulated genes. These values are then stored in a table for each morphological cluster.\n",
    "\n",
    "TODO: waarom vinden we geen down-regulated genes"
   ]
  },
  {
   "cell_type": "code",
   "execution_count": 3,
   "metadata": {
    "vscode": {
     "languageId": "r"
    }
   },
   "outputs": [
    {
     "data": {
      "text/html": [
       "<table class=\"dataframe\">\n",
       "<caption>A data.frame: 63 × 4</caption>\n",
       "<thead>\n",
       "\t<tr><th scope=col>Cluster</th><th scope=col>Total_regulated_genes</th><th scope=col>Upregulated_genes</th><th scope=col>Downregulated_genes</th></tr>\n",
       "\t<tr><th scope=col>&lt;int&gt;</th><th scope=col>&lt;int&gt;</th><th scope=col>&lt;int&gt;</th><th scope=col>&lt;int&gt;</th></tr>\n",
       "</thead>\n",
       "<tbody>\n",
       "\t<tr><td> 0</td><td>11</td><td>11</td><td>0</td></tr>\n",
       "\t<tr><td> 1</td><td> 0</td><td> 0</td><td>0</td></tr>\n",
       "\t<tr><td> 2</td><td>13</td><td>13</td><td>0</td></tr>\n",
       "\t<tr><td> 3</td><td> 4</td><td> 4</td><td>0</td></tr>\n",
       "\t<tr><td> 4</td><td>11</td><td>11</td><td>0</td></tr>\n",
       "\t<tr><td> 5</td><td> 6</td><td> 6</td><td>0</td></tr>\n",
       "\t<tr><td> 6</td><td> 7</td><td> 7</td><td>0</td></tr>\n",
       "\t<tr><td> 7</td><td> 4</td><td> 4</td><td>0</td></tr>\n",
       "\t<tr><td> 8</td><td> 2</td><td> 2</td><td>0</td></tr>\n",
       "\t<tr><td> 9</td><td> 0</td><td> 0</td><td>0</td></tr>\n",
       "\t<tr><td>10</td><td> 7</td><td> 7</td><td>0</td></tr>\n",
       "\t<tr><td>11</td><td> 1</td><td> 1</td><td>0</td></tr>\n",
       "\t<tr><td>12</td><td>13</td><td>13</td><td>0</td></tr>\n",
       "\t<tr><td>13</td><td>11</td><td>11</td><td>0</td></tr>\n",
       "\t<tr><td>15</td><td> 9</td><td> 9</td><td>0</td></tr>\n",
       "\t<tr><td>16</td><td> 9</td><td> 9</td><td>0</td></tr>\n",
       "\t<tr><td>17</td><td>12</td><td>12</td><td>0</td></tr>\n",
       "\t<tr><td>18</td><td>15</td><td>15</td><td>0</td></tr>\n",
       "\t<tr><td>19</td><td>13</td><td>13</td><td>0</td></tr>\n",
       "\t<tr><td>20</td><td> 0</td><td> 0</td><td>0</td></tr>\n",
       "\t<tr><td>21</td><td>10</td><td>10</td><td>0</td></tr>\n",
       "\t<tr><td>22</td><td> 1</td><td> 1</td><td>0</td></tr>\n",
       "\t<tr><td>23</td><td>12</td><td>12</td><td>0</td></tr>\n",
       "\t<tr><td>24</td><td> 3</td><td> 3</td><td>0</td></tr>\n",
       "\t<tr><td>25</td><td> 7</td><td> 7</td><td>0</td></tr>\n",
       "\t<tr><td>26</td><td>12</td><td>12</td><td>0</td></tr>\n",
       "\t<tr><td>27</td><td>14</td><td>14</td><td>0</td></tr>\n",
       "\t<tr><td>28</td><td> 5</td><td> 5</td><td>0</td></tr>\n",
       "\t<tr><td>29</td><td>10</td><td>10</td><td>0</td></tr>\n",
       "\t<tr><td>30</td><td>15</td><td>15</td><td>0</td></tr>\n",
       "\t<tr><td>⋮</td><td>⋮</td><td>⋮</td><td>⋮</td></tr>\n",
       "\t<tr><td>34</td><td> 4</td><td> 4</td><td>0</td></tr>\n",
       "\t<tr><td>35</td><td>16</td><td>16</td><td>0</td></tr>\n",
       "\t<tr><td>36</td><td> 5</td><td> 5</td><td>0</td></tr>\n",
       "\t<tr><td>37</td><td>10</td><td>10</td><td>0</td></tr>\n",
       "\t<tr><td>38</td><td> 3</td><td> 3</td><td>0</td></tr>\n",
       "\t<tr><td>39</td><td>13</td><td>13</td><td>0</td></tr>\n",
       "\t<tr><td>40</td><td> 9</td><td> 9</td><td>0</td></tr>\n",
       "\t<tr><td>41</td><td>11</td><td>11</td><td>0</td></tr>\n",
       "\t<tr><td>42</td><td> 1</td><td> 1</td><td>0</td></tr>\n",
       "\t<tr><td>43</td><td>13</td><td>13</td><td>0</td></tr>\n",
       "\t<tr><td>44</td><td> 7</td><td> 7</td><td>0</td></tr>\n",
       "\t<tr><td>45</td><td>13</td><td>13</td><td>0</td></tr>\n",
       "\t<tr><td>46</td><td>12</td><td>12</td><td>0</td></tr>\n",
       "\t<tr><td>47</td><td>15</td><td>15</td><td>0</td></tr>\n",
       "\t<tr><td>48</td><td>14</td><td>14</td><td>0</td></tr>\n",
       "\t<tr><td>49</td><td> 6</td><td> 6</td><td>0</td></tr>\n",
       "\t<tr><td>50</td><td> 7</td><td> 7</td><td>0</td></tr>\n",
       "\t<tr><td>51</td><td> 8</td><td> 8</td><td>0</td></tr>\n",
       "\t<tr><td>52</td><td>12</td><td>12</td><td>0</td></tr>\n",
       "\t<tr><td>53</td><td>13</td><td>13</td><td>0</td></tr>\n",
       "\t<tr><td>54</td><td> 9</td><td> 9</td><td>0</td></tr>\n",
       "\t<tr><td>55</td><td>10</td><td>10</td><td>0</td></tr>\n",
       "\t<tr><td>56</td><td> 4</td><td> 4</td><td>0</td></tr>\n",
       "\t<tr><td>57</td><td> 6</td><td> 6</td><td>0</td></tr>\n",
       "\t<tr><td>58</td><td>11</td><td>11</td><td>0</td></tr>\n",
       "\t<tr><td>59</td><td>11</td><td>11</td><td>0</td></tr>\n",
       "\t<tr><td>60</td><td>12</td><td>12</td><td>0</td></tr>\n",
       "\t<tr><td>61</td><td> 8</td><td> 8</td><td>0</td></tr>\n",
       "\t<tr><td>62</td><td> 6</td><td> 6</td><td>0</td></tr>\n",
       "\t<tr><td>63</td><td>10</td><td>10</td><td>0</td></tr>\n",
       "</tbody>\n",
       "</table>\n"
      ],
      "text/latex": [
       "A data.frame: 63 × 4\n",
       "\\begin{tabular}{llll}\n",
       " Cluster & Total\\_regulated\\_genes & Upregulated\\_genes & Downregulated\\_genes\\\\\n",
       " <int> & <int> & <int> & <int>\\\\\n",
       "\\hline\n",
       "\t  0 & 11 & 11 & 0\\\\\n",
       "\t  1 &  0 &  0 & 0\\\\\n",
       "\t  2 & 13 & 13 & 0\\\\\n",
       "\t  3 &  4 &  4 & 0\\\\\n",
       "\t  4 & 11 & 11 & 0\\\\\n",
       "\t  5 &  6 &  6 & 0\\\\\n",
       "\t  6 &  7 &  7 & 0\\\\\n",
       "\t  7 &  4 &  4 & 0\\\\\n",
       "\t  8 &  2 &  2 & 0\\\\\n",
       "\t  9 &  0 &  0 & 0\\\\\n",
       "\t 10 &  7 &  7 & 0\\\\\n",
       "\t 11 &  1 &  1 & 0\\\\\n",
       "\t 12 & 13 & 13 & 0\\\\\n",
       "\t 13 & 11 & 11 & 0\\\\\n",
       "\t 15 &  9 &  9 & 0\\\\\n",
       "\t 16 &  9 &  9 & 0\\\\\n",
       "\t 17 & 12 & 12 & 0\\\\\n",
       "\t 18 & 15 & 15 & 0\\\\\n",
       "\t 19 & 13 & 13 & 0\\\\\n",
       "\t 20 &  0 &  0 & 0\\\\\n",
       "\t 21 & 10 & 10 & 0\\\\\n",
       "\t 22 &  1 &  1 & 0\\\\\n",
       "\t 23 & 12 & 12 & 0\\\\\n",
       "\t 24 &  3 &  3 & 0\\\\\n",
       "\t 25 &  7 &  7 & 0\\\\\n",
       "\t 26 & 12 & 12 & 0\\\\\n",
       "\t 27 & 14 & 14 & 0\\\\\n",
       "\t 28 &  5 &  5 & 0\\\\\n",
       "\t 29 & 10 & 10 & 0\\\\\n",
       "\t 30 & 15 & 15 & 0\\\\\n",
       "\t ⋮ & ⋮ & ⋮ & ⋮\\\\\n",
       "\t 34 &  4 &  4 & 0\\\\\n",
       "\t 35 & 16 & 16 & 0\\\\\n",
       "\t 36 &  5 &  5 & 0\\\\\n",
       "\t 37 & 10 & 10 & 0\\\\\n",
       "\t 38 &  3 &  3 & 0\\\\\n",
       "\t 39 & 13 & 13 & 0\\\\\n",
       "\t 40 &  9 &  9 & 0\\\\\n",
       "\t 41 & 11 & 11 & 0\\\\\n",
       "\t 42 &  1 &  1 & 0\\\\\n",
       "\t 43 & 13 & 13 & 0\\\\\n",
       "\t 44 &  7 &  7 & 0\\\\\n",
       "\t 45 & 13 & 13 & 0\\\\\n",
       "\t 46 & 12 & 12 & 0\\\\\n",
       "\t 47 & 15 & 15 & 0\\\\\n",
       "\t 48 & 14 & 14 & 0\\\\\n",
       "\t 49 &  6 &  6 & 0\\\\\n",
       "\t 50 &  7 &  7 & 0\\\\\n",
       "\t 51 &  8 &  8 & 0\\\\\n",
       "\t 52 & 12 & 12 & 0\\\\\n",
       "\t 53 & 13 & 13 & 0\\\\\n",
       "\t 54 &  9 &  9 & 0\\\\\n",
       "\t 55 & 10 & 10 & 0\\\\\n",
       "\t 56 &  4 &  4 & 0\\\\\n",
       "\t 57 &  6 &  6 & 0\\\\\n",
       "\t 58 & 11 & 11 & 0\\\\\n",
       "\t 59 & 11 & 11 & 0\\\\\n",
       "\t 60 & 12 & 12 & 0\\\\\n",
       "\t 61 &  8 &  8 & 0\\\\\n",
       "\t 62 &  6 &  6 & 0\\\\\n",
       "\t 63 & 10 & 10 & 0\\\\\n",
       "\\end{tabular}\n"
      ],
      "text/markdown": [
       "\n",
       "A data.frame: 63 × 4\n",
       "\n",
       "| Cluster &lt;int&gt; | Total_regulated_genes &lt;int&gt; | Upregulated_genes &lt;int&gt; | Downregulated_genes &lt;int&gt; |\n",
       "|---|---|---|---|\n",
       "|  0 | 11 | 11 | 0 |\n",
       "|  1 |  0 |  0 | 0 |\n",
       "|  2 | 13 | 13 | 0 |\n",
       "|  3 |  4 |  4 | 0 |\n",
       "|  4 | 11 | 11 | 0 |\n",
       "|  5 |  6 |  6 | 0 |\n",
       "|  6 |  7 |  7 | 0 |\n",
       "|  7 |  4 |  4 | 0 |\n",
       "|  8 |  2 |  2 | 0 |\n",
       "|  9 |  0 |  0 | 0 |\n",
       "| 10 |  7 |  7 | 0 |\n",
       "| 11 |  1 |  1 | 0 |\n",
       "| 12 | 13 | 13 | 0 |\n",
       "| 13 | 11 | 11 | 0 |\n",
       "| 15 |  9 |  9 | 0 |\n",
       "| 16 |  9 |  9 | 0 |\n",
       "| 17 | 12 | 12 | 0 |\n",
       "| 18 | 15 | 15 | 0 |\n",
       "| 19 | 13 | 13 | 0 |\n",
       "| 20 |  0 |  0 | 0 |\n",
       "| 21 | 10 | 10 | 0 |\n",
       "| 22 |  1 |  1 | 0 |\n",
       "| 23 | 12 | 12 | 0 |\n",
       "| 24 |  3 |  3 | 0 |\n",
       "| 25 |  7 |  7 | 0 |\n",
       "| 26 | 12 | 12 | 0 |\n",
       "| 27 | 14 | 14 | 0 |\n",
       "| 28 |  5 |  5 | 0 |\n",
       "| 29 | 10 | 10 | 0 |\n",
       "| 30 | 15 | 15 | 0 |\n",
       "| ⋮ | ⋮ | ⋮ | ⋮ |\n",
       "| 34 |  4 |  4 | 0 |\n",
       "| 35 | 16 | 16 | 0 |\n",
       "| 36 |  5 |  5 | 0 |\n",
       "| 37 | 10 | 10 | 0 |\n",
       "| 38 |  3 |  3 | 0 |\n",
       "| 39 | 13 | 13 | 0 |\n",
       "| 40 |  9 |  9 | 0 |\n",
       "| 41 | 11 | 11 | 0 |\n",
       "| 42 |  1 |  1 | 0 |\n",
       "| 43 | 13 | 13 | 0 |\n",
       "| 44 |  7 |  7 | 0 |\n",
       "| 45 | 13 | 13 | 0 |\n",
       "| 46 | 12 | 12 | 0 |\n",
       "| 47 | 15 | 15 | 0 |\n",
       "| 48 | 14 | 14 | 0 |\n",
       "| 49 |  6 |  6 | 0 |\n",
       "| 50 |  7 |  7 | 0 |\n",
       "| 51 |  8 |  8 | 0 |\n",
       "| 52 | 12 | 12 | 0 |\n",
       "| 53 | 13 | 13 | 0 |\n",
       "| 54 |  9 |  9 | 0 |\n",
       "| 55 | 10 | 10 | 0 |\n",
       "| 56 |  4 |  4 | 0 |\n",
       "| 57 |  6 |  6 | 0 |\n",
       "| 58 | 11 | 11 | 0 |\n",
       "| 59 | 11 | 11 | 0 |\n",
       "| 60 | 12 | 12 | 0 |\n",
       "| 61 |  8 |  8 | 0 |\n",
       "| 62 |  6 |  6 | 0 |\n",
       "| 63 | 10 | 10 | 0 |\n",
       "\n"
      ],
      "text/plain": [
       "   Cluster Total_regulated_genes Upregulated_genes Downregulated_genes\n",
       "1   0      11                    11                0                  \n",
       "2   1       0                     0                0                  \n",
       "3   2      13                    13                0                  \n",
       "4   3       4                     4                0                  \n",
       "5   4      11                    11                0                  \n",
       "6   5       6                     6                0                  \n",
       "7   6       7                     7                0                  \n",
       "8   7       4                     4                0                  \n",
       "9   8       2                     2                0                  \n",
       "10  9       0                     0                0                  \n",
       "11 10       7                     7                0                  \n",
       "12 11       1                     1                0                  \n",
       "13 12      13                    13                0                  \n",
       "14 13      11                    11                0                  \n",
       "15 15       9                     9                0                  \n",
       "16 16       9                     9                0                  \n",
       "17 17      12                    12                0                  \n",
       "18 18      15                    15                0                  \n",
       "19 19      13                    13                0                  \n",
       "20 20       0                     0                0                  \n",
       "21 21      10                    10                0                  \n",
       "22 22       1                     1                0                  \n",
       "23 23      12                    12                0                  \n",
       "24 24       3                     3                0                  \n",
       "25 25       7                     7                0                  \n",
       "26 26      12                    12                0                  \n",
       "27 27      14                    14                0                  \n",
       "28 28       5                     5                0                  \n",
       "29 29      10                    10                0                  \n",
       "30 30      15                    15                0                  \n",
       "⋮  ⋮       ⋮                     ⋮                 ⋮                  \n",
       "34 34       4                     4                0                  \n",
       "35 35      16                    16                0                  \n",
       "36 36       5                     5                0                  \n",
       "37 37      10                    10                0                  \n",
       "38 38       3                     3                0                  \n",
       "39 39      13                    13                0                  \n",
       "40 40       9                     9                0                  \n",
       "41 41      11                    11                0                  \n",
       "42 42       1                     1                0                  \n",
       "43 43      13                    13                0                  \n",
       "44 44       7                     7                0                  \n",
       "45 45      13                    13                0                  \n",
       "46 46      12                    12                0                  \n",
       "47 47      15                    15                0                  \n",
       "48 48      14                    14                0                  \n",
       "49 49       6                     6                0                  \n",
       "50 50       7                     7                0                  \n",
       "51 51       8                     8                0                  \n",
       "52 52      12                    12                0                  \n",
       "53 53      13                    13                0                  \n",
       "54 54       9                     9                0                  \n",
       "55 55      10                    10                0                  \n",
       "56 56       4                     4                0                  \n",
       "57 57       6                     6                0                  \n",
       "58 58      11                    11                0                  \n",
       "59 59      11                    11                0                  \n",
       "60 60      12                    12                0                  \n",
       "61 61       8                     8                0                  \n",
       "62 62       6                     6                0                  \n",
       "63 63      10                    10                0                  "
      ]
     },
     "metadata": {},
     "output_type": "display_data"
    }
   ],
   "source": [
    "#Create a table with the numer of up- and down regulated genes for each cluster\n",
    "sign_genes = data.frame(matrix(ncol=3, nrow=63))\n",
    "colnames(sign_genes)=c(\"Total_regulated_genes\", \"Upregulated_genes\", \"Downregulated_genes\")\n",
    "threshold = 0.1/64\n",
    "i = 1\n",
    "for (s in stats) {\n",
    "    #The number of significant genes\n",
    "    significant = subset(s, padj < threshold)\n",
    "    sign_genes[i,]$Total_regulated_genes = nrow(significant)\n",
    "\n",
    "    #The number of up-regulated genes\n",
    "    up = subset(significant, log2FoldChange > 0)\n",
    "    sign_genes[i,]$Upregulated_genes = nrow(up)\n",
    "\n",
    "    #The number of down-regulated genes\n",
    "    down = subset(significant, log2FoldChange < 0)\n",
    "    sign_genes[i,]$Downregulated_genes = nrow(down)\n",
    "    i = i+1\n",
    "}\n",
    "sign_genes = cbind(Cluster=seq(0,63)[-15], sign_genes)\n",
    "sign_genes"
   ]
  },
  {
   "cell_type": "code",
   "execution_count": 89,
   "metadata": {
    "scrolled": true,
    "vscode": {
     "languageId": "r"
    }
   },
   "outputs": [
    {
     "name": "stdout",
     "output_type": "stream",
     "text": [
      "% latex table generated in R 4.2.1 by xtable 1.8-4 package\n",
      "% Thu Jun  1 16:36:48 2023\n",
      "\\begin{longtable}{rrrr}\n",
      "  \\hline\n",
      "Cluster & Up-regulated genes & Down-regulated genes & Total regulated genes \\\\ \n",
      "  \\hline\n",
      "  0 &  11 &   0 &  11 \\\\ \n",
      "    1 &   0 &   0 &   0 \\\\ \n",
      "    2 &  13 &   0 &  13 \\\\ \n",
      "    3 &   4 &   0 &   4 \\\\ \n",
      "    4 &  11 &   0 &  11 \\\\ \n",
      "    5 &   6 &   0 &   6 \\\\ \n",
      "    6 &   7 &   0 &   7 \\\\ \n",
      "    7 &   4 &   0 &   4 \\\\ \n",
      "    8 &   2 &   0 &   2 \\\\ \n",
      "    9 &   0 &   0 &   0 \\\\ \n",
      "   10 &   7 &   0 &   7 \\\\ \n",
      "   11 &   1 &   0 &   1 \\\\ \n",
      "   12 &  13 &   0 &  13 \\\\ \n",
      "   13 &  11 &   0 &  11 \\\\ \n",
      "   15 &   9 &   0 &   9 \\\\ \n",
      "   16 &   9 &   0 &   9 \\\\ \n",
      "   17 &  12 &   0 &  12 \\\\ \n",
      "   18 &  15 &   0 &  15 \\\\ \n",
      "   19 &  13 &   0 &  13 \\\\ \n",
      "   20 &   0 &   0 &   0 \\\\ \n",
      "   21 &  10 &   0 &  10 \\\\ \n",
      "   22 &   1 &   0 &   1 \\\\ \n",
      "   23 &  12 &   0 &  12 \\\\ \n",
      "   24 &   3 &   0 &   3 \\\\ \n",
      "   25 &   7 &   0 &   7 \\\\ \n",
      "   26 &  12 &   0 &  12 \\\\ \n",
      "   27 &  14 &   0 &  14 \\\\ \n",
      "   28 &   5 &   0 &   5 \\\\ \n",
      "   29 &  10 &   0 &  10 \\\\ \n",
      "   30 &  15 &   0 &  15 \\\\ \n",
      "   31 &   8 &   0 &   8 \\\\ \n",
      "   32 &   0 &   0 &   0 \\\\ \n",
      "   33 &  12 &   0 &  12 \\\\ \n",
      "   34 &   4 &   0 &   4 \\\\ \n",
      "   35 &  16 &   0 &  16 \\\\ \n",
      "   36 &   5 &   0 &   5 \\\\ \n",
      "   37 &  10 &   0 &  10 \\\\ \n",
      "   38 &   3 &   0 &   3 \\\\ \n",
      "   39 &  13 &   0 &  13 \\\\ \n",
      "   40 &   9 &   0 &   9 \\\\ \n",
      "   41 &  11 &   0 &  11 \\\\ \n",
      "   42 &   1 &   0 &   1 \\\\ \n",
      "   43 &  13 &   0 &  13 \\\\ \n",
      "   44 &   7 &   0 &   7 \\\\ \n",
      "   45 &  13 &   0 &  13 \\\\ \n",
      "   46 &  12 &   0 &  12 \\\\ \n",
      "   47 &  15 &   0 &  15 \\\\ \n",
      "   48 &  14 &   0 &  14 \\\\ \n",
      "   49 &   6 &   0 &   6 \\\\ \n",
      "   50 &   7 &   0 &   7 \\\\ \n",
      "   51 &   8 &   0 &   8 \\\\ \n",
      "   52 &  12 &   0 &  12 \\\\ \n",
      "   53 &  13 &   0 &  13 \\\\ \n",
      "   54 &   9 &   0 &   9 \\\\ \n",
      "   55 &  10 &   0 &  10 \\\\ \n",
      "   56 &   4 &   0 &   4 \\\\ \n",
      "   57 &   6 &   0 &   6 \\\\ \n",
      "   58 &  11 &   0 &  11 \\\\ \n",
      "   59 &  11 &   0 &  11 \\\\ \n",
      "   60 &  12 &   0 &  12 \\\\ \n",
      "   61 &   8 &   0 &   8 \\\\ \n",
      "   62 &   6 &   0 &   6 \\\\ \n",
      "   63 &  10 &   0 &  10 \\\\ \n",
      "   \\hline\n",
      "\\hline\n",
      "\\end{longtable}\n"
     ]
    }
   ],
   "source": [
    "# To print the latex code\n",
    "significant_genes_xtable = xtable(significant_genes_table)\n",
    "latex_code = print.xtable(significant_genes_xtable,tabular.environment = \"longtable\", floating = FALSE,include.rownames = FALSE)"
   ]
  },
  {
   "attachments": {},
   "cell_type": "markdown",
   "metadata": {},
   "source": [
    "Do determine which genes are the most upregulated, a new dataset was made including all the up-regulated genes."
   ]
  },
  {
   "cell_type": "code",
   "execution_count": 7,
   "metadata": {
    "vscode": {
     "languageId": "r"
    }
   },
   "outputs": [],
   "source": [
    "# Create an empty list to store the subsets\n",
    "subset_list = list()\n",
    "\n",
    "# Function to store significant genes\n",
    "store_significant_genes <- function(cluster) {\n",
    "  threshold = 0.1 / 64\n",
    "  \n",
    "  # Filter significant genes based on the threshold\n",
    "  significant_genes <- subset(cluster, padj < threshold)    \n",
    "  \n",
    "  # Add the subset to the list\n",
    "  subset_list <<- append(subset_list, list(significant_genes))\n",
    "}\n",
    "\n",
    "for (dataset in stats) {\n",
    "  store_significant_genes(dataset)\n",
    "}"
   ]
  },
  {
   "cell_type": "code",
   "execution_count": 8,
   "metadata": {
    "vscode": {
     "languageId": "r"
    }
   },
   "outputs": [],
   "source": [
    "# Combine the subsets into one dataset\n",
    "combined_dataset = bind_rows(subset_list)\n",
    "\n",
    "ordered_combined_dataset = combined_dataset %>%\n",
    "    arrange(padj)"
   ]
  },
  {
   "cell_type": "code",
   "execution_count": 9,
   "metadata": {
    "vscode": {
     "languageId": "r"
    }
   },
   "outputs": [
    {
     "name": "stdout",
     "output_type": "stream",
     "text": [
      "                    X baseMean log2FoldChange    lfcSE     stat       pvalue\n",
      "1  ENSG00000177791.11 288.5799       42.73432 5.167865 8.269242 1.348133e-16\n",
      "2  ENSG00000177791.11 288.5799       42.70095 5.166966 8.264221 1.406104e-16\n",
      "3  ENSG00000068976.13 800.6482       43.25370 5.251013 8.237211 1.762719e-16\n",
      "4  ENSG00000068976.13 800.6482       43.17253 5.250647 8.222327 1.995927e-16\n",
      "5  ENSG00000177791.11 288.5799       42.26015 5.160528 8.189114 2.631571e-16\n",
      "6  ENSG00000177791.11 288.5799       40.94918 5.053901 8.102490 5.384576e-16\n",
      "7  ENSG00000068976.13 800.6482       42.79868 5.240472 8.166952 3.162792e-16\n",
      "8  ENSG00000177791.11 288.5799       42.26100 5.180419 8.157834 3.410857e-16\n",
      "9  ENSG00000177791.11 288.5799       41.84001 5.166408 8.098471 5.565404e-16\n",
      "10 ENSG00000068976.13 800.6482       42.56116 5.270594 8.075212 6.735950e-16\n",
      "           padj\n",
      "1  3.244955e-12\n",
      "2  3.840070e-12\n",
      "3  4.909172e-12\n",
      "4  5.127536e-12\n",
      "5  6.902610e-12\n",
      "6  7.498022e-12\n",
      "7  7.498022e-12\n",
      "8  9.499236e-12\n",
      "9  1.549965e-11\n",
      "10 1.875962e-11\n"
     ]
    }
   ],
   "source": [
    "print(ordered_combined_dataset[1:10,])"
   ]
  },
  {
   "cell_type": "code",
   "execution_count": 22,
   "metadata": {
    "vscode": {
     "languageId": "r"
    }
   },
   "outputs": [
    {
     "name": "stdout",
     "output_type": "stream",
     "text": [
      "                    X  baseMean log2FoldChange    lfcSE     stat       pvalue\n",
      "1  ENSG00000177791.11 288.57992       42.73432 5.167865 8.269242 1.348133e-16\n",
      "2  ENSG00000068976.13 800.64816       43.25370 5.251013 8.237211 1.762719e-16\n",
      "3   ENSG00000164879.6 260.92209       37.09716 4.721802 7.856569 3.947997e-15\n",
      "4  ENSG00000196218.12 327.24179       42.61489 5.488603 7.764251 8.212891e-15\n",
      "5   ENSG00000160808.9  93.32346       43.15085 5.686667 7.588075 3.246931e-14\n",
      "6   ENSG00000187642.9  53.75550       42.00426 5.751366 7.303355 2.806803e-13\n",
      "7   ENSG00000265142.8  23.71377       42.78964 6.273410 6.820795 9.053785e-12\n",
      "8  ENSG00000101306.10  42.60544       42.45490 6.384114 6.650085 2.929239e-11\n",
      "9   ENSG00000185482.7 220.34665       30.73581 4.680425 6.566885 5.137864e-11\n",
      "10 ENSG00000138100.13  66.06091       40.00902 6.352761 6.297895 3.017156e-10\n",
      "           padj\n",
      "1  3.244955e-12\n",
      "2  4.909172e-12\n",
      "3  1.099517e-10\n",
      "4  1.143645e-10\n",
      "5  9.042703e-10\n",
      "6  2.605649e-09\n",
      "7  5.042958e-08\n",
      "8  1.631586e-07\n",
      "9  4.157339e-07\n",
      "10 1.680556e-06\n"
     ]
    }
   ],
   "source": [
    "distinct_upregulated = list()\n",
    "top_10 = NULL\n",
    "i = 1\n",
    "while (length(distinct_upregulated) < 10) {\n",
    "    name = ordered_combined_dataset[i,]$X\n",
    "    if (!(name %in% top_10)) {\n",
    "        top_10 = c(top_10, name)\n",
    "        distinct_upregulated = append(distinct_upregulated, list(ordered_combined_dataset[i,]))\n",
    "    }\n",
    "    i = i+1\n",
    "}\n",
    "print(bind_rows(distinct_upregulated))"
   ]
  },
  {
   "cell_type": "code",
   "execution_count": 191,
   "metadata": {
    "vscode": {
     "languageId": "r"
    }
   },
   "outputs": [
    {
     "name": "stdout",
     "output_type": "stream",
     "text": [
      "[1] 1\n",
      "[1] 5\n",
      "[1] 9\n",
      "[1] 13\n",
      "[1] 20\n",
      "[1] 22\n",
      "[1] 25\n",
      "[1] 26\n",
      "[1] 33\n",
      "[1] 36\n",
      "[1] 39\n",
      "[1] 40\n",
      "[1] 42\n",
      "[1] 44\n",
      "[1] 46\n",
      "[1] 48\n",
      "[1] 50\n",
      "[1] 51\n",
      "[1] 52\n",
      "[1] 56\n",
      "[1] 57\n",
      "[1] 61\n"
     ]
    }
   ],
   "source": [
    "gene_id = top_10[10]\n",
    "\n",
    "for (dataset_name in seq_along(subset_list)) {\n",
    "    dataset = subset_list[[dataset_name]]\n",
    "    \n",
    "    if (gene_id %in% dataset[,1]){\n",
    "        print(dataset_name)\n",
    "    }\n",
    "}\n",
    "\n",
    "# Because the numbering starts at 0 and cluster 14 was left out,\n",
    "# The numbers below 14 should be decreased by 1 to find the actual cluster number."
   ]
  },
  {
   "attachments": {},
   "cell_type": "markdown",
   "metadata": {},
   "source": [
    "The next step is to identify the genes that occur in the top 10. This was done using the package *entrez*."
   ]
  },
  {
   "cell_type": "code",
   "execution_count": null,
   "metadata": {
    "vscode": {
     "languageId": "r"
    }
   },
   "outputs": [],
   "source": [
    "# KAN IEMAND BIOMART INSTALLEREN EN DIT LADEN PLSSS\n",
    "library(biomaRt)\n",
    "mart <- useMart(\"ensembl\", dataset = \"hsapiens_gene_ensembl\")\n",
    "\n",
    "top_10_id = c('ENSG00000177791','ENSG00000068976','ENSG00000164879','ENSG00000196218','ENSG00000160808','ENSG00000187642','ENSG00000265142','ENSG00000101306','ENSG00000185482','ENSG00000138100')\n",
    "\n",
    "gene_info1 <- getBM(attributes = c(\"ensembl_gene_id\", \"external_gene_name\"), filters = \"ensembl_gene_id\", values = top_10_id[1], mart = mart)\n",
    "print(gene_info1)\n",
    "\n",
    "gene_info2 <- getBM(attributes = c(\"ensembl_gene_id\", \"external_gene_name\"), filters = \"ensembl_gene_id\", values = top_10_id[2], mart = mart)\n",
    "print(gene_info2)\n",
    "\n",
    "gene_info3 <- getBM(attributes = c(\"ensembl_gene_id\", \"external_gene_name\"), filters = \"ensembl_gene_id\", values = top_10_id[3], mart = mart)\n",
    "print(gene_info3)\n",
    "\n",
    "gene_info4 <- getBM(attributes = c(\"ensembl_gene_id\", \"external_gene_name\"), filters = \"ensembl_gene_id\", values = top_10_id[4], mart = mart)\n",
    "print(gene_info4)\n",
    "\n",
    "gene_info5 <- getBM(attributes = c(\"ensembl_gene_id\", \"external_gene_name\"), filters = \"ensembl_gene_id\", values = top_10_id[5], mart = mart)\n",
    "print(gene_info5)\n",
    "\n",
    "gene_info6 <- getBM(attributes = c(\"ensembl_gene_id\", \"external_gene_name\"), filters = \"ensembl_gene_id\", values = top_10_id[6], mart = mart)\n",
    "print(gene_info6)\n",
    "\n",
    "gene_info7 <- getBM(attributes = c(\"ensembl_gene_id\", \"external_gene_name\"), filters = \"ensembl_gene_id\", values = top_10_id[7], mart = mart)\n",
    "print(gene_info7)\n",
    "\n",
    "gene_info8 <- getBM(attributes = c(\"ensembl_gene_id\", \"external_gene_name\"), filters = \"ensembl_gene_id\", values = top_10_id[8], mart = mart)\n",
    "print(gene_info8)\n",
    "\n",
    "gene_info9 <- getBM(attributes = c(\"ensembl_gene_id\", \"external_gene_name\"), filters = \"ensembl_gene_id\", values = top_10_id[9], mart = mart)\n",
    "print(gene_info9)\n",
    "\n",
    "gene_info10 <- getBM(attributes = c(\"ensembl_gene_id\", \"external_gene_name\"), filters = \"ensembl_gene_id\", values = top_10_id[10], mart = mart)\n",
    "print(gene_info10)"
   ]
  }
 ],
 "metadata": {
  "colab": {
   "provenance": []
  },
  "kernelspec": {
   "display_name": "R",
   "language": "R",
   "name": "ir"
  },
  "language_info": {
   "codemirror_mode": "r",
   "file_extension": ".r",
   "mimetype": "text/x-r-source",
   "name": "R",
   "pygments_lexer": "r",
   "version": "4.2.1"
  }
 },
 "nbformat": 4,
 "nbformat_minor": 1
}
