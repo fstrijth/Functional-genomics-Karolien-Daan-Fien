{
 "cells": [
  {
   "cell_type": "markdown",
   "id": "e0cbe424",
   "metadata": {},
   "source": [
    "# Statistical foundations of machine learning (INFO-F422)\n",
    "\n",
    "A project by Daan Vandenberge (000577772) and Karolien Heymans (000577754).\n",
    "\n",
    "For this project, multiple models were created to predict the damage on buildings after an earthquake. A large training dataset was constructed after the earthquake with multiple features for each house, together with a value for its total damage. The goal is to predict for a given test set which houses will be damaged the most. This information could then be usefull in the future to asses and prevent damage."
   ]
  },
  {
   "cell_type": "code",
   "execution_count": 5,
   "id": "14c34aef",
   "metadata": {},
   "outputs": [
    {
     "name": "stderr",
     "output_type": "stream",
     "text": [
      "Loading required package: Rcpp\n",
      "\n",
      "\n",
      "Attaching package: 'RSNNS'\n",
      "\n",
      "\n",
      "The following objects are masked from 'package:caret':\n",
      "\n",
      "    confusionMatrix, train\n",
      "\n",
      "\n"
     ]
    }
   ],
   "source": [
    "library(dplyr)\n",
    "library(tidyr)\n",
    "library(caret)\n",
    "library(ggplot2)\n",
    "library(GGally)\n",
    "library(corrplot)\n",
    "library(rpart)\n",
    "library(nnet)\n",
    "library(devtools)\n",
    "library(RSNNS)"
   ]
  },
  {
   "cell_type": "code",
   "execution_count": 6,
   "id": "93414920",
   "metadata": {},
   "outputs": [],
   "source": [
    "# Load the data\n",
    "# row.names = 1: to use the first column of the dataset as the index\n",
    "training_values = read.csv('train_values.csv', header = TRUE, row.names = 1)\n",
    "training_labels = read.csv('train_labels.csv', header = TRUE, row.names = 1)\n",
    "test_values = read.csv('test_values.csv',header = TRUE, row.names = 1)\n",
    "test_labels = read.csv('submission_format.csv',header = TRUE, row.names = 1)"
   ]
  },
  {
   "cell_type": "markdown",
   "id": "2034bb36",
   "metadata": {},
   "source": [
    "## 1. Data exploration and preprocessing\n",
    "### 1.1. Content of the datasets\n",
    "\n",
    "Since this project makes use of a large dataset that contains many features, it is important to do an initial explortation of the data before anything else. The following data was provided:\n",
    "* The training_values dataset contains the features that will be used to train the model in which each building can by identified by its unique building_id. The building_id us used as an index.\n",
    "* The training_labels dataset contains for every building_id its corresponding label which indicates the level of damage that was caused to the building due to the earthquake.\n",
    "\n",
    "Our goals is to create a model that can predict the level of damage to buildings. To test the mode, the test_values dataset will be used for which no labels are given."
   ]
  },
  {
   "cell_type": "code",
   "execution_count": 7,
   "id": "47382ce4",
   "metadata": {},
   "outputs": [
    {
     "data": {
      "text/html": [
       "<style>\n",
       ".list-inline {list-style: none; margin:0; padding: 0}\n",
       ".list-inline>li {display: inline-block}\n",
       ".list-inline>li:not(:last-child)::after {content: \"\\00b7\"; padding: 0 .5ex}\n",
       "</style>\n",
       "<ol class=list-inline><li>260601</li><li>38</li></ol>\n"
      ],
      "text/latex": [
       "\\begin{enumerate*}\n",
       "\\item 260601\n",
       "\\item 38\n",
       "\\end{enumerate*}\n"
      ],
      "text/markdown": [
       "1. 260601\n",
       "2. 38\n",
       "\n",
       "\n"
      ],
      "text/plain": [
       "[1] 260601     38"
      ]
     },
     "metadata": {},
     "output_type": "display_data"
    },
    {
     "data": {
      "text/html": [
       "<style>\n",
       ".list-inline {list-style: none; margin:0; padding: 0}\n",
       ".list-inline>li {display: inline-block}\n",
       ".list-inline>li:not(:last-child)::after {content: \"\\00b7\"; padding: 0 .5ex}\n",
       "</style>\n",
       "<ol class=list-inline><li>260601</li><li>1</li></ol>\n"
      ],
      "text/latex": [
       "\\begin{enumerate*}\n",
       "\\item 260601\n",
       "\\item 1\n",
       "\\end{enumerate*}\n"
      ],
      "text/markdown": [
       "1. 260601\n",
       "2. 1\n",
       "\n",
       "\n"
      ],
      "text/plain": [
       "[1] 260601      1"
      ]
     },
     "metadata": {},
     "output_type": "display_data"
    }
   ],
   "source": [
    "# The dimensions of the datasets\n",
    "dim(training_values)\n",
    "dim(training_labels)"
   ]
  },
  {
   "cell_type": "markdown",
   "id": "65cc2f71",
   "metadata": {},
   "source": [
    "By printing the dimensions of the datasets, the number of features and buildings can be determined. The training values contain 38 features and the training values and labels contain data for 260600 buildings."
   ]
  },
  {
   "cell_type": "code",
   "execution_count": 5,
   "id": "ac857280",
   "metadata": {},
   "outputs": [
    {
     "name": "stdout",
     "output_type": "stream",
     "text": [
      " [1] \"geo_level_1_id\"                        \n",
      " [2] \"geo_level_2_id\"                        \n",
      " [3] \"geo_level_3_id\"                        \n",
      " [4] \"count_floors_pre_eq\"                   \n",
      " [5] \"age\"                                   \n",
      " [6] \"area_percentage\"                       \n",
      " [7] \"height_percentage\"                     \n",
      " [8] \"land_surface_condition\"                \n",
      " [9] \"foundation_type\"                       \n",
      "[10] \"roof_type\"                             \n",
      "[11] \"ground_floor_type\"                     \n",
      "[12] \"other_floor_type\"                      \n",
      "[13] \"position\"                              \n",
      "[14] \"plan_configuration\"                    \n",
      "[15] \"has_superstructure_adobe_mud\"          \n",
      "[16] \"has_superstructure_mud_mortar_stone\"   \n",
      "[17] \"has_superstructure_stone_flag\"         \n",
      "[18] \"has_superstructure_cement_mortar_stone\"\n",
      "[19] \"has_superstructure_mud_mortar_brick\"   \n",
      "[20] \"has_superstructure_cement_mortar_brick\"\n",
      "[21] \"has_superstructure_timber\"             \n",
      "[22] \"has_superstructure_bamboo\"             \n",
      "[23] \"has_superstructure_rc_non_engineered\"  \n",
      "[24] \"has_superstructure_rc_engineered\"      \n",
      "[25] \"has_superstructure_other\"              \n",
      "[26] \"legal_ownership_status\"                \n",
      "[27] \"count_families\"                        \n",
      "[28] \"has_secondary_use\"                     \n",
      "[29] \"has_secondary_use_agriculture\"         \n",
      "[30] \"has_secondary_use_hotel\"               \n",
      "[31] \"has_secondary_use_rental\"              \n",
      "[32] \"has_secondary_use_institution\"         \n",
      "[33] \"has_secondary_use_school\"              \n",
      "[34] \"has_secondary_use_industry\"            \n",
      "[35] \"has_secondary_use_health_post\"         \n",
      "[36] \"has_secondary_use_gov_office\"          \n",
      "[37] \"has_secondary_use_use_police\"          \n",
      "[38] \"has_secondary_use_other\"               \n"
     ]
    }
   ],
   "source": [
    "# The column names are extracted to identify the 38 features.\n",
    "features = names(training_values)\n",
    "print(features)"
   ]
  },
  {
   "cell_type": "markdown",
   "id": "30ed9bfb",
   "metadata": {},
   "source": [
    "### 1.2. Histogram plot of the training labels"
   ]
  },
  {
   "cell_type": "code",
   "execution_count": 6,
   "id": "2eddff1b",
   "metadata": {},
   "outputs": [
    {
     "data": {
      "image/png": "[encoded data removed]",
      "text/plain": [
       "plot without title"
      ]
     },
     "metadata": {
      "image/png": {
       "height": 420,
       "width": 420
      }
     },
     "output_type": "display_data"
    }
   ],
   "source": [
    "ggplot(training_labels, aes(x = damage_grade)) +\n",
    "  geom_histogram(binwidth = 1, fill = \"blue\", color = \"black\") +\n",
    "  labs(title = \"Histogram of the Damage Grades\",\n",
    "       x = \"Damage Grade\",\n",
    "       y = \"Number of buildings\") +\n",
    "  theme(axis.text = element_text(size = 15),\n",
    "        axis.title = element_text(size = 18),\n",
    "        plot.title = element_text(size = 20))"
   ]
  },
  {
   "cell_type": "markdown",
   "id": "b2b2301a",
   "metadata": {},
   "source": [
    "This histogram shows that the highest number of the buildings in the dataset have a damage grade of 2, and a much smaller number of buildings have a damage grade of 1. The number of building with a damage grade of 3 lies somewhere in between. The data of training labels is thus unbalanced. \n",
    "\n",
    "THIS UNBALANCE MAY LEAD TO BIASED RESULTS IN THE TRAINING PROCESS SO CHECK WPO FOR SOLUTION --> IK DENK IETS MET WEIGHTS"
   ]
  },
  {
   "cell_type": "markdown",
   "id": "9c5a6dcd",
   "metadata": {},
   "source": [
    "### 1.3. Structure of the datasets"
   ]
  },
  {
   "cell_type": "code",
   "execution_count": 27,
   "id": "ff6dc108",
   "metadata": {},
   "outputs": [
    {
     "data": {
      "text/plain": [
       " geo_level_1_id geo_level_2_id   geo_level_3_id  count_floors_pre_eq\n",
       " Min.   : 0.0   Min.   :   0.0   Min.   :    0   Min.   :1.00       \n",
       " 1st Qu.: 7.0   1st Qu.: 350.0   1st Qu.: 3073   1st Qu.:2.00       \n",
       " Median :12.0   Median : 702.0   Median : 6270   Median :2.00       \n",
       " Mean   :13.9   Mean   : 701.1   Mean   : 6258   Mean   :2.13       \n",
       " 3rd Qu.:21.0   3rd Qu.:1050.0   3rd Qu.: 9412   3rd Qu.:2.00       \n",
       " Max.   :30.0   Max.   :1427.0   Max.   :12567   Max.   :9.00       \n",
       "      age         area_percentage   height_percentage land_surface_condition\n",
       " Min.   :  0.00   Min.   :  1.000   Min.   : 2.000    Length:260601         \n",
       " 1st Qu.: 10.00   1st Qu.:  5.000   1st Qu.: 4.000    Class :character      \n",
       " Median : 15.00   Median :  7.000   Median : 5.000    Mode  :character      \n",
       " Mean   : 26.54   Mean   :  8.018   Mean   : 5.434                          \n",
       " 3rd Qu.: 30.00   3rd Qu.:  9.000   3rd Qu.: 6.000                          \n",
       " Max.   :995.00   Max.   :100.000   Max.   :32.000                          \n",
       " foundation_type     roof_type         ground_floor_type  other_floor_type  \n",
       " Length:260601      Length:260601      Length:260601      Length:260601     \n",
       " Class :character   Class :character   Class :character   Class :character  \n",
       " Mode  :character   Mode  :character   Mode  :character   Mode  :character  \n",
       "                                                                            \n",
       "                                                                            \n",
       "                                                                            \n",
       "   position         plan_configuration has_superstructure_adobe_mud\n",
       " Length:260601      Length:260601      Min.   :0.00000             \n",
       " Class :character   Class :character   1st Qu.:0.00000             \n",
       " Mode  :character   Mode  :character   Median :0.00000             \n",
       "                                       Mean   :0.08865             \n",
       "                                       3rd Qu.:0.00000             \n",
       "                                       Max.   :1.00000             \n",
       " has_superstructure_mud_mortar_stone has_superstructure_stone_flag\n",
       " Min.   :0.0000                      Min.   :0.00000              \n",
       " 1st Qu.:1.0000                      1st Qu.:0.00000              \n",
       " Median :1.0000                      Median :0.00000              \n",
       " Mean   :0.7619                      Mean   :0.03433              \n",
       " 3rd Qu.:1.0000                      3rd Qu.:0.00000              \n",
       " Max.   :1.0000                      Max.   :1.00000              \n",
       " has_superstructure_cement_mortar_stone has_superstructure_mud_mortar_brick\n",
       " Min.   :0.00000                        Min.   :0.00000                    \n",
       " 1st Qu.:0.00000                        1st Qu.:0.00000                    \n",
       " Median :0.00000                        Median :0.00000                    \n",
       " Mean   :0.01823                        Mean   :0.06815                    \n",
       " 3rd Qu.:0.00000                        3rd Qu.:0.00000                    \n",
       " Max.   :1.00000                        Max.   :1.00000                    \n",
       " has_superstructure_cement_mortar_brick has_superstructure_timber\n",
       " Min.   :0.00000                        Min.   :0.000            \n",
       " 1st Qu.:0.00000                        1st Qu.:0.000            \n",
       " Median :0.00000                        Median :0.000            \n",
       " Mean   :0.07527                        Mean   :0.255            \n",
       " 3rd Qu.:0.00000                        3rd Qu.:1.000            \n",
       " Max.   :1.00000                        Max.   :1.000            \n",
       " has_superstructure_bamboo has_superstructure_rc_non_engineered\n",
       " Min.   :0.00000           Min.   :0.00000                     \n",
       " 1st Qu.:0.00000           1st Qu.:0.00000                     \n",
       " Median :0.00000           Median :0.00000                     \n",
       " Mean   :0.08501           Mean   :0.04259                     \n",
       " 3rd Qu.:0.00000           3rd Qu.:0.00000                     \n",
       " Max.   :1.00000           Max.   :1.00000                     \n",
       " has_superstructure_rc_engineered has_superstructure_other\n",
       " Min.   :0.00000                  Min.   :0.00000         \n",
       " 1st Qu.:0.00000                  1st Qu.:0.00000         \n",
       " Median :0.00000                  Median :0.00000         \n",
       " Mean   :0.01586                  Mean   :0.01498         \n",
       " 3rd Qu.:0.00000                  3rd Qu.:0.00000         \n",
       " Max.   :1.00000                  Max.   :1.00000         \n",
       " legal_ownership_status count_families   has_secondary_use\n",
       " Length:260601          Min.   :0.0000   Min.   :0.0000   \n",
       " Class :character       1st Qu.:1.0000   1st Qu.:0.0000   \n",
       " Mode  :character       Median :1.0000   Median :0.0000   \n",
       "                        Mean   :0.9839   Mean   :0.1119   \n",
       "                        3rd Qu.:1.0000   3rd Qu.:0.0000   \n",
       "                        Max.   :9.0000   Max.   :1.0000   \n",
       " has_secondary_use_agriculture has_secondary_use_hotel has_secondary_use_rental\n",
       " Min.   :0.00000               Min.   :0.00000         Min.   :0.000000        \n",
       " 1st Qu.:0.00000               1st Qu.:0.00000         1st Qu.:0.000000        \n",
       " Median :0.00000               Median :0.00000         Median :0.000000        \n",
       " Mean   :0.06438               Mean   :0.03363         Mean   :0.008101        \n",
       " 3rd Qu.:0.00000               3rd Qu.:0.00000         3rd Qu.:0.000000        \n",
       " Max.   :1.00000               Max.   :1.00000         Max.   :1.000000        \n",
       " has_secondary_use_institution has_secondary_use_school\n",
       " Min.   :0.0000000             Min.   :0.0000000       \n",
       " 1st Qu.:0.0000000             1st Qu.:0.0000000       \n",
       " Median :0.0000000             Median :0.0000000       \n",
       " Mean   :0.0009401             Mean   :0.0003607       \n",
       " 3rd Qu.:0.0000000             3rd Qu.:0.0000000       \n",
       " Max.   :1.0000000             Max.   :1.0000000       \n",
       " has_secondary_use_industry has_secondary_use_health_post\n",
       " Min.   :0.000000           Min.   :0.000000             \n",
       " 1st Qu.:0.000000           1st Qu.:0.000000             \n",
       " Median :0.000000           Median :0.000000             \n",
       " Mean   :0.001071           Mean   :0.000188             \n",
       " 3rd Qu.:0.000000           3rd Qu.:0.000000             \n",
       " Max.   :1.000000           Max.   :1.000000             \n",
       " has_secondary_use_gov_office has_secondary_use_use_police\n",
       " Min.   :0.0000000            Min.   :0.00e+00            \n",
       " 1st Qu.:0.0000000            1st Qu.:0.00e+00            \n",
       " Median :0.0000000            Median :0.00e+00            \n",
       " Mean   :0.0001458            Mean   :8.83e-05            \n",
       " 3rd Qu.:0.0000000            3rd Qu.:0.00e+00            \n",
       " Max.   :1.0000000            Max.   :1.00e+00            \n",
       " has_secondary_use_other\n",
       " Min.   :0.000000       \n",
       " 1st Qu.:0.000000       \n",
       " Median :0.000000       \n",
       " Mean   :0.005119       \n",
       " 3rd Qu.:0.000000       \n",
       " Max.   :1.000000       "
      ]
     },
     "metadata": {},
     "output_type": "display_data"
    }
   ],
   "source": [
    "# Check the presence of missing values.\n",
    "summary(training_values)"
   ]
  },
  {
   "cell_type": "code",
   "execution_count": 28,
   "id": "8b2860b9",
   "metadata": {},
   "outputs": [
    {
     "data": {
      "text/html": [
       "<table class=\"dataframe\">\n",
       "<caption>A data.frame: 6 × 38</caption>\n",
       "<thead>\n",
       "\t<tr><th></th><th scope=col>geo_level_1_id</th><th scope=col>geo_level_2_id</th><th scope=col>geo_level_3_id</th><th scope=col>count_floors_pre_eq</th><th scope=col>age</th><th scope=col>area_percentage</th><th scope=col>height_percentage</th><th scope=col>land_surface_condition</th><th scope=col>foundation_type</th><th scope=col>roof_type</th><th scope=col>...</th><th scope=col>has_secondary_use_agriculture</th><th scope=col>has_secondary_use_hotel</th><th scope=col>has_secondary_use_rental</th><th scope=col>has_secondary_use_institution</th><th scope=col>has_secondary_use_school</th><th scope=col>has_secondary_use_industry</th><th scope=col>has_secondary_use_health_post</th><th scope=col>has_secondary_use_gov_office</th><th scope=col>has_secondary_use_use_police</th><th scope=col>has_secondary_use_other</th></tr>\n",
       "\t<tr><th></th><th scope=col>&lt;int&gt;</th><th scope=col>&lt;int&gt;</th><th scope=col>&lt;int&gt;</th><th scope=col>&lt;int&gt;</th><th scope=col>&lt;int&gt;</th><th scope=col>&lt;int&gt;</th><th scope=col>&lt;int&gt;</th><th scope=col>&lt;chr&gt;</th><th scope=col>&lt;chr&gt;</th><th scope=col>&lt;chr&gt;</th><th scope=col>...</th><th scope=col>&lt;int&gt;</th><th scope=col>&lt;int&gt;</th><th scope=col>&lt;int&gt;</th><th scope=col>&lt;int&gt;</th><th scope=col>&lt;int&gt;</th><th scope=col>&lt;int&gt;</th><th scope=col>&lt;int&gt;</th><th scope=col>&lt;int&gt;</th><th scope=col>&lt;int&gt;</th><th scope=col>&lt;int&gt;</th></tr>\n",
       "</thead>\n",
       "<tbody>\n",
       "\t<tr><th scope=row>802906</th><td> 6</td><td>487</td><td>12198</td><td>2</td><td>30</td><td>6</td><td>5</td><td>t</td><td>r</td><td>n</td><td>...</td><td>0</td><td>0</td><td>0</td><td>0</td><td>0</td><td>0</td><td>0</td><td>0</td><td>0</td><td>0</td></tr>\n",
       "\t<tr><th scope=row>28830</th><td> 8</td><td>900</td><td> 2812</td><td>2</td><td>10</td><td>8</td><td>7</td><td>o</td><td>r</td><td>n</td><td>...</td><td>0</td><td>0</td><td>0</td><td>0</td><td>0</td><td>0</td><td>0</td><td>0</td><td>0</td><td>0</td></tr>\n",
       "\t<tr><th scope=row>94947</th><td>21</td><td>363</td><td> 8973</td><td>2</td><td>10</td><td>5</td><td>5</td><td>t</td><td>r</td><td>n</td><td>...</td><td>0</td><td>0</td><td>0</td><td>0</td><td>0</td><td>0</td><td>0</td><td>0</td><td>0</td><td>0</td></tr>\n",
       "\t<tr><th scope=row>590882</th><td>22</td><td>418</td><td>10694</td><td>2</td><td>10</td><td>6</td><td>5</td><td>t</td><td>r</td><td>n</td><td>...</td><td>0</td><td>0</td><td>0</td><td>0</td><td>0</td><td>0</td><td>0</td><td>0</td><td>0</td><td>0</td></tr>\n",
       "\t<tr><th scope=row>201944</th><td>11</td><td>131</td><td> 1488</td><td>3</td><td>30</td><td>8</td><td>9</td><td>t</td><td>r</td><td>n</td><td>...</td><td>0</td><td>0</td><td>0</td><td>0</td><td>0</td><td>0</td><td>0</td><td>0</td><td>0</td><td>0</td></tr>\n",
       "\t<tr><th scope=row>333020</th><td> 8</td><td>558</td><td> 6089</td><td>2</td><td>10</td><td>9</td><td>5</td><td>t</td><td>r</td><td>n</td><td>...</td><td>1</td><td>0</td><td>0</td><td>0</td><td>0</td><td>0</td><td>0</td><td>0</td><td>0</td><td>0</td></tr>\n",
       "</tbody>\n",
       "</table>\n"
      ],
      "text/latex": [
       "A data.frame: 6 × 38\n",
       "\\begin{tabular}{r|lllllllllllllllllllll}\n",
       "  & geo\\_level\\_1\\_id & geo\\_level\\_2\\_id & geo\\_level\\_3\\_id & count\\_floors\\_pre\\_eq & age & area\\_percentage & height\\_percentage & land\\_surface\\_condition & foundation\\_type & roof\\_type & ... & has\\_secondary\\_use\\_agriculture & has\\_secondary\\_use\\_hotel & has\\_secondary\\_use\\_rental & has\\_secondary\\_use\\_institution & has\\_secondary\\_use\\_school & has\\_secondary\\_use\\_industry & has\\_secondary\\_use\\_health\\_post & has\\_secondary\\_use\\_gov\\_office & has\\_secondary\\_use\\_use\\_police & has\\_secondary\\_use\\_other\\\\\n",
       "  & <int> & <int> & <int> & <int> & <int> & <int> & <int> & <chr> & <chr> & <chr> & ... & <int> & <int> & <int> & <int> & <int> & <int> & <int> & <int> & <int> & <int>\\\\\n",
       "\\hline\n",
       "\t802906 &  6 & 487 & 12198 & 2 & 30 & 6 & 5 & t & r & n & ... & 0 & 0 & 0 & 0 & 0 & 0 & 0 & 0 & 0 & 0\\\\\n",
       "\t28830 &  8 & 900 &  2812 & 2 & 10 & 8 & 7 & o & r & n & ... & 0 & 0 & 0 & 0 & 0 & 0 & 0 & 0 & 0 & 0\\\\\n",
       "\t94947 & 21 & 363 &  8973 & 2 & 10 & 5 & 5 & t & r & n & ... & 0 & 0 & 0 & 0 & 0 & 0 & 0 & 0 & 0 & 0\\\\\n",
       "\t590882 & 22 & 418 & 10694 & 2 & 10 & 6 & 5 & t & r & n & ... & 0 & 0 & 0 & 0 & 0 & 0 & 0 & 0 & 0 & 0\\\\\n",
       "\t201944 & 11 & 131 &  1488 & 3 & 30 & 8 & 9 & t & r & n & ... & 0 & 0 & 0 & 0 & 0 & 0 & 0 & 0 & 0 & 0\\\\\n",
       "\t333020 &  8 & 558 &  6089 & 2 & 10 & 9 & 5 & t & r & n & ... & 1 & 0 & 0 & 0 & 0 & 0 & 0 & 0 & 0 & 0\\\\\n",
       "\\end{tabular}\n"
      ],
      "text/markdown": [
       "\n",
       "A data.frame: 6 × 38\n",
       "\n",
       "| <!--/--> | geo_level_1_id &lt;int&gt; | geo_level_2_id &lt;int&gt; | geo_level_3_id &lt;int&gt; | count_floors_pre_eq &lt;int&gt; | age &lt;int&gt; | area_percentage &lt;int&gt; | height_percentage &lt;int&gt; | land_surface_condition &lt;chr&gt; | foundation_type &lt;chr&gt; | roof_type &lt;chr&gt; | ... ... | has_secondary_use_agriculture &lt;int&gt; | has_secondary_use_hotel &lt;int&gt; | has_secondary_use_rental &lt;int&gt; | has_secondary_use_institution &lt;int&gt; | has_secondary_use_school &lt;int&gt; | has_secondary_use_industry &lt;int&gt; | has_secondary_use_health_post &lt;int&gt; | has_secondary_use_gov_office &lt;int&gt; | has_secondary_use_use_police &lt;int&gt; | has_secondary_use_other &lt;int&gt; |\n",
       "|---|---|---|---|---|---|---|---|---|---|---|---|---|---|---|---|---|---|---|---|---|---|\n",
       "| 802906 |  6 | 487 | 12198 | 2 | 30 | 6 | 5 | t | r | n | ... | 0 | 0 | 0 | 0 | 0 | 0 | 0 | 0 | 0 | 0 |\n",
       "| 28830 |  8 | 900 |  2812 | 2 | 10 | 8 | 7 | o | r | n | ... | 0 | 0 | 0 | 0 | 0 | 0 | 0 | 0 | 0 | 0 |\n",
       "| 94947 | 21 | 363 |  8973 | 2 | 10 | 5 | 5 | t | r | n | ... | 0 | 0 | 0 | 0 | 0 | 0 | 0 | 0 | 0 | 0 |\n",
       "| 590882 | 22 | 418 | 10694 | 2 | 10 | 6 | 5 | t | r | n | ... | 0 | 0 | 0 | 0 | 0 | 0 | 0 | 0 | 0 | 0 |\n",
       "| 201944 | 11 | 131 |  1488 | 3 | 30 | 8 | 9 | t | r | n | ... | 0 | 0 | 0 | 0 | 0 | 0 | 0 | 0 | 0 | 0 |\n",
       "| 333020 |  8 | 558 |  6089 | 2 | 10 | 9 | 5 | t | r | n | ... | 1 | 0 | 0 | 0 | 0 | 0 | 0 | 0 | 0 | 0 |\n",
       "\n"
      ],
      "text/plain": [
       "       geo_level_1_id geo_level_2_id geo_level_3_id count_floors_pre_eq age\n",
       "802906  6             487            12198          2                   30 \n",
       "28830   8             900             2812          2                   10 \n",
       "94947  21             363             8973          2                   10 \n",
       "590882 22             418            10694          2                   10 \n",
       "201944 11             131             1488          3                   30 \n",
       "333020  8             558             6089          2                   10 \n",
       "       area_percentage height_percentage land_surface_condition foundation_type\n",
       "802906 6               5                 t                      r              \n",
       "28830  8               7                 o                      r              \n",
       "94947  5               5                 t                      r              \n",
       "590882 6               5                 t                      r              \n",
       "201944 8               9                 t                      r              \n",
       "333020 9               5                 t                      r              \n",
       "       roof_type ... has_secondary_use_agriculture has_secondary_use_hotel\n",
       "802906 n         ... 0                             0                      \n",
       "28830  n         ... 0                             0                      \n",
       "94947  n         ... 0                             0                      \n",
       "590882 n         ... 0                             0                      \n",
       "201944 n         ... 0                             0                      \n",
       "333020 n         ... 1                             0                      \n",
       "       has_secondary_use_rental has_secondary_use_institution\n",
       "802906 0                        0                            \n",
       "28830  0                        0                            \n",
       "94947  0                        0                            \n",
       "590882 0                        0                            \n",
       "201944 0                        0                            \n",
       "333020 0                        0                            \n",
       "       has_secondary_use_school has_secondary_use_industry\n",
       "802906 0                        0                         \n",
       "28830  0                        0                         \n",
       "94947  0                        0                         \n",
       "590882 0                        0                         \n",
       "201944 0                        0                         \n",
       "333020 0                        0                         \n",
       "       has_secondary_use_health_post has_secondary_use_gov_office\n",
       "802906 0                             0                           \n",
       "28830  0                             0                           \n",
       "94947  0                             0                           \n",
       "590882 0                             0                           \n",
       "201944 0                             0                           \n",
       "333020 0                             0                           \n",
       "       has_secondary_use_use_police has_secondary_use_other\n",
       "802906 0                            0                      \n",
       "28830  0                            0                      \n",
       "94947  0                            0                      \n",
       "590882 0                            0                      \n",
       "201944 0                            0                      \n",
       "333020 0                            0                      "
      ]
     },
     "metadata": {},
     "output_type": "display_data"
    }
   ],
   "source": [
    "head(training_values)"
   ]
  },
  {
   "cell_type": "code",
   "execution_count": 29,
   "id": "c550f9d9",
   "metadata": {},
   "outputs": [
    {
     "data": {
      "text/plain": [
       "  damage_grade  \n",
       " Min.   :1.000  \n",
       " 1st Qu.:2.000  \n",
       " Median :2.000  \n",
       " Mean   :2.238  \n",
       " 3rd Qu.:3.000  \n",
       " Max.   :3.000  "
      ]
     },
     "metadata": {},
     "output_type": "display_data"
    }
   ],
   "source": [
    "# Check the presence of missing values.\n",
    "summary(training_labels)"
   ]
  },
  {
   "cell_type": "code",
   "execution_count": 30,
   "id": "1e0cc3c2",
   "metadata": {},
   "outputs": [
    {
     "data": {
      "text/html": [
       "<table class=\"dataframe\">\n",
       "<caption>A data.frame: 6 × 1</caption>\n",
       "<thead>\n",
       "\t<tr><th></th><th scope=col>damage_grade</th></tr>\n",
       "\t<tr><th></th><th scope=col>&lt;int&gt;</th></tr>\n",
       "</thead>\n",
       "<tbody>\n",
       "\t<tr><th scope=row>802906</th><td>3</td></tr>\n",
       "\t<tr><th scope=row>28830</th><td>2</td></tr>\n",
       "\t<tr><th scope=row>94947</th><td>3</td></tr>\n",
       "\t<tr><th scope=row>590882</th><td>2</td></tr>\n",
       "\t<tr><th scope=row>201944</th><td>3</td></tr>\n",
       "\t<tr><th scope=row>333020</th><td>2</td></tr>\n",
       "</tbody>\n",
       "</table>\n"
      ],
      "text/latex": [
       "A data.frame: 6 × 1\n",
       "\\begin{tabular}{r|l}\n",
       "  & damage\\_grade\\\\\n",
       "  & <int>\\\\\n",
       "\\hline\n",
       "\t802906 & 3\\\\\n",
       "\t28830 & 2\\\\\n",
       "\t94947 & 3\\\\\n",
       "\t590882 & 2\\\\\n",
       "\t201944 & 3\\\\\n",
       "\t333020 & 2\\\\\n",
       "\\end{tabular}\n"
      ],
      "text/markdown": [
       "\n",
       "A data.frame: 6 × 1\n",
       "\n",
       "| <!--/--> | damage_grade &lt;int&gt; |\n",
       "|---|---|\n",
       "| 802906 | 3 |\n",
       "| 28830 | 2 |\n",
       "| 94947 | 3 |\n",
       "| 590882 | 2 |\n",
       "| 201944 | 3 |\n",
       "| 333020 | 2 |\n",
       "\n"
      ],
      "text/plain": [
       "       damage_grade\n",
       "802906 3           \n",
       "28830  2           \n",
       "94947  3           \n",
       "590882 2           \n",
       "201944 3           \n",
       "333020 2           "
      ]
     },
     "metadata": {},
     "output_type": "display_data"
    }
   ],
   "source": [
    "head(training_labels)"
   ]
  },
  {
   "cell_type": "markdown",
   "id": "9e46cfa0",
   "metadata": {},
   "source": [
    "### 1.4. Preprocessing of the data\n",
    "\n",
    "The *summary()* function creates a summary of the variables present in the dataset. It is a useful function to check which variables are categorical and which are numerical. Additionally, it can also be used to check if the variables contain any NA values. In that case, those values would have to be replaces with mean values of the variables because machine learning algorithms can't handle missing data. In this case, there are no NA values in any of the datasets."
   ]
  },
  {
   "cell_type": "code",
   "execution_count": 7,
   "id": "d079917b",
   "metadata": {},
   "outputs": [
    {
     "data": {
      "text/html": [
       "0"
      ],
      "text/latex": [
       "0"
      ],
      "text/markdown": [
       "0"
      ],
      "text/plain": [
       "[1] 0"
      ]
     },
     "metadata": {},
     "output_type": "display_data"
    },
    {
     "data": {
      "text/html": [
       "0"
      ],
      "text/latex": [
       "0"
      ],
      "text/markdown": [
       "0"
      ],
      "text/plain": [
       "[1] 0"
      ]
     },
     "metadata": {},
     "output_type": "display_data"
    }
   ],
   "source": [
    "# Double check if there are missing values.\n",
    "sum(is.na(training_values))\n",
    "sum(is.na(training_labels))"
   ]
  },
  {
   "cell_type": "markdown",
   "id": "2283ee7d",
   "metadata": {},
   "source": [
    "Since it is not possible to use categorical features in machine learning algorithms, one-hot encoding was applied to transform that data into numerical values. One-hot encoding converts categorical values into a binary vector in which the presence of absence of that value is indicated. This will thus create additional features for each category."
   ]
  },
  {
   "cell_type": "code",
   "execution_count": 8,
   "id": "c53a0942",
   "metadata": {},
   "outputs": [
    {
     "data": {
      "text/html": [
       "<style>\n",
       ".dl-inline {width: auto; margin:0; padding: 0}\n",
       ".dl-inline>dt, .dl-inline>dd {float: none; width: auto; display: inline-block}\n",
       ".dl-inline>dt::after {content: \":\\0020\"; padding-right: .5ex}\n",
       ".dl-inline>dt:not(:first-of-type) {padding-left: .5ex}\n",
       "</style><dl class=dl-inline><dt>geo_level_1_id</dt><dd>'integer'</dd><dt>geo_level_2_id</dt><dd>'integer'</dd><dt>geo_level_3_id</dt><dd>'integer'</dd><dt>count_floors_pre_eq</dt><dd>'integer'</dd><dt>age</dt><dd>'integer'</dd><dt>area_percentage</dt><dd>'integer'</dd><dt>height_percentage</dt><dd>'integer'</dd><dt>land_surface_condition</dt><dd>'character'</dd><dt>foundation_type</dt><dd>'character'</dd><dt>roof_type</dt><dd>'character'</dd><dt>ground_floor_type</dt><dd>'character'</dd><dt>other_floor_type</dt><dd>'character'</dd><dt>position</dt><dd>'character'</dd><dt>plan_configuration</dt><dd>'character'</dd><dt>has_superstructure_adobe_mud</dt><dd>'integer'</dd><dt>has_superstructure_mud_mortar_stone</dt><dd>'integer'</dd><dt>has_superstructure_stone_flag</dt><dd>'integer'</dd><dt>has_superstructure_cement_mortar_stone</dt><dd>'integer'</dd><dt>has_superstructure_mud_mortar_brick</dt><dd>'integer'</dd><dt>has_superstructure_cement_mortar_brick</dt><dd>'integer'</dd><dt>has_superstructure_timber</dt><dd>'integer'</dd><dt>has_superstructure_bamboo</dt><dd>'integer'</dd><dt>has_superstructure_rc_non_engineered</dt><dd>'integer'</dd><dt>has_superstructure_rc_engineered</dt><dd>'integer'</dd><dt>has_superstructure_other</dt><dd>'integer'</dd><dt>legal_ownership_status</dt><dd>'character'</dd><dt>count_families</dt><dd>'integer'</dd><dt>has_secondary_use</dt><dd>'integer'</dd><dt>has_secondary_use_agriculture</dt><dd>'integer'</dd><dt>has_secondary_use_hotel</dt><dd>'integer'</dd><dt>has_secondary_use_rental</dt><dd>'integer'</dd><dt>has_secondary_use_institution</dt><dd>'integer'</dd><dt>has_secondary_use_school</dt><dd>'integer'</dd><dt>has_secondary_use_industry</dt><dd>'integer'</dd><dt>has_secondary_use_health_post</dt><dd>'integer'</dd><dt>has_secondary_use_gov_office</dt><dd>'integer'</dd><dt>has_secondary_use_use_police</dt><dd>'integer'</dd><dt>has_secondary_use_other</dt><dd>'integer'</dd></dl>\n"
      ],
      "text/latex": [
       "\\begin{description*}\n",
       "\\item[geo\\textbackslash{}\\_level\\textbackslash{}\\_1\\textbackslash{}\\_id] 'integer'\n",
       "\\item[geo\\textbackslash{}\\_level\\textbackslash{}\\_2\\textbackslash{}\\_id] 'integer'\n",
       "\\item[geo\\textbackslash{}\\_level\\textbackslash{}\\_3\\textbackslash{}\\_id] 'integer'\n",
       "\\item[count\\textbackslash{}\\_floors\\textbackslash{}\\_pre\\textbackslash{}\\_eq] 'integer'\n",
       "\\item[age] 'integer'\n",
       "\\item[area\\textbackslash{}\\_percentage] 'integer'\n",
       "\\item[height\\textbackslash{}\\_percentage] 'integer'\n",
       "\\item[land\\textbackslash{}\\_surface\\textbackslash{}\\_condition] 'character'\n",
       "\\item[foundation\\textbackslash{}\\_type] 'character'\n",
       "\\item[roof\\textbackslash{}\\_type] 'character'\n",
       "\\item[ground\\textbackslash{}\\_floor\\textbackslash{}\\_type] 'character'\n",
       "\\item[other\\textbackslash{}\\_floor\\textbackslash{}\\_type] 'character'\n",
       "\\item[position] 'character'\n",
       "\\item[plan\\textbackslash{}\\_configuration] 'character'\n",
       "\\item[has\\textbackslash{}\\_superstructure\\textbackslash{}\\_adobe\\textbackslash{}\\_mud] 'integer'\n",
       "\\item[has\\textbackslash{}\\_superstructure\\textbackslash{}\\_mud\\textbackslash{}\\_mortar\\textbackslash{}\\_stone] 'integer'\n",
       "\\item[has\\textbackslash{}\\_superstructure\\textbackslash{}\\_stone\\textbackslash{}\\_flag] 'integer'\n",
       "\\item[has\\textbackslash{}\\_superstructure\\textbackslash{}\\_cement\\textbackslash{}\\_mortar\\textbackslash{}\\_stone] 'integer'\n",
       "\\item[has\\textbackslash{}\\_superstructure\\textbackslash{}\\_mud\\textbackslash{}\\_mortar\\textbackslash{}\\_brick] 'integer'\n",
       "\\item[has\\textbackslash{}\\_superstructure\\textbackslash{}\\_cement\\textbackslash{}\\_mortar\\textbackslash{}\\_brick] 'integer'\n",
       "\\item[has\\textbackslash{}\\_superstructure\\textbackslash{}\\_timber] 'integer'\n",
       "\\item[has\\textbackslash{}\\_superstructure\\textbackslash{}\\_bamboo] 'integer'\n",
       "\\item[has\\textbackslash{}\\_superstructure\\textbackslash{}\\_rc\\textbackslash{}\\_non\\textbackslash{}\\_engineered] 'integer'\n",
       "\\item[has\\textbackslash{}\\_superstructure\\textbackslash{}\\_rc\\textbackslash{}\\_engineered] 'integer'\n",
       "\\item[has\\textbackslash{}\\_superstructure\\textbackslash{}\\_other] 'integer'\n",
       "\\item[legal\\textbackslash{}\\_ownership\\textbackslash{}\\_status] 'character'\n",
       "\\item[count\\textbackslash{}\\_families] 'integer'\n",
       "\\item[has\\textbackslash{}\\_secondary\\textbackslash{}\\_use] 'integer'\n",
       "\\item[has\\textbackslash{}\\_secondary\\textbackslash{}\\_use\\textbackslash{}\\_agriculture] 'integer'\n",
       "\\item[has\\textbackslash{}\\_secondary\\textbackslash{}\\_use\\textbackslash{}\\_hotel] 'integer'\n",
       "\\item[has\\textbackslash{}\\_secondary\\textbackslash{}\\_use\\textbackslash{}\\_rental] 'integer'\n",
       "\\item[has\\textbackslash{}\\_secondary\\textbackslash{}\\_use\\textbackslash{}\\_institution] 'integer'\n",
       "\\item[has\\textbackslash{}\\_secondary\\textbackslash{}\\_use\\textbackslash{}\\_school] 'integer'\n",
       "\\item[has\\textbackslash{}\\_secondary\\textbackslash{}\\_use\\textbackslash{}\\_industry] 'integer'\n",
       "\\item[has\\textbackslash{}\\_secondary\\textbackslash{}\\_use\\textbackslash{}\\_health\\textbackslash{}\\_post] 'integer'\n",
       "\\item[has\\textbackslash{}\\_secondary\\textbackslash{}\\_use\\textbackslash{}\\_gov\\textbackslash{}\\_office] 'integer'\n",
       "\\item[has\\textbackslash{}\\_secondary\\textbackslash{}\\_use\\textbackslash{}\\_use\\textbackslash{}\\_police] 'integer'\n",
       "\\item[has\\textbackslash{}\\_secondary\\textbackslash{}\\_use\\textbackslash{}\\_other] 'integer'\n",
       "\\end{description*}\n"
      ],
      "text/markdown": [
       "geo_level_1_id\n",
       ":   'integer'geo_level_2_id\n",
       ":   'integer'geo_level_3_id\n",
       ":   'integer'count_floors_pre_eq\n",
       ":   'integer'age\n",
       ":   'integer'area_percentage\n",
       ":   'integer'height_percentage\n",
       ":   'integer'land_surface_condition\n",
       ":   'character'foundation_type\n",
       ":   'character'roof_type\n",
       ":   'character'ground_floor_type\n",
       ":   'character'other_floor_type\n",
       ":   'character'position\n",
       ":   'character'plan_configuration\n",
       ":   'character'has_superstructure_adobe_mud\n",
       ":   'integer'has_superstructure_mud_mortar_stone\n",
       ":   'integer'has_superstructure_stone_flag\n",
       ":   'integer'has_superstructure_cement_mortar_stone\n",
       ":   'integer'has_superstructure_mud_mortar_brick\n",
       ":   'integer'has_superstructure_cement_mortar_brick\n",
       ":   'integer'has_superstructure_timber\n",
       ":   'integer'has_superstructure_bamboo\n",
       ":   'integer'has_superstructure_rc_non_engineered\n",
       ":   'integer'has_superstructure_rc_engineered\n",
       ":   'integer'has_superstructure_other\n",
       ":   'integer'legal_ownership_status\n",
       ":   'character'count_families\n",
       ":   'integer'has_secondary_use\n",
       ":   'integer'has_secondary_use_agriculture\n",
       ":   'integer'has_secondary_use_hotel\n",
       ":   'integer'has_secondary_use_rental\n",
       ":   'integer'has_secondary_use_institution\n",
       ":   'integer'has_secondary_use_school\n",
       ":   'integer'has_secondary_use_industry\n",
       ":   'integer'has_secondary_use_health_post\n",
       ":   'integer'has_secondary_use_gov_office\n",
       ":   'integer'has_secondary_use_use_police\n",
       ":   'integer'has_secondary_use_other\n",
       ":   'integer'\n",
       "\n"
      ],
      "text/plain": [
       "                        geo_level_1_id                         geo_level_2_id \n",
       "                             \"integer\"                              \"integer\" \n",
       "                        geo_level_3_id                    count_floors_pre_eq \n",
       "                             \"integer\"                              \"integer\" \n",
       "                                   age                        area_percentage \n",
       "                             \"integer\"                              \"integer\" \n",
       "                     height_percentage                 land_surface_condition \n",
       "                             \"integer\"                            \"character\" \n",
       "                       foundation_type                              roof_type \n",
       "                           \"character\"                            \"character\" \n",
       "                     ground_floor_type                       other_floor_type \n",
       "                           \"character\"                            \"character\" \n",
       "                              position                     plan_configuration \n",
       "                           \"character\"                            \"character\" \n",
       "          has_superstructure_adobe_mud    has_superstructure_mud_mortar_stone \n",
       "                             \"integer\"                              \"integer\" \n",
       "         has_superstructure_stone_flag has_superstructure_cement_mortar_stone \n",
       "                             \"integer\"                              \"integer\" \n",
       "   has_superstructure_mud_mortar_brick has_superstructure_cement_mortar_brick \n",
       "                             \"integer\"                              \"integer\" \n",
       "             has_superstructure_timber              has_superstructure_bamboo \n",
       "                             \"integer\"                              \"integer\" \n",
       "  has_superstructure_rc_non_engineered       has_superstructure_rc_engineered \n",
       "                             \"integer\"                              \"integer\" \n",
       "              has_superstructure_other                 legal_ownership_status \n",
       "                             \"integer\"                            \"character\" \n",
       "                        count_families                      has_secondary_use \n",
       "                             \"integer\"                              \"integer\" \n",
       "         has_secondary_use_agriculture                has_secondary_use_hotel \n",
       "                             \"integer\"                              \"integer\" \n",
       "              has_secondary_use_rental          has_secondary_use_institution \n",
       "                             \"integer\"                              \"integer\" \n",
       "              has_secondary_use_school             has_secondary_use_industry \n",
       "                             \"integer\"                              \"integer\" \n",
       "         has_secondary_use_health_post           has_secondary_use_gov_office \n",
       "                             \"integer\"                              \"integer\" \n",
       "          has_secondary_use_use_police                has_secondary_use_other \n",
       "                             \"integer\"                              \"integer\" "
      ]
     },
     "metadata": {},
     "output_type": "display_data"
    }
   ],
   "source": [
    "sapply(training_values, class)"
   ]
  },
  {
   "cell_type": "markdown",
   "id": "c765999e",
   "metadata": {},
   "source": [
    "The *sapply()* function is used here to apply the *class()* function to each column of the training_values dataset which thus returns the classes for each feature. The class 'integer' means that the values of feature are integers and the vlass 'character' means that the values of the feature are characters. Since categories can also be integers, the features of class 'integer' were first analyzed via the summaries made earlier. This way, we found out that these features were either numerical or already binary. We can thus simply identify the categorical features as their class is 'character'. "
   ]
  },
  {
   "cell_type": "code",
   "execution_count": 8,
   "id": "e2ec3aa6",
   "metadata": {},
   "outputs": [
    {
     "name": "stdout",
     "output_type": "stream",
     "text": [
      "[1] \"land_surface_condition\" \"foundation_type\"        \"roof_type\"             \n",
      "[4] \"ground_floor_type\"      \"other_floor_type\"       \"position\"              \n",
      "[7] \"plan_configuration\"     \"legal_ownership_status\"\n"
     ]
    }
   ],
   "source": [
    "# This function print the categorical features\n",
    "print(names(which(sapply(training_values, is.character))))"
   ]
  },
  {
   "cell_type": "markdown",
   "id": "d60e65b6",
   "metadata": {},
   "source": [
    "Now that the categorical variables are identified in the dataset, one-hot encoding can be performed."
   ]
  },
  {
   "cell_type": "code",
   "execution_count": 9,
   "id": "eaf049ad",
   "metadata": {},
   "outputs": [
    {
     "name": "stdout",
     "output_type": "stream",
     "text": [
      " [1] \"geo_level_1_id\"                        \n",
      " [2] \"geo_level_2_id\"                        \n",
      " [3] \"geo_level_3_id\"                        \n",
      " [4] \"count_floors_pre_eq\"                   \n",
      " [5] \"age\"                                   \n",
      " [6] \"area_percentage\"                       \n",
      " [7] \"height_percentage\"                     \n",
      " [8] \"land_surface_conditionn\"               \n",
      " [9] \"land_surface_conditiono\"               \n",
      "[10] \"land_surface_conditiont\"               \n",
      "[11] \"foundation_typeh\"                      \n",
      "[12] \"foundation_typei\"                      \n",
      "[13] \"foundation_typer\"                      \n",
      "[14] \"foundation_typeu\"                      \n",
      "[15] \"foundation_typew\"                      \n",
      "[16] \"roof_typen\"                            \n",
      "[17] \"roof_typeq\"                            \n",
      "[18] \"roof_typex\"                            \n",
      "[19] \"ground_floor_typef\"                    \n",
      "[20] \"ground_floor_typem\"                    \n",
      "[21] \"ground_floor_typev\"                    \n",
      "[22] \"ground_floor_typex\"                    \n",
      "[23] \"ground_floor_typez\"                    \n",
      "[24] \"other_floor_typej\"                     \n",
      "[25] \"other_floor_typeq\"                     \n",
      "[26] \"other_floor_types\"                     \n",
      "[27] \"other_floor_typex\"                     \n",
      "[28] \"positionj\"                             \n",
      "[29] \"positiono\"                             \n",
      "[30] \"positions\"                             \n",
      "[31] \"positiont\"                             \n",
      "[32] \"plan_configurationa\"                   \n",
      "[33] \"plan_configurationc\"                   \n",
      "[34] \"plan_configurationd\"                   \n",
      "[35] \"plan_configurationf\"                   \n",
      "[36] \"plan_configurationm\"                   \n",
      "[37] \"plan_configurationn\"                   \n",
      "[38] \"plan_configurationo\"                   \n",
      "[39] \"plan_configurationq\"                   \n",
      "[40] \"plan_configurations\"                   \n",
      "[41] \"plan_configurationu\"                   \n",
      "[42] \"has_superstructure_adobe_mud\"          \n",
      "[43] \"has_superstructure_mud_mortar_stone\"   \n",
      "[44] \"has_superstructure_stone_flag\"         \n",
      "[45] \"has_superstructure_cement_mortar_stone\"\n",
      "[46] \"has_superstructure_mud_mortar_brick\"   \n",
      "[47] \"has_superstructure_cement_mortar_brick\"\n",
      "[48] \"has_superstructure_timber\"             \n",
      "[49] \"has_superstructure_bamboo\"             \n",
      "[50] \"has_superstructure_rc_non_engineered\"  \n",
      "[51] \"has_superstructure_rc_engineered\"      \n",
      "[52] \"has_superstructure_other\"              \n",
      "[53] \"legal_ownership_statusa\"               \n",
      "[54] \"legal_ownership_statusr\"               \n",
      "[55] \"legal_ownership_statusv\"               \n",
      "[56] \"legal_ownership_statusw\"               \n",
      "[57] \"count_families\"                        \n",
      "[58] \"has_secondary_use\"                     \n",
      "[59] \"has_secondary_use_agriculture\"         \n",
      "[60] \"has_secondary_use_hotel\"               \n",
      "[61] \"has_secondary_use_rental\"              \n",
      "[62] \"has_secondary_use_institution\"         \n",
      "[63] \"has_secondary_use_school\"              \n",
      "[64] \"has_secondary_use_industry\"            \n",
      "[65] \"has_secondary_use_health_post\"         \n",
      "[66] \"has_secondary_use_gov_office\"          \n",
      "[67] \"has_secondary_use_use_police\"          \n",
      "[68] \"has_secondary_use_other\"               \n"
     ]
    }
   ],
   "source": [
    "# Perform one-hot encoding on the categorical features.\n",
    "dummy <- dummyVars(\" ~ .\", data=training_values)\n",
    "num_training_values = data.frame(predict(dummy, newdata=training_values))\n",
    "\n",
    "# Check if the one-hot encoding of the numerical variables was succesful.\n",
    "num_features = names(num_training_values)\n",
    "print(num_features)"
   ]
  },
  {
   "cell_type": "code",
   "execution_count": 10,
   "id": "49411e4c",
   "metadata": {},
   "outputs": [
    {
     "data": {
      "text/html": [
       "<style>\n",
       ".list-inline {list-style: none; margin:0; padding: 0}\n",
       ".list-inline>li {display: inline-block}\n",
       ".list-inline>li:not(:last-child)::after {content: \"\\00b7\"; padding: 0 .5ex}\n",
       "</style>\n",
       "<ol class=list-inline><li>260601</li><li>68</li></ol>\n"
      ],
      "text/latex": [
       "\\begin{enumerate*}\n",
       "\\item 260601\n",
       "\\item 68\n",
       "\\end{enumerate*}\n"
      ],
      "text/markdown": [
       "1. 260601\n",
       "2. 68\n",
       "\n",
       "\n"
      ],
      "text/plain": [
       "[1] 260601     68"
      ]
     },
     "metadata": {},
     "output_type": "display_data"
    }
   ],
   "source": [
    "dim(num_training_values)"
   ]
  },
  {
   "cell_type": "markdown",
   "id": "fa242542",
   "metadata": {},
   "source": [
    "The new dataset called num_training_values contains the numerical features and the categorical features that have been one-hot encoded. The dimensions of this new dataset shows that the number of features has increased to 67. This dataset can now be used in machine learning algorithms."
   ]
  },
  {
   "cell_type": "markdown",
   "id": "3e15f98d",
   "metadata": {},
   "source": [
    "Furthermore, since numerical features use different scales and ranges, it is generally recommended to normalize them to make training much more stable. Since, it's not necessary to normalize binary features, the non-binary features were first isolated from the dataset."
   ]
  },
  {
   "cell_type": "code",
   "execution_count": 11,
   "id": "23cb9307",
   "metadata": {},
   "outputs": [
    {
     "data": {
      "text/html": [
       "<style>\n",
       ".list-inline {list-style: none; margin:0; padding: 0}\n",
       ".list-inline>li {display: inline-block}\n",
       ".list-inline>li:not(:last-child)::after {content: \"\\00b7\"; padding: 0 .5ex}\n",
       "</style>\n",
       "<ol class=list-inline><li>'geo_level_1_id'</li><li>'geo_level_2_id'</li><li>'geo_level_3_id'</li><li>'count_floors_pre_eq'</li><li>'age'</li><li>'area_percentage'</li><li>'height_percentage'</li><li>'count_families'</li></ol>\n"
      ],
      "text/latex": [
       "\\begin{enumerate*}\n",
       "\\item 'geo\\_level\\_1\\_id'\n",
       "\\item 'geo\\_level\\_2\\_id'\n",
       "\\item 'geo\\_level\\_3\\_id'\n",
       "\\item 'count\\_floors\\_pre\\_eq'\n",
       "\\item 'age'\n",
       "\\item 'area\\_percentage'\n",
       "\\item 'height\\_percentage'\n",
       "\\item 'count\\_families'\n",
       "\\end{enumerate*}\n"
      ],
      "text/markdown": [
       "1. 'geo_level_1_id'\n",
       "2. 'geo_level_2_id'\n",
       "3. 'geo_level_3_id'\n",
       "4. 'count_floors_pre_eq'\n",
       "5. 'age'\n",
       "6. 'area_percentage'\n",
       "7. 'height_percentage'\n",
       "8. 'count_families'\n",
       "\n",
       "\n"
      ],
      "text/plain": [
       "[1] \"geo_level_1_id\"      \"geo_level_2_id\"      \"geo_level_3_id\"     \n",
       "[4] \"count_floors_pre_eq\" \"age\"                 \"area_percentage\"    \n",
       "[7] \"height_percentage\"   \"count_families\"     "
      ]
     },
     "metadata": {},
     "output_type": "display_data"
    }
   ],
   "source": [
    "# Identify the non-binary numerical variables.\n",
    "non_binary_features = sapply(num_training_values, function(x) length(unique(x)) > 2)\n",
    "binary_features = sapply(num_training_values, function(x) length(unique(x)) <= 2)\n",
    "                             \n",
    "names(num_training_values[, non_binary_features]) "
   ]
  },
  {
   "cell_type": "markdown",
   "id": "0d20e886",
   "metadata": {},
   "source": [
    "There are thus 8 non-binary numerical features that should be normalized."
   ]
  },
  {
   "cell_type": "code",
   "execution_count": 12,
   "id": "2ea8a205",
   "metadata": {},
   "outputs": [],
   "source": [
    "# Create a subset of the non-binary values and binary values.\n",
    "non_binary_values = num_training_values[, non_binary_features]\n",
    "binary_values = num_training_values[, binary_features]\n",
    "\n",
    "\n",
    "# Normalize the non-binary features.\n",
    "preProcValues = preProcess(non_binary_values, method=c(\"center\", \"scale\"))\n",
    "normalized_num_values = predict(preProcValues, non_binary_values)\n",
    "\n",
    "# Merge the normalized numerical features with the binary features\n",
    "normalized_training_values = cbind(normalized_num_values, binary_values)"
   ]
  },
  {
   "cell_type": "markdown",
   "id": "a55d96d1",
   "metadata": {},
   "source": [
    "The new dataset calles normalized_training_values contains the normalized non-binary numerical features and the categorical features that were converted into binary features."
   ]
  },
  {
   "cell_type": "markdown",
   "id": "0311ca50",
   "metadata": {},
   "source": [
    "### 1.5. Scatterplots between the numerical training values"
   ]
  },
  {
   "cell_type": "code",
   "execution_count": 13,
   "id": "83de4de4",
   "metadata": {},
   "outputs": [],
   "source": [
    "combined_data = cbind(normalized_training_values,training_labels)\n"
   ]
  },
  {
   "cell_type": "code",
   "execution_count": 14,
   "id": "7bb9bf3b",
   "metadata": {},
   "outputs": [],
   "source": [
    "combined_data$damage_grade = as.factor(combined_data$damage_grade)"
   ]
  },
  {
   "cell_type": "markdown",
   "id": "6661feb1",
   "metadata": {},
   "source": [
    "Correlated features in the dataset could lead to a problem known as **multicollinearity** which can have a negative effect on the accuracy of the predictive model. "
   ]
  },
  {
   "cell_type": "code",
   "execution_count": 52,
   "id": "cc2487dc",
   "metadata": {},
   "outputs": [
    {
     "name": "stderr",
     "output_type": "stream",
     "text": [
      "\u001b[1m\u001b[22m`stat_bin()` using `bins = 30`. Pick better value with `binwidth`.\n",
      "\u001b[1m\u001b[22m`stat_bin()` using `bins = 30`. Pick better value with `binwidth`.\n",
      "\u001b[1m\u001b[22m`stat_bin()` using `bins = 30`. Pick better value with `binwidth`.\n",
      "\u001b[1m\u001b[22m`stat_bin()` using `bins = 30`. Pick better value with `binwidth`.\n",
      "\u001b[1m\u001b[22m`stat_bin()` using `bins = 30`. Pick better value with `binwidth`.\n",
      "\u001b[1m\u001b[22m`stat_bin()` using `bins = 30`. Pick better value with `binwidth`.\n",
      "\u001b[1m\u001b[22m`stat_bin()` using `bins = 30`. Pick better value with `binwidth`.\n",
      "\u001b[1m\u001b[22m`stat_bin()` using `bins = 30`. Pick better value with `binwidth`.\n"
     ]
    },
    {
     "data": {
      "image/png": "[encoded data removed]",
      "text/plain": [
       "plot without title"
      ]
     },
     "metadata": {
      "image/png": {
       "height": 420,
       "width": 420
      }
     },
     "output_type": "display_data"
    }
   ],
   "source": [
    "ggpairs(sampled_data, aes(colour = damage_grade))"
   ]
  },
  {
   "cell_type": "code",
   "execution_count": 15,
   "id": "4d690d96",
   "metadata": {},
   "outputs": [],
   "source": [
    "correlation_matrix = cor(normalized_training_values)"
   ]
  },
  {
   "cell_type": "code",
   "execution_count": 16,
   "id": "47a70b0c",
   "metadata": {},
   "outputs": [
    {
     "name": "stdout",
     "output_type": "stream",
     "text": [
      "The following variables have high correlation:\n",
      "height_percentage and count_floors_pre_eq\n",
      "count_floors_pre_eq and height_percentage\n",
      "land_surface_conditiont and land_surface_conditionn\n",
      "land_surface_conditionn and land_surface_conditiont\n",
      "roof_typex and foundation_typei\n",
      "roof_typeq and roof_typen\n",
      "roof_typen and roof_typeq\n",
      "foundation_typei and roof_typex\n",
      "other_floor_types and roof_typex\n",
      "roof_typex and other_floor_types\n",
      "positiont and positions\n",
      "positions and positiont\n",
      "plan_configurationq and plan_configurationd\n",
      "plan_configurationd and plan_configurationq\n",
      "legal_ownership_statusv and legal_ownership_statusa\n",
      "legal_ownership_statusa and legal_ownership_statusv\n",
      "has_secondary_use_agriculture and has_secondary_use\n",
      "has_secondary_use and has_secondary_use_agriculture\n"
     ]
    }
   ],
   "source": [
    "# Set the correlation threshold\n",
    "correlation_threshold <- 0.7\n",
    "\n",
    "# Identify highly correlated featured. \n",
    "high_corr <- which(abs(correlation_matrix) > correlation_threshold & correlation_matrix != 1, arr.ind = TRUE)\n",
    "\n",
    "# Print which features are highly correlated.\n",
    "if (length(high_corr) == 0) {\n",
    "  cat(\"No high correlation among variables.\\n\")\n",
    "} else {\n",
    "  cat(\"The following variables have high correlation:\\n\")\n",
    "  for (i in 1:nrow(high_corr)) {\n",
    "    var1 <- rownames(correlation_matrix)[high_corr[i, 1]]\n",
    "    var2 <- colnames(correlation_matrix)[high_corr[i, 2]]\n",
    "    cat(sprintf(\"%s and %s\\n\", var1, var2))\n",
    "  }\n",
    "}"
   ]
  },
  {
   "cell_type": "markdown",
   "id": "4ac33b22",
   "metadata": {},
   "source": [
    "Here we can see that a lot of variables are correlated. This indicates that a linear model will not bee usefull since it will be strongly influenced by these correlations"
   ]
  },
  {
   "cell_type": "markdown",
   "id": "e6fafe0d",
   "metadata": {},
   "source": [
    "## 2. Feature selection?"
   ]
  },
  {
   "cell_type": "markdown",
   "id": "353d95e5",
   "metadata": {},
   "source": [
    "Next, feature selection is done to improve the accuracy of the predictive model. The feature selection sep aims at reducing the number of variables. This step has 2 main advantages:\n",
    "\n",
    "* A decrease of the training time.\n",
    "* A decrease of the complexity of the predictive model.\n",
    "\n",
    "*Feature selection can be done in two main ways: Either via a filter method or a wrapper method. Filter methods evaluate the important of features without taking the performance of the learning algorithm into account. Unlike filter methods, wrapper methods do evaluate the performance of the learning algorithm for subsets of features. These mthods thus find a good subset of features using the learning algorithm itself. Since the goals is to create a predictor that is as accurate as possible, a wrapper method for the feature selection was done. *"
   ]
  },
  {
   "cell_type": "markdown",
   "id": "e792cd35",
   "metadata": {},
   "source": [
    "First we split the dataframe back into the features and the labels. We also define the number of examples and the number of variables available in the dataset."
   ]
  },
  {
   "cell_type": "code",
   "execution_count": 17,
   "id": "bb0f6f44",
   "metadata": {},
   "outputs": [],
   "source": [
    "X<-combined_data[,setdiff(colnames(combined_data),\"damage_grade\")]\n",
    "Y<-combined_data[,\"damage_grade\"]\n",
    "\n",
    "N<-nrow(X)    #Number of examples\n",
    "n<-ncol(X)    #Number of input variables"
   ]
  },
  {
   "cell_type": "markdown",
   "id": "fa8e18f9",
   "metadata": {},
   "source": [
    "Next, we perform a feature selection. The method chosen is the mRMR. This is a preprocessing method that attempts to asses the merits of features from the data, ignoring the effects of the selected feature subset on the performance of the learning algorithm. It does so by calculating the minimum redundancy maximum relevance"
   ]
  },
  {
   "cell_type": "markdown",
   "id": "4ec4f788",
   "metadata": {},
   "source": [
    "mRMR ranks the features from most relevant to the damage grade variable and the least redundancy to least relevant to the damage grade variable. Therefore, the relevant features can be selected starting from the top of the list. "
   ]
  },
  {
   "cell_type": "code",
   "execution_count": 18,
   "id": "964139e7",
   "metadata": {},
   "outputs": [],
   "source": [
    "# drop = F is used to preserve the structure of the data as data.frame (see https://www.r-bloggers.com/2018/02/r-tip-use-drop-false-with-data-frames/)\n",
    "Y <- as.numeric(Y)\n",
    "\n",
    "correlation <- abs(cor(X,Y))\n",
    "\n",
    "# Initialization : No variables are selected and all the variables are candidates\n",
    "selected <- c()\n",
    "candidates <- 1:n\n",
    "\n",
    "# mRMR ranks the variables by taking account not only the correlation with the output, but also by avoiding redundant variables\n",
    "mRMR_scores <- numeric(n)\n",
    "for (j in 1:n) {\n",
    "    redundancy_score <- numeric(length(candidates))\n",
    "    \n",
    "    if (length(selected) > 0) {\n",
    "        # Compute the correlation between the selected variables and the candidates on the training set\n",
    "        cor_selected_candidates <- cor(X[,selected,drop=F],X[,candidates,drop=F])\n",
    "        # Compute the mean correlation for each candidate variable, across the selected variables\n",
    "        redundancy_score <- apply(cor_selected_candidates,2,mean)\n",
    "    }\n",
    "    \n",
    "    # mRMR: minimum Redundancy Maximum Relevancy\n",
    "    mRMR_score <- correlation[candidates] - redundancy_score\n",
    "    mRMR_scores[candidates] <- mRMR_score\n",
    "    \n",
    "    # Select the candidate variable that maximizes the mRMR score\n",
    "    selected_current <- candidates[which.max(mRMR_score)]\n",
    "    selected <- c(selected,selected_current)\n",
    "    \n",
    "    # Remove the selected variables from the candidates\n",
    "    candidates <- setdiff(candidates,selected_current)\n",
    "}\n",
    "\n",
    "ranking <- selected\n",
    "mRMR_ranking <- paste(ranking, collapse = \", \")\n",
    "mRMR_scores <- mRMR_scores[ranking]"
   ]
  },
  {
   "cell_type": "markdown",
   "id": "fd659aa4",
   "metadata": {},
   "source": [
    "The selection of the relevant features was based on the mRMR scores and the research question. First of all, a threshold of 0.1 was initially considered as a possible cut-off. Features before this cut-off were mostly related to the state of the building whereas those after the cut-off were more related to the building's usage. However, since the feature that comes right after the cut-off is also related to the building's structure, it was included as well.\n",
    "\n",
    "The reason behind selecting the features that are related to the building's structure is that they are most relevant to the research question. For instance, a building that is build with weak materials may suffer greater damage due to an earthquake than one that is build with very firm materials."
   ]
  },
  {
   "cell_type": "code",
   "execution_count": 19,
   "id": "e3c8fc38",
   "metadata": {},
   "outputs": [
    {
     "data": {
      "text/html": [
       "<table class=\"dataframe\">\n",
       "<caption>A data.frame: 68 × 2</caption>\n",
       "<thead>\n",
       "\t<tr><th scope=col>Rank</th><th scope=col>Score</th></tr>\n",
       "\t<tr><th scope=col>&lt;chr&gt;</th><th scope=col>&lt;dbl&gt;</th></tr>\n",
       "</thead>\n",
       "<tbody>\n",
       "\t<tr><td>14</td><td>0.34335543</td></tr>\n",
       "\t<tr><td>22</td><td>0.83301994</td></tr>\n",
       "\t<tr><td>16</td><td>0.46892034</td></tr>\n",
       "\t<tr><td>44</td><td>0.35811874</td></tr>\n",
       "\t<tr><td>19</td><td>0.36056568</td></tr>\n",
       "\t<tr><td>20</td><td>0.30085457</td></tr>\n",
       "\t<tr><td>48</td><td>0.31125832</td></tr>\n",
       "\t<tr><td>13</td><td>0.22653311</td></tr>\n",
       "\t<tr><td>26</td><td>0.21439971</td></tr>\n",
       "\t<tr><td>15</td><td>0.18432902</td></tr>\n",
       "\t<tr><td>25</td><td>0.16322263</td></tr>\n",
       "\t<tr><td>4 </td><td>0.16317243</td></tr>\n",
       "\t<tr><td>27</td><td>0.14569200</td></tr>\n",
       "\t<tr><td>17</td><td>0.14756234</td></tr>\n",
       "\t<tr><td>18</td><td>0.15166210</td></tr>\n",
       "\t<tr><td>52</td><td>0.12544162</td></tr>\n",
       "\t<tr><td>51</td><td>0.11402021</td></tr>\n",
       "\t<tr><td>28</td><td>0.10447833</td></tr>\n",
       "\t<tr><td>49</td><td>0.08861578</td></tr>\n",
       "\t<tr><td>54</td><td>0.07940378</td></tr>\n",
       "\t<tr><td>56</td><td>0.08619138</td></tr>\n",
       "\t<tr><td>6 </td><td>0.07666649</td></tr>\n",
       "\t<tr><td>43</td><td>0.07322625</td></tr>\n",
       "\t<tr><td>45</td><td>0.07131914</td></tr>\n",
       "\t<tr><td>60</td><td>0.06046685</td></tr>\n",
       "\t<tr><td>61</td><td>0.05846037</td></tr>\n",
       "\t<tr><td>31</td><td>0.05842022</td></tr>\n",
       "\t<tr><td>32</td><td>0.07096807</td></tr>\n",
       "\t<tr><td>1 </td><td>0.05848183</td></tr>\n",
       "\t<tr><td>35</td><td>0.05598660</td></tr>\n",
       "\t<tr><td>⋮</td><td>⋮</td></tr>\n",
       "\t<tr><td>23</td><td> 0.0268414605</td></tr>\n",
       "\t<tr><td>53</td><td> 0.0242300677</td></tr>\n",
       "\t<tr><td>40</td><td> 0.0233963025</td></tr>\n",
       "\t<tr><td>33</td><td> 0.0214638406</td></tr>\n",
       "\t<tr><td>34</td><td> 0.0215287617</td></tr>\n",
       "\t<tr><td>62</td><td> 0.0214248066</td></tr>\n",
       "\t<tr><td>29</td><td> 0.0195350291</td></tr>\n",
       "\t<tr><td>24</td><td> 0.0186665948</td></tr>\n",
       "\t<tr><td>21</td><td> 0.0184217812</td></tr>\n",
       "\t<tr><td>12</td><td> 0.0150889719</td></tr>\n",
       "\t<tr><td>10</td><td> 0.0146041087</td></tr>\n",
       "\t<tr><td>11</td><td> 0.0227241667</td></tr>\n",
       "\t<tr><td>9 </td><td> 0.0283249162</td></tr>\n",
       "\t<tr><td>7 </td><td> 0.0145279461</td></tr>\n",
       "\t<tr><td>39</td><td> 0.0138919087</td></tr>\n",
       "\t<tr><td>41</td><td> 0.0125776055</td></tr>\n",
       "\t<tr><td>68</td><td> 0.0120458458</td></tr>\n",
       "\t<tr><td>3 </td><td> 0.0091697105</td></tr>\n",
       "\t<tr><td>55</td><td> 0.0087435413</td></tr>\n",
       "\t<tr><td>64</td><td> 0.0083210730</td></tr>\n",
       "\t<tr><td>63</td><td> 0.0074076049</td></tr>\n",
       "\t<tr><td>65</td><td> 0.0069857333</td></tr>\n",
       "\t<tr><td>66</td><td> 0.0070256114</td></tr>\n",
       "\t<tr><td>37</td><td> 0.0060728506</td></tr>\n",
       "\t<tr><td>47</td><td> 0.0048157574</td></tr>\n",
       "\t<tr><td>59</td><td> 0.0041246893</td></tr>\n",
       "\t<tr><td>38</td><td> 0.0023860227</td></tr>\n",
       "\t<tr><td>36</td><td> 0.0010712613</td></tr>\n",
       "\t<tr><td>67</td><td> 0.0009912802</td></tr>\n",
       "\t<tr><td>30</td><td>-0.0031559064</td></tr>\n",
       "</tbody>\n",
       "</table>\n"
      ],
      "text/latex": [
       "A data.frame: 68 × 2\n",
       "\\begin{tabular}{ll}\n",
       " Rank & Score\\\\\n",
       " <chr> & <dbl>\\\\\n",
       "\\hline\n",
       "\t 14 & 0.34335543\\\\\n",
       "\t 22 & 0.83301994\\\\\n",
       "\t 16 & 0.46892034\\\\\n",
       "\t 44 & 0.35811874\\\\\n",
       "\t 19 & 0.36056568\\\\\n",
       "\t 20 & 0.30085457\\\\\n",
       "\t 48 & 0.31125832\\\\\n",
       "\t 13 & 0.22653311\\\\\n",
       "\t 26 & 0.21439971\\\\\n",
       "\t 15 & 0.18432902\\\\\n",
       "\t 25 & 0.16322263\\\\\n",
       "\t 4  & 0.16317243\\\\\n",
       "\t 27 & 0.14569200\\\\\n",
       "\t 17 & 0.14756234\\\\\n",
       "\t 18 & 0.15166210\\\\\n",
       "\t 52 & 0.12544162\\\\\n",
       "\t 51 & 0.11402021\\\\\n",
       "\t 28 & 0.10447833\\\\\n",
       "\t 49 & 0.08861578\\\\\n",
       "\t 54 & 0.07940378\\\\\n",
       "\t 56 & 0.08619138\\\\\n",
       "\t 6  & 0.07666649\\\\\n",
       "\t 43 & 0.07322625\\\\\n",
       "\t 45 & 0.07131914\\\\\n",
       "\t 60 & 0.06046685\\\\\n",
       "\t 61 & 0.05846037\\\\\n",
       "\t 31 & 0.05842022\\\\\n",
       "\t 32 & 0.07096807\\\\\n",
       "\t 1  & 0.05848183\\\\\n",
       "\t 35 & 0.05598660\\\\\n",
       "\t ⋮ & ⋮\\\\\n",
       "\t 23 &  0.0268414605\\\\\n",
       "\t 53 &  0.0242300677\\\\\n",
       "\t 40 &  0.0233963025\\\\\n",
       "\t 33 &  0.0214638406\\\\\n",
       "\t 34 &  0.0215287617\\\\\n",
       "\t 62 &  0.0214248066\\\\\n",
       "\t 29 &  0.0195350291\\\\\n",
       "\t 24 &  0.0186665948\\\\\n",
       "\t 21 &  0.0184217812\\\\\n",
       "\t 12 &  0.0150889719\\\\\n",
       "\t 10 &  0.0146041087\\\\\n",
       "\t 11 &  0.0227241667\\\\\n",
       "\t 9  &  0.0283249162\\\\\n",
       "\t 7  &  0.0145279461\\\\\n",
       "\t 39 &  0.0138919087\\\\\n",
       "\t 41 &  0.0125776055\\\\\n",
       "\t 68 &  0.0120458458\\\\\n",
       "\t 3  &  0.0091697105\\\\\n",
       "\t 55 &  0.0087435413\\\\\n",
       "\t 64 &  0.0083210730\\\\\n",
       "\t 63 &  0.0074076049\\\\\n",
       "\t 65 &  0.0069857333\\\\\n",
       "\t 66 &  0.0070256114\\\\\n",
       "\t 37 &  0.0060728506\\\\\n",
       "\t 47 &  0.0048157574\\\\\n",
       "\t 59 &  0.0041246893\\\\\n",
       "\t 38 &  0.0023860227\\\\\n",
       "\t 36 &  0.0010712613\\\\\n",
       "\t 67 &  0.0009912802\\\\\n",
       "\t 30 & -0.0031559064\\\\\n",
       "\\end{tabular}\n"
      ],
      "text/markdown": [
       "\n",
       "A data.frame: 68 × 2\n",
       "\n",
       "| Rank &lt;chr&gt; | Score &lt;dbl&gt; |\n",
       "|---|---|\n",
       "| 14 | 0.34335543 |\n",
       "| 22 | 0.83301994 |\n",
       "| 16 | 0.46892034 |\n",
       "| 44 | 0.35811874 |\n",
       "| 19 | 0.36056568 |\n",
       "| 20 | 0.30085457 |\n",
       "| 48 | 0.31125832 |\n",
       "| 13 | 0.22653311 |\n",
       "| 26 | 0.21439971 |\n",
       "| 15 | 0.18432902 |\n",
       "| 25 | 0.16322263 |\n",
       "| 4  | 0.16317243 |\n",
       "| 27 | 0.14569200 |\n",
       "| 17 | 0.14756234 |\n",
       "| 18 | 0.15166210 |\n",
       "| 52 | 0.12544162 |\n",
       "| 51 | 0.11402021 |\n",
       "| 28 | 0.10447833 |\n",
       "| 49 | 0.08861578 |\n",
       "| 54 | 0.07940378 |\n",
       "| 56 | 0.08619138 |\n",
       "| 6  | 0.07666649 |\n",
       "| 43 | 0.07322625 |\n",
       "| 45 | 0.07131914 |\n",
       "| 60 | 0.06046685 |\n",
       "| 61 | 0.05846037 |\n",
       "| 31 | 0.05842022 |\n",
       "| 32 | 0.07096807 |\n",
       "| 1  | 0.05848183 |\n",
       "| 35 | 0.05598660 |\n",
       "| ⋮ | ⋮ |\n",
       "| 23 |  0.0268414605 |\n",
       "| 53 |  0.0242300677 |\n",
       "| 40 |  0.0233963025 |\n",
       "| 33 |  0.0214638406 |\n",
       "| 34 |  0.0215287617 |\n",
       "| 62 |  0.0214248066 |\n",
       "| 29 |  0.0195350291 |\n",
       "| 24 |  0.0186665948 |\n",
       "| 21 |  0.0184217812 |\n",
       "| 12 |  0.0150889719 |\n",
       "| 10 |  0.0146041087 |\n",
       "| 11 |  0.0227241667 |\n",
       "| 9  |  0.0283249162 |\n",
       "| 7  |  0.0145279461 |\n",
       "| 39 |  0.0138919087 |\n",
       "| 41 |  0.0125776055 |\n",
       "| 68 |  0.0120458458 |\n",
       "| 3  |  0.0091697105 |\n",
       "| 55 |  0.0087435413 |\n",
       "| 64 |  0.0083210730 |\n",
       "| 63 |  0.0074076049 |\n",
       "| 65 |  0.0069857333 |\n",
       "| 66 |  0.0070256114 |\n",
       "| 37 |  0.0060728506 |\n",
       "| 47 |  0.0048157574 |\n",
       "| 59 |  0.0041246893 |\n",
       "| 38 |  0.0023860227 |\n",
       "| 36 |  0.0010712613 |\n",
       "| 67 |  0.0009912802 |\n",
       "| 30 | -0.0031559064 |\n",
       "\n"
      ],
      "text/plain": [
       "   Rank Score        \n",
       "1  14   0.34335543   \n",
       "2  22   0.83301994   \n",
       "3  16   0.46892034   \n",
       "4  44   0.35811874   \n",
       "5  19   0.36056568   \n",
       "6  20   0.30085457   \n",
       "7  48   0.31125832   \n",
       "8  13   0.22653311   \n",
       "9  26   0.21439971   \n",
       "10 15   0.18432902   \n",
       "11 25   0.16322263   \n",
       "12 4    0.16317243   \n",
       "13 27   0.14569200   \n",
       "14 17   0.14756234   \n",
       "15 18   0.15166210   \n",
       "16 52   0.12544162   \n",
       "17 51   0.11402021   \n",
       "18 28   0.10447833   \n",
       "19 49   0.08861578   \n",
       "20 54   0.07940378   \n",
       "21 56   0.08619138   \n",
       "22 6    0.07666649   \n",
       "23 43   0.07322625   \n",
       "24 45   0.07131914   \n",
       "25 60   0.06046685   \n",
       "26 61   0.05846037   \n",
       "27 31   0.05842022   \n",
       "28 32   0.07096807   \n",
       "29 1    0.05848183   \n",
       "30 35   0.05598660   \n",
       "⋮  ⋮    ⋮            \n",
       "39 23    0.0268414605\n",
       "40 53    0.0242300677\n",
       "41 40    0.0233963025\n",
       "42 33    0.0214638406\n",
       "43 34    0.0215287617\n",
       "44 62    0.0214248066\n",
       "45 29    0.0195350291\n",
       "46 24    0.0186665948\n",
       "47 21    0.0184217812\n",
       "48 12    0.0150889719\n",
       "49 10    0.0146041087\n",
       "50 11    0.0227241667\n",
       "51 9     0.0283249162\n",
       "52 7     0.0145279461\n",
       "53 39    0.0138919087\n",
       "54 41    0.0125776055\n",
       "55 68    0.0120458458\n",
       "56 3     0.0091697105\n",
       "57 55    0.0087435413\n",
       "58 64    0.0083210730\n",
       "59 63    0.0074076049\n",
       "60 65    0.0069857333\n",
       "61 66    0.0070256114\n",
       "62 37    0.0060728506\n",
       "63 47    0.0048157574\n",
       "64 59    0.0041246893\n",
       "65 38    0.0023860227\n",
       "66 36    0.0010712613\n",
       "67 67    0.0009912802\n",
       "68 30   -0.0031559064"
      ]
     },
     "metadata": {},
     "output_type": "display_data"
    }
   ],
   "source": [
    "mRMR_ranking <- unlist(strsplit(mRMR_ranking,\", \"))\n",
    "table <- data.frame(Rank = mRMR_ranking, Score = mRMR_scores)\n",
    "\n",
    "table"
   ]
  },
  {
   "cell_type": "code",
   "execution_count": 22,
   "id": "664e6a24",
   "metadata": {},
   "outputs": [
    {
     "data": {
      "text/html": [
       "<style>\n",
       ".list-inline {list-style: none; margin:0; padding: 0}\n",
       ".list-inline>li {display: inline-block}\n",
       ".list-inline>li:not(:last-child)::after {content: \"\\00b7\"; padding: 0 .5ex}\n",
       "</style>\n",
       "<ol class=list-inline><li>'foundation_typer'</li><li>'ground_floor_typev'</li><li>'foundation_typew'</li><li>'has_superstructure_mud_mortar_stone'</li><li>'roof_typex'</li><li>'ground_floor_typef'</li><li>'has_superstructure_cement_mortar_brick'</li><li>'foundation_typei'</li><li>'other_floor_typeq'</li><li>'foundation_typeu'</li><li>'other_floor_typej'</li><li>'count_floors_pre_eq'</li><li>'other_floor_types'</li><li>'roof_typen'</li><li>'roof_typeq'</li><li>'has_superstructure_rc_engineered'</li><li>'has_superstructure_rc_non_engineered'</li><li>'other_floor_typex'</li><li>'has_superstructure_timber'</li></ol>\n"
      ],
      "text/latex": [
       "\\begin{enumerate*}\n",
       "\\item 'foundation\\_typer'\n",
       "\\item 'ground\\_floor\\_typev'\n",
       "\\item 'foundation\\_typew'\n",
       "\\item 'has\\_superstructure\\_mud\\_mortar\\_stone'\n",
       "\\item 'roof\\_typex'\n",
       "\\item 'ground\\_floor\\_typef'\n",
       "\\item 'has\\_superstructure\\_cement\\_mortar\\_brick'\n",
       "\\item 'foundation\\_typei'\n",
       "\\item 'other\\_floor\\_typeq'\n",
       "\\item 'foundation\\_typeu'\n",
       "\\item 'other\\_floor\\_typej'\n",
       "\\item 'count\\_floors\\_pre\\_eq'\n",
       "\\item 'other\\_floor\\_types'\n",
       "\\item 'roof\\_typen'\n",
       "\\item 'roof\\_typeq'\n",
       "\\item 'has\\_superstructure\\_rc\\_engineered'\n",
       "\\item 'has\\_superstructure\\_rc\\_non\\_engineered'\n",
       "\\item 'other\\_floor\\_typex'\n",
       "\\item 'has\\_superstructure\\_timber'\n",
       "\\end{enumerate*}\n"
      ],
      "text/markdown": [
       "1. 'foundation_typer'\n",
       "2. 'ground_floor_typev'\n",
       "3. 'foundation_typew'\n",
       "4. 'has_superstructure_mud_mortar_stone'\n",
       "5. 'roof_typex'\n",
       "6. 'ground_floor_typef'\n",
       "7. 'has_superstructure_cement_mortar_brick'\n",
       "8. 'foundation_typei'\n",
       "9. 'other_floor_typeq'\n",
       "10. 'foundation_typeu'\n",
       "11. 'other_floor_typej'\n",
       "12. 'count_floors_pre_eq'\n",
       "13. 'other_floor_types'\n",
       "14. 'roof_typen'\n",
       "15. 'roof_typeq'\n",
       "16. 'has_superstructure_rc_engineered'\n",
       "17. 'has_superstructure_rc_non_engineered'\n",
       "18. 'other_floor_typex'\n",
       "19. 'has_superstructure_timber'\n",
       "\n",
       "\n"
      ],
      "text/plain": [
       " [1] \"foundation_typer\"                      \n",
       " [2] \"ground_floor_typev\"                    \n",
       " [3] \"foundation_typew\"                      \n",
       " [4] \"has_superstructure_mud_mortar_stone\"   \n",
       " [5] \"roof_typex\"                            \n",
       " [6] \"ground_floor_typef\"                    \n",
       " [7] \"has_superstructure_cement_mortar_brick\"\n",
       " [8] \"foundation_typei\"                      \n",
       " [9] \"other_floor_typeq\"                     \n",
       "[10] \"foundation_typeu\"                      \n",
       "[11] \"other_floor_typej\"                     \n",
       "[12] \"count_floors_pre_eq\"                   \n",
       "[13] \"other_floor_types\"                     \n",
       "[14] \"roof_typen\"                            \n",
       "[15] \"roof_typeq\"                            \n",
       "[16] \"has_superstructure_rc_engineered\"      \n",
       "[17] \"has_superstructure_rc_non_engineered\"  \n",
       "[18] \"other_floor_typex\"                     \n",
       "[19] \"has_superstructure_timber\"             "
      ]
     },
     "metadata": {},
     "output_type": "display_data"
    }
   ],
   "source": [
    "ranked_features <- c(14, 22, 16, 44, 19, 20, 48, 13, 26, 15, 25, 4, 27, 17, 18, 52, 51, 28, 49, 54, 56, 6, 43, 45, 60, 61, 31, 32, 1, 35, 42, 2, 8, 50, 46, 57, 58, 5, 23, 53, 40, 33, 34, 62, 29, 24, 21, 12, 10, 11, 9, 7, 39, 41, 68, 3, 55, 64, 63, 65, 66, 37, 47, 59, 38, 36, 67, 30)\n",
    "colnames(normalized_training_values[,relevant_features])"
   ]
  },
  {
   "cell_type": "code",
   "execution_count": 21,
   "id": "7d5e36e3",
   "metadata": {},
   "outputs": [
    {
     "data": {
      "text/html": [
       "<style>\n",
       ".list-inline {list-style: none; margin:0; padding: 0}\n",
       ".list-inline>li {display: inline-block}\n",
       ".list-inline>li:not(:last-child)::after {content: \"\\00b7\"; padding: 0 .5ex}\n",
       "</style>\n",
       "<ol class=list-inline><li>'foundation_typer'</li><li>'ground_floor_typev'</li><li>'foundation_typew'</li><li>'has_superstructure_mud_mortar_stone'</li><li>'roof_typex'</li><li>'ground_floor_typef'</li><li>'has_superstructure_cement_mortar_brick'</li><li>'foundation_typei'</li><li>'other_floor_typeq'</li><li>'foundation_typeu'</li><li>'other_floor_typej'</li><li>'count_floors_pre_eq'</li><li>'other_floor_types'</li><li>'roof_typen'</li><li>'roof_typeq'</li><li>'has_superstructure_rc_engineered'</li><li>'has_superstructure_rc_non_engineered'</li><li>'other_floor_typex'</li><li>'has_superstructure_timber'</li></ol>\n"
      ],
      "text/latex": [
       "\\begin{enumerate*}\n",
       "\\item 'foundation\\_typer'\n",
       "\\item 'ground\\_floor\\_typev'\n",
       "\\item 'foundation\\_typew'\n",
       "\\item 'has\\_superstructure\\_mud\\_mortar\\_stone'\n",
       "\\item 'roof\\_typex'\n",
       "\\item 'ground\\_floor\\_typef'\n",
       "\\item 'has\\_superstructure\\_cement\\_mortar\\_brick'\n",
       "\\item 'foundation\\_typei'\n",
       "\\item 'other\\_floor\\_typeq'\n",
       "\\item 'foundation\\_typeu'\n",
       "\\item 'other\\_floor\\_typej'\n",
       "\\item 'count\\_floors\\_pre\\_eq'\n",
       "\\item 'other\\_floor\\_types'\n",
       "\\item 'roof\\_typen'\n",
       "\\item 'roof\\_typeq'\n",
       "\\item 'has\\_superstructure\\_rc\\_engineered'\n",
       "\\item 'has\\_superstructure\\_rc\\_non\\_engineered'\n",
       "\\item 'other\\_floor\\_typex'\n",
       "\\item 'has\\_superstructure\\_timber'\n",
       "\\end{enumerate*}\n"
      ],
      "text/markdown": [
       "1. 'foundation_typer'\n",
       "2. 'ground_floor_typev'\n",
       "3. 'foundation_typew'\n",
       "4. 'has_superstructure_mud_mortar_stone'\n",
       "5. 'roof_typex'\n",
       "6. 'ground_floor_typef'\n",
       "7. 'has_superstructure_cement_mortar_brick'\n",
       "8. 'foundation_typei'\n",
       "9. 'other_floor_typeq'\n",
       "10. 'foundation_typeu'\n",
       "11. 'other_floor_typej'\n",
       "12. 'count_floors_pre_eq'\n",
       "13. 'other_floor_types'\n",
       "14. 'roof_typen'\n",
       "15. 'roof_typeq'\n",
       "16. 'has_superstructure_rc_engineered'\n",
       "17. 'has_superstructure_rc_non_engineered'\n",
       "18. 'other_floor_typex'\n",
       "19. 'has_superstructure_timber'\n",
       "\n",
       "\n"
      ],
      "text/plain": [
       " [1] \"foundation_typer\"                      \n",
       " [2] \"ground_floor_typev\"                    \n",
       " [3] \"foundation_typew\"                      \n",
       " [4] \"has_superstructure_mud_mortar_stone\"   \n",
       " [5] \"roof_typex\"                            \n",
       " [6] \"ground_floor_typef\"                    \n",
       " [7] \"has_superstructure_cement_mortar_brick\"\n",
       " [8] \"foundation_typei\"                      \n",
       " [9] \"other_floor_typeq\"                     \n",
       "[10] \"foundation_typeu\"                      \n",
       "[11] \"other_floor_typej\"                     \n",
       "[12] \"count_floors_pre_eq\"                   \n",
       "[13] \"other_floor_types\"                     \n",
       "[14] \"roof_typen\"                            \n",
       "[15] \"roof_typeq\"                            \n",
       "[16] \"has_superstructure_rc_engineered\"      \n",
       "[17] \"has_superstructure_rc_non_engineered\"  \n",
       "[18] \"other_floor_typex\"                     \n",
       "[19] \"has_superstructure_timber\"             "
      ]
     },
     "metadata": {},
     "output_type": "display_data"
    }
   ],
   "source": [
    "relevant_features <- c(14, 22, 16, 44, 19, 20, 48, 13, 26, 15, 25, 4, 27, 17, 18, 52, 51, 28,49)\n",
    "colnames(normalized_training_values[,relevant_features])"
   ]
  },
  {
   "cell_type": "code",
   "execution_count": 23,
   "id": "0b4854fc",
   "metadata": {},
   "outputs": [
    {
     "data": {
      "text/html": [
       "<table class=\"dataframe\">\n",
       "<caption>A data.frame: 6 × 19</caption>\n",
       "<thead>\n",
       "\t<tr><th></th><th scope=col>foundation_typer</th><th scope=col>ground_floor_typev</th><th scope=col>foundation_typew</th><th scope=col>has_superstructure_mud_mortar_stone</th><th scope=col>roof_typex</th><th scope=col>ground_floor_typef</th><th scope=col>has_superstructure_cement_mortar_brick</th><th scope=col>foundation_typei</th><th scope=col>other_floor_typeq</th><th scope=col>foundation_typeu</th><th scope=col>other_floor_typej</th><th scope=col>count_floors_pre_eq</th><th scope=col>other_floor_types</th><th scope=col>roof_typen</th><th scope=col>roof_typeq</th><th scope=col>has_superstructure_rc_engineered</th><th scope=col>has_superstructure_rc_non_engineered</th><th scope=col>other_floor_typex</th><th scope=col>has_superstructure_timber</th></tr>\n",
       "\t<tr><th></th><th scope=col>&lt;dbl&gt;</th><th scope=col>&lt;dbl&gt;</th><th scope=col>&lt;dbl&gt;</th><th scope=col>&lt;dbl&gt;</th><th scope=col>&lt;dbl&gt;</th><th scope=col>&lt;dbl&gt;</th><th scope=col>&lt;dbl&gt;</th><th scope=col>&lt;dbl&gt;</th><th scope=col>&lt;dbl&gt;</th><th scope=col>&lt;dbl&gt;</th><th scope=col>&lt;dbl&gt;</th><th scope=col>&lt;dbl&gt;</th><th scope=col>&lt;dbl&gt;</th><th scope=col>&lt;dbl&gt;</th><th scope=col>&lt;dbl&gt;</th><th scope=col>&lt;dbl&gt;</th><th scope=col>&lt;dbl&gt;</th><th scope=col>&lt;dbl&gt;</th><th scope=col>&lt;dbl&gt;</th></tr>\n",
       "</thead>\n",
       "<tbody>\n",
       "\t<tr><th scope=row>802906</th><td>1</td><td>0</td><td>0</td><td>1</td><td>0</td><td>1</td><td>0</td><td>0</td><td>1</td><td>0</td><td>0</td><td>-0.1782734</td><td>0</td><td>1</td><td>0</td><td>0</td><td>0</td><td>0</td><td>0</td></tr>\n",
       "\t<tr><th scope=row>28830</th><td>1</td><td>0</td><td>0</td><td>1</td><td>0</td><td>0</td><td>0</td><td>0</td><td>1</td><td>0</td><td>0</td><td>-0.1782734</td><td>0</td><td>1</td><td>0</td><td>0</td><td>0</td><td>0</td><td>0</td></tr>\n",
       "\t<tr><th scope=row>94947</th><td>1</td><td>0</td><td>0</td><td>1</td><td>0</td><td>1</td><td>0</td><td>0</td><td>0</td><td>0</td><td>0</td><td>-0.1782734</td><td>0</td><td>1</td><td>0</td><td>0</td><td>0</td><td>1</td><td>0</td></tr>\n",
       "\t<tr><th scope=row>590882</th><td>1</td><td>0</td><td>0</td><td>1</td><td>0</td><td>1</td><td>0</td><td>0</td><td>0</td><td>0</td><td>0</td><td>-0.1782734</td><td>0</td><td>1</td><td>0</td><td>0</td><td>0</td><td>1</td><td>1</td></tr>\n",
       "\t<tr><th scope=row>201944</th><td>1</td><td>0</td><td>0</td><td>0</td><td>0</td><td>1</td><td>0</td><td>0</td><td>0</td><td>0</td><td>0</td><td> 1.1959862</td><td>0</td><td>1</td><td>0</td><td>0</td><td>0</td><td>1</td><td>0</td></tr>\n",
       "\t<tr><th scope=row>333020</th><td>1</td><td>0</td><td>0</td><td>1</td><td>0</td><td>1</td><td>0</td><td>0</td><td>1</td><td>0</td><td>0</td><td>-0.1782734</td><td>0</td><td>1</td><td>0</td><td>0</td><td>0</td><td>0</td><td>0</td></tr>\n",
       "</tbody>\n",
       "</table>\n"
      ],
      "text/latex": [
       "A data.frame: 6 × 19\n",
       "\\begin{tabular}{r|lllllllllllllllllll}\n",
       "  & foundation\\_typer & ground\\_floor\\_typev & foundation\\_typew & has\\_superstructure\\_mud\\_mortar\\_stone & roof\\_typex & ground\\_floor\\_typef & has\\_superstructure\\_cement\\_mortar\\_brick & foundation\\_typei & other\\_floor\\_typeq & foundation\\_typeu & other\\_floor\\_typej & count\\_floors\\_pre\\_eq & other\\_floor\\_types & roof\\_typen & roof\\_typeq & has\\_superstructure\\_rc\\_engineered & has\\_superstructure\\_rc\\_non\\_engineered & other\\_floor\\_typex & has\\_superstructure\\_timber\\\\\n",
       "  & <dbl> & <dbl> & <dbl> & <dbl> & <dbl> & <dbl> & <dbl> & <dbl> & <dbl> & <dbl> & <dbl> & <dbl> & <dbl> & <dbl> & <dbl> & <dbl> & <dbl> & <dbl> & <dbl>\\\\\n",
       "\\hline\n",
       "\t802906 & 1 & 0 & 0 & 1 & 0 & 1 & 0 & 0 & 1 & 0 & 0 & -0.1782734 & 0 & 1 & 0 & 0 & 0 & 0 & 0\\\\\n",
       "\t28830 & 1 & 0 & 0 & 1 & 0 & 0 & 0 & 0 & 1 & 0 & 0 & -0.1782734 & 0 & 1 & 0 & 0 & 0 & 0 & 0\\\\\n",
       "\t94947 & 1 & 0 & 0 & 1 & 0 & 1 & 0 & 0 & 0 & 0 & 0 & -0.1782734 & 0 & 1 & 0 & 0 & 0 & 1 & 0\\\\\n",
       "\t590882 & 1 & 0 & 0 & 1 & 0 & 1 & 0 & 0 & 0 & 0 & 0 & -0.1782734 & 0 & 1 & 0 & 0 & 0 & 1 & 1\\\\\n",
       "\t201944 & 1 & 0 & 0 & 0 & 0 & 1 & 0 & 0 & 0 & 0 & 0 &  1.1959862 & 0 & 1 & 0 & 0 & 0 & 1 & 0\\\\\n",
       "\t333020 & 1 & 0 & 0 & 1 & 0 & 1 & 0 & 0 & 1 & 0 & 0 & -0.1782734 & 0 & 1 & 0 & 0 & 0 & 0 & 0\\\\\n",
       "\\end{tabular}\n"
      ],
      "text/markdown": [
       "\n",
       "A data.frame: 6 × 19\n",
       "\n",
       "| <!--/--> | foundation_typer &lt;dbl&gt; | ground_floor_typev &lt;dbl&gt; | foundation_typew &lt;dbl&gt; | has_superstructure_mud_mortar_stone &lt;dbl&gt; | roof_typex &lt;dbl&gt; | ground_floor_typef &lt;dbl&gt; | has_superstructure_cement_mortar_brick &lt;dbl&gt; | foundation_typei &lt;dbl&gt; | other_floor_typeq &lt;dbl&gt; | foundation_typeu &lt;dbl&gt; | other_floor_typej &lt;dbl&gt; | count_floors_pre_eq &lt;dbl&gt; | other_floor_types &lt;dbl&gt; | roof_typen &lt;dbl&gt; | roof_typeq &lt;dbl&gt; | has_superstructure_rc_engineered &lt;dbl&gt; | has_superstructure_rc_non_engineered &lt;dbl&gt; | other_floor_typex &lt;dbl&gt; | has_superstructure_timber &lt;dbl&gt; |\n",
       "|---|---|---|---|---|---|---|---|---|---|---|---|---|---|---|---|---|---|---|---|\n",
       "| 802906 | 1 | 0 | 0 | 1 | 0 | 1 | 0 | 0 | 1 | 0 | 0 | -0.1782734 | 0 | 1 | 0 | 0 | 0 | 0 | 0 |\n",
       "| 28830 | 1 | 0 | 0 | 1 | 0 | 0 | 0 | 0 | 1 | 0 | 0 | -0.1782734 | 0 | 1 | 0 | 0 | 0 | 0 | 0 |\n",
       "| 94947 | 1 | 0 | 0 | 1 | 0 | 1 | 0 | 0 | 0 | 0 | 0 | -0.1782734 | 0 | 1 | 0 | 0 | 0 | 1 | 0 |\n",
       "| 590882 | 1 | 0 | 0 | 1 | 0 | 1 | 0 | 0 | 0 | 0 | 0 | -0.1782734 | 0 | 1 | 0 | 0 | 0 | 1 | 1 |\n",
       "| 201944 | 1 | 0 | 0 | 0 | 0 | 1 | 0 | 0 | 0 | 0 | 0 |  1.1959862 | 0 | 1 | 0 | 0 | 0 | 1 | 0 |\n",
       "| 333020 | 1 | 0 | 0 | 1 | 0 | 1 | 0 | 0 | 1 | 0 | 0 | -0.1782734 | 0 | 1 | 0 | 0 | 0 | 0 | 0 |\n",
       "\n"
      ],
      "text/plain": [
       "       foundation_typer ground_floor_typev foundation_typew\n",
       "802906 1                0                  0               \n",
       "28830  1                0                  0               \n",
       "94947  1                0                  0               \n",
       "590882 1                0                  0               \n",
       "201944 1                0                  0               \n",
       "333020 1                0                  0               \n",
       "       has_superstructure_mud_mortar_stone roof_typex ground_floor_typef\n",
       "802906 1                                   0          1                 \n",
       "28830  1                                   0          0                 \n",
       "94947  1                                   0          1                 \n",
       "590882 1                                   0          1                 \n",
       "201944 0                                   0          1                 \n",
       "333020 1                                   0          1                 \n",
       "       has_superstructure_cement_mortar_brick foundation_typei\n",
       "802906 0                                      0               \n",
       "28830  0                                      0               \n",
       "94947  0                                      0               \n",
       "590882 0                                      0               \n",
       "201944 0                                      0               \n",
       "333020 0                                      0               \n",
       "       other_floor_typeq foundation_typeu other_floor_typej count_floors_pre_eq\n",
       "802906 1                 0                0                 -0.1782734         \n",
       "28830  1                 0                0                 -0.1782734         \n",
       "94947  0                 0                0                 -0.1782734         \n",
       "590882 0                 0                0                 -0.1782734         \n",
       "201944 0                 0                0                  1.1959862         \n",
       "333020 1                 0                0                 -0.1782734         \n",
       "       other_floor_types roof_typen roof_typeq has_superstructure_rc_engineered\n",
       "802906 0                 1          0          0                               \n",
       "28830  0                 1          0          0                               \n",
       "94947  0                 1          0          0                               \n",
       "590882 0                 1          0          0                               \n",
       "201944 0                 1          0          0                               \n",
       "333020 0                 1          0          0                               \n",
       "       has_superstructure_rc_non_engineered other_floor_typex\n",
       "802906 0                                    0                \n",
       "28830  0                                    0                \n",
       "94947  0                                    1                \n",
       "590882 0                                    1                \n",
       "201944 0                                    1                \n",
       "333020 0                                    0                \n",
       "       has_superstructure_timber\n",
       "802906 0                        \n",
       "28830  0                        \n",
       "94947  0                        \n",
       "590882 1                        \n",
       "201944 0                        \n",
       "333020 0                        "
      ]
     },
     "metadata": {},
     "output_type": "display_data"
    }
   ],
   "source": [
    "relevant_training_values <- normalized_training_values[, relevant_features]\n",
    "head(relevant_training_values)"
   ]
  },
  {
   "cell_type": "markdown",
   "id": "4a3a4598",
   "metadata": {},
   "source": [
    "# correlation with the output\n",
    "\n",
    "The following code performs features selection by keeping the most correlated variables with the output\n"
   ]
  },
  {
   "cell_type": "markdown",
   "id": "21985eb2",
   "metadata": {},
   "source": [
    "## 3. Learning methods"
   ]
  },
  {
   "cell_type": "markdown",
   "id": "bc140c67",
   "metadata": {},
   "source": [
    "Preprocessing of the test values (the same way as the training_values)."
   ]
  },
  {
   "cell_type": "code",
   "execution_count": 24,
   "id": "da9d4f08",
   "metadata": {},
   "outputs": [
    {
     "data": {
      "text/html": [
       "0"
      ],
      "text/latex": [
       "0"
      ],
      "text/markdown": [
       "0"
      ],
      "text/plain": [
       "[1] 0"
      ]
     },
     "metadata": {},
     "output_type": "display_data"
    }
   ],
   "source": [
    "sum(is.na(test_values))"
   ]
  },
  {
   "cell_type": "markdown",
   "id": "692a73f5",
   "metadata": {},
   "source": [
    "next, one-hot encoding was performed and checked if it was succesful"
   ]
  },
  {
   "cell_type": "code",
   "execution_count": 25,
   "id": "dab4df88",
   "metadata": {},
   "outputs": [
    {
     "name": "stdout",
     "output_type": "stream",
     "text": [
      " [1] \"geo_level_1_id\"                        \n",
      " [2] \"geo_level_2_id\"                        \n",
      " [3] \"geo_level_3_id\"                        \n",
      " [4] \"count_floors_pre_eq\"                   \n",
      " [5] \"age\"                                   \n",
      " [6] \"area_percentage\"                       \n",
      " [7] \"height_percentage\"                     \n",
      " [8] \"land_surface_conditionn\"               \n",
      " [9] \"land_surface_conditiono\"               \n",
      "[10] \"land_surface_conditiont\"               \n",
      "[11] \"foundation_typeh\"                      \n",
      "[12] \"foundation_typei\"                      \n",
      "[13] \"foundation_typer\"                      \n",
      "[14] \"foundation_typeu\"                      \n",
      "[15] \"foundation_typew\"                      \n",
      "[16] \"roof_typen\"                            \n",
      "[17] \"roof_typeq\"                            \n",
      "[18] \"roof_typex\"                            \n",
      "[19] \"ground_floor_typef\"                    \n",
      "[20] \"ground_floor_typem\"                    \n",
      "[21] \"ground_floor_typev\"                    \n",
      "[22] \"ground_floor_typex\"                    \n",
      "[23] \"ground_floor_typez\"                    \n",
      "[24] \"other_floor_typej\"                     \n",
      "[25] \"other_floor_typeq\"                     \n",
      "[26] \"other_floor_types\"                     \n",
      "[27] \"other_floor_typex\"                     \n",
      "[28] \"positionj\"                             \n",
      "[29] \"positiono\"                             \n",
      "[30] \"positions\"                             \n",
      "[31] \"positiont\"                             \n",
      "[32] \"plan_configurationa\"                   \n",
      "[33] \"plan_configurationc\"                   \n",
      "[34] \"plan_configurationd\"                   \n",
      "[35] \"plan_configurationf\"                   \n",
      "[36] \"plan_configurationm\"                   \n",
      "[37] \"plan_configurationn\"                   \n",
      "[38] \"plan_configurationo\"                   \n",
      "[39] \"plan_configurationq\"                   \n",
      "[40] \"plan_configurations\"                   \n",
      "[41] \"plan_configurationu\"                   \n",
      "[42] \"has_superstructure_adobe_mud\"          \n",
      "[43] \"has_superstructure_mud_mortar_stone\"   \n",
      "[44] \"has_superstructure_stone_flag\"         \n",
      "[45] \"has_superstructure_cement_mortar_stone\"\n",
      "[46] \"has_superstructure_mud_mortar_brick\"   \n",
      "[47] \"has_superstructure_cement_mortar_brick\"\n",
      "[48] \"has_superstructure_timber\"             \n",
      "[49] \"has_superstructure_bamboo\"             \n",
      "[50] \"has_superstructure_rc_non_engineered\"  \n",
      "[51] \"has_superstructure_rc_engineered\"      \n",
      "[52] \"has_superstructure_other\"              \n",
      "[53] \"legal_ownership_statusa\"               \n",
      "[54] \"legal_ownership_statusr\"               \n",
      "[55] \"legal_ownership_statusv\"               \n",
      "[56] \"legal_ownership_statusw\"               \n",
      "[57] \"count_families\"                        \n",
      "[58] \"has_secondary_use\"                     \n",
      "[59] \"has_secondary_use_agriculture\"         \n",
      "[60] \"has_secondary_use_hotel\"               \n",
      "[61] \"has_secondary_use_rental\"              \n",
      "[62] \"has_secondary_use_institution\"         \n",
      "[63] \"has_secondary_use_school\"              \n",
      "[64] \"has_secondary_use_industry\"            \n",
      "[65] \"has_secondary_use_health_post\"         \n",
      "[66] \"has_secondary_use_gov_office\"          \n",
      "[67] \"has_secondary_use_use_police\"          \n",
      "[68] \"has_secondary_use_other\"               \n"
     ]
    }
   ],
   "source": [
    "# Perform one-hot encoding on the categorical features.\n",
    "dummy <- dummyVars(\" ~ .\", data=test_values)\n",
    "num_test_values = data.frame(predict(dummy, newdata=test_values))\n",
    "\n",
    "# Check if the one-hot encoding of the numerical variables was succesful.\n",
    "num_test_features = names(num_test_values)\n",
    "print(num_test_features)"
   ]
  },
  {
   "cell_type": "code",
   "execution_count": 26,
   "id": "532e1d8d",
   "metadata": {},
   "outputs": [
    {
     "data": {
      "text/html": [
       "<style>\n",
       ".list-inline {list-style: none; margin:0; padding: 0}\n",
       ".list-inline>li {display: inline-block}\n",
       ".list-inline>li:not(:last-child)::after {content: \"\\00b7\"; padding: 0 .5ex}\n",
       "</style>\n",
       "<ol class=list-inline><li>86868</li><li>68</li></ol>\n"
      ],
      "text/latex": [
       "\\begin{enumerate*}\n",
       "\\item 86868\n",
       "\\item 68\n",
       "\\end{enumerate*}\n"
      ],
      "text/markdown": [
       "1. 86868\n",
       "2. 68\n",
       "\n",
       "\n"
      ],
      "text/plain": [
       "[1] 86868    68"
      ]
     },
     "metadata": {},
     "output_type": "display_data"
    }
   ],
   "source": [
    "dim(num_test_values)"
   ]
  },
  {
   "cell_type": "code",
   "execution_count": 27,
   "id": "50d3af19",
   "metadata": {},
   "outputs": [],
   "source": [
    "non_binary_test_features = sapply(num_test_values, function(x) length(unique(x)) > 2)\n",
    "binary_test_features = sapply(num_test_values, function(x) length(unique(x)) <= 2)\n",
    "\n",
    "# Create a subset of the non-binary values and binary values.\n",
    "non_binary_test_values = num_test_values[, non_binary_test_features]\n",
    "binary_test_values = num_test_values[, binary_test_features]\n",
    "\n",
    "\n",
    "# Normalize the non-binary features.\n",
    "preProcValues = preProcess(non_binary_test_values, method=c(\"center\", \"scale\"))\n",
    "normalized_num_test_values = predict(preProcValues, non_binary_test_values)\n",
    "\n",
    "# Merge the normalized numerical features with the binary features\n",
    "normalized_test_values = cbind(normalized_num_test_values, binary_test_values)\n",
    "\n",
    "\n",
    "# Save the normalized data set to a CSV file\n",
    "write.csv(normalized_test_values, \"normalized_test_values.csv\", row.names = FALSE)"
   ]
  },
  {
   "cell_type": "markdown",
   "id": "9eff6b63",
   "metadata": {},
   "source": [
    "### 3.1. Decision tree\n",
    "\n",
    "A decision tree is a commonly used method for making predictions. It is a form of classification tree, which is a model that performs a classification of the target variable, in this case, the damage grade of a building. Such tree structure contains internal nodes associated to a specific feature, and terminal nodes that are associated to a specific damage grade. Classification is then performed starting from the root node by transversing through the internal nodes of the decision tree based on the values of the associated feature. When a terminal node is reached, the damage grade associated to that terminal node is assigned to the particular building ID. Since the damage grade has three possible levels 1, 2, and 3, our classification task will be to discriminate between three classes. "
   ]
  },
  {
   "cell_type": "code",
   "execution_count": 12,
   "id": "561cdb17",
   "metadata": {},
   "outputs": [],
   "source": [
    "# To define the training values.\n",
    "X = combined_data[,setdiff(colnames(combined_data),\"damage_grade\")]\n",
    "# To define the training labels.\n",
    "Y = combined_data[,\"damage_grade\"]\n",
    "\n",
    "# Number of buildings.\n",
    "N = nrow(X)\n",
    "# Number of features.\n",
    "n = ncol(X)    "
   ]
  },
  {
   "cell_type": "code",
   "execution_count": 28,
   "id": "f31ea571",
   "metadata": {},
   "outputs": [],
   "source": [
    "combined_data$damage_grade = as.factor(combined_data$damage_grade)"
   ]
  },
  {
   "cell_type": "code",
   "execution_count": 38,
   "id": "3d3ddc27",
   "metadata": {},
   "outputs": [
    {
     "data": {
      "text/html": [
       "'factor'"
      ],
      "text/latex": [
       "'factor'"
      ],
      "text/markdown": [
       "'factor'"
      ],
      "text/plain": [
       "[1] \"factor\""
      ]
     },
     "metadata": {},
     "output_type": "display_data"
    }
   ],
   "source": [
    "class(combined_data$damage_grade)"
   ]
  },
  {
   "cell_type": "code",
   "execution_count": 32,
   "id": "36d7539d",
   "metadata": {},
   "outputs": [],
   "source": [
    "decision_tree_model <- rpart(damage_grade ~ ., method=\"class\",data=combined_data)"
   ]
  },
  {
   "cell_type": "code",
   "execution_count": 50,
   "id": "309a3638",
   "metadata": {},
   "outputs": [
    {
     "ename": "ERROR",
     "evalue": "Error in eval(expr, envir, enclos): object 'decision_tree_model' not found\n",
     "output_type": "error",
     "traceback": [
      "Error in eval(expr, envir, enclos): object 'decision_tree_model' not found\nTraceback:\n",
      "1. predict(decision_tree_model, newdata = normalized_test_values, \n .     type = \"class\")"
     ]
    }
   ],
   "source": [
    "predicted_labels = predict(decision_tree_model, newdata = normalized_test_values, type = \"class\")\n",
    "round_predicted_labels = as.factor(round(predicted_labels))"
   ]
  },
  {
   "cell_type": "code",
   "execution_count": 53,
   "id": "391b1534",
   "metadata": {},
   "outputs": [],
   "source": [
    "test_labels$damage_grade = round_predicted_labels"
   ]
  },
  {
   "cell_type": "code",
   "execution_count": 54,
   "id": "e4514a50",
   "metadata": {},
   "outputs": [
    {
     "data": {
      "text/html": [
       "<table class=\"dataframe\">\n",
       "<caption>A data.frame: 6 × 1</caption>\n",
       "<thead>\n",
       "\t<tr><th></th><th scope=col>damage_grade</th></tr>\n",
       "\t<tr><th></th><th scope=col>&lt;fct&gt;</th></tr>\n",
       "</thead>\n",
       "<tbody>\n",
       "\t<tr><th scope=row>300051</th><td>3</td></tr>\n",
       "\t<tr><th scope=row>99355</th><td>2</td></tr>\n",
       "\t<tr><th scope=row>890251</th><td>2</td></tr>\n",
       "\t<tr><th scope=row>745817</th><td>2</td></tr>\n",
       "\t<tr><th scope=row>421793</th><td>3</td></tr>\n",
       "\t<tr><th scope=row>871976</th><td>2</td></tr>\n",
       "</tbody>\n",
       "</table>\n"
      ],
      "text/latex": [
       "A data.frame: 6 × 1\n",
       "\\begin{tabular}{r|l}\n",
       "  & damage\\_grade\\\\\n",
       "  & <fct>\\\\\n",
       "\\hline\n",
       "\t300051 & 3\\\\\n",
       "\t99355 & 2\\\\\n",
       "\t890251 & 2\\\\\n",
       "\t745817 & 2\\\\\n",
       "\t421793 & 3\\\\\n",
       "\t871976 & 2\\\\\n",
       "\\end{tabular}\n"
      ],
      "text/markdown": [
       "\n",
       "A data.frame: 6 × 1\n",
       "\n",
       "| <!--/--> | damage_grade &lt;fct&gt; |\n",
       "|---|---|\n",
       "| 300051 | 3 |\n",
       "| 99355 | 2 |\n",
       "| 890251 | 2 |\n",
       "| 745817 | 2 |\n",
       "| 421793 | 3 |\n",
       "| 871976 | 2 |\n",
       "\n"
      ],
      "text/plain": [
       "       damage_grade\n",
       "300051 3           \n",
       "99355  2           \n",
       "890251 2           \n",
       "745817 2           \n",
       "421793 3           \n",
       "871976 2           "
      ]
     },
     "metadata": {},
     "output_type": "display_data"
    }
   ],
   "source": [
    "head(test_labels)"
   ]
  },
  {
   "cell_type": "code",
   "execution_count": 56,
   "id": "1587f850",
   "metadata": {},
   "outputs": [],
   "source": [
    "write.csv(test_labels, \"decision_tree_test_labels.csv\")"
   ]
  },
  {
   "cell_type": "markdown",
   "id": "0ac3d309",
   "metadata": {},
   "source": [
    "In the code below, training of the decision tree model was performed implemented with cross-validation to assess the performance of the model. The cross-validation is performed by dividing the dataset into a number of fold (or subsets). The idea is then to train and test the model on di"
   ]
  },
  {
   "cell_type": "code",
   "execution_count": 30,
   "id": "e5ed6ec4",
   "metadata": {},
   "outputs": [
    {
     "name": "stdout",
     "output_type": "stream",
     "text": [
      "CV error: 0.2722437"
     ]
    }
   ],
   "source": [
    "# Number of folds for the cross-validation.\n",
    "CV_folds <- 10\n",
    "\n",
    "# Calculate the size of each fold as the floor division of the number of rows in \n",
    "# the combined data set by the number of folds.\n",
    "size_CV <- floor(nrow(combined_data) / CV_folds)\n",
    "\n",
    "# To store the cross-validation error of each fold.\n",
    "CV_err <- numeric(CV_folds)\n",
    "\n",
    "# To loop over each fold.\n",
    "for (i in 1:CV_folds) {\n",
    "  \n",
    "  # For each fold, a test set is defined.\n",
    "  idx_ts <- (((i - 1) * size_CV + 1):(i * size_CV))\n",
    "  X_ts <- X[idx_ts, ]\n",
    "  Y_ts <- Y[idx_ts]\n",
    "  \n",
    "  # For each loop, a training set is defined.\n",
    "  idx_tr <- setdiff(1:nrow(combined_data), idx_ts)\n",
    "  X_tr <- X[idx_tr, ]\n",
    "  Y_tr <- Y[idx_tr]\n",
    "  \n",
    "  # Fit a decision tree model on the training set.\n",
    "  DS <- cbind(X_tr, target_variable = Y_tr)\n",
    "  model <- rpart(target_variable ~ ., data = DS)\n",
    "  \n",
    "  # The damage grades for the test set are predicted.\n",
    "  Y_hat_ts <- predict(model, X_ts)\n",
    "  \n",
    "  # The MSE between the predicted and actual damage grade is computed (CV error)\n",
    "  CV_err[i] <- mean((Y_hat_ts - Y_ts)^2)\n",
    "}\n",
    "\n",
    "# Print the cross-validation error\n",
    "cat(\"CV error:\", mean(CV_err))"
   ]
  },
  {
   "cell_type": "markdown",
   "id": "7bd2a0b3",
   "metadata": {},
   "source": [
    "### 3.2 Neural network"
   ]
  },
  {
   "cell_type": "markdown",
   "id": "0a6dcdbb",
   "metadata": {},
   "source": [
    "Neural networks is a model in machine learning that mimics the way the human brain works and processes data. The input from the data is given as an input to the model as a set of numbers, which are the features from the dataset. Next the data is processed by the first layer of the neural network. Each neuron receives only a part of the complete dataset and uses it for a simple calculation. The output of this layer is then passed to one or multiple neurons of the next layer. The amount of layers available in the model depends on the task at hand and its complexity. The final layer of neurons decide what the output of the model will be. To train this model, it is given a dataset with labels so the model itself can adjust the weights between the neurons, which will then minimize the error between the predicted and the true output. This is a process where the chain rule to compute the error with respect to each neuron. The weights are then updated with an optimization algorithm. \n",
    "The reason why we chose to use neural networks is because this model is well suited to use large quantities of data to create a network. Normally Neural networks can struggle when tha data set is incomplete. Since our dataset did not contain any NA value, we decided to use neural network."
   ]
  },
  {
   "cell_type": "code",
   "execution_count": 1,
   "id": "e443b4ca",
   "metadata": {},
   "outputs": [
    {
     "name": "stderr",
     "output_type": "stream",
     "text": [
      "Installing package into 'C:/Users/cobot/AppData/Local/R/win-library/4.3'\n",
      "(as 'lib' is unspecified)\n",
      "\n"
     ]
    },
    {
     "name": "stdout",
     "output_type": "stream",
     "text": [
      "package 'nnet' successfully unpacked and MD5 sums checked\n",
      "\n",
      "The downloaded binary packages are in\n",
      "\tC:\\Users\\cobot\\AppData\\Local\\Temp\\Rtmpg9vJXL\\downloaded_packages\n"
     ]
    }
   ],
   "source": [
    "install.packages(\"nnet\")"
   ]
  },
  {
   "cell_type": "code",
   "execution_count": 2,
   "id": "350cc9d3",
   "metadata": {},
   "outputs": [
    {
     "name": "stderr",
     "output_type": "stream",
     "text": [
      "Installing package into 'C:/Users/cobot/AppData/Local/R/win-library/4.3'\n",
      "(as 'lib' is unspecified)\n",
      "\n",
      "also installing the dependencies 'askpass', 'credentials', 'openssl', 'sys', 'zip', 'gitcreds', 'httr2', 'ini', 'httpuv', 'mime', 'xtable', 'fontawesome', 'sourcetools', 'later', 'promises', 'sass', 'jquerylib', 'systemfonts', 'textshaping', 'tinytex', 'xfun', 'highr', 'diffobj', 'rematch2', 'clipr', 'curl', 'gert', 'gh', 'rappdirs', 'rprojroot', 'rstudioapi', 'whisker', 'yaml', 'cachem', 'shiny', 'callr', 'processx', 'bslib', 'downlit', 'httr', 'ragg', 'rmarkdown', 'xml2', 'htmlwidgets', 'xopen', 'brew', 'commonmark', 'knitr', 'brio', 'praise', 'ps', 'waldo', 'usethis', 'desc', 'fs', 'memoise', 'miniUI', 'pkgbuild', 'pkgdown', 'pkgload', 'profvis', 'rcmdcheck', 'remotes', 'roxygen2', 'rversions', 'sessioninfo', 'testthat', 'urlchecker'\n",
      "\n",
      "\n"
     ]
    },
    {
     "name": "stdout",
     "output_type": "stream",
     "text": [
      "\n",
      "  There are binary versions available but the source versions are later:\n",
      "       binary source needs_compilation\n",
      "httpuv  1.6.9 1.6.10              TRUE\n",
      "httr    1.4.5  1.4.6             FALSE\n",
      "\n",
      "  Binaries will be installed\n",
      "package 'askpass' successfully unpacked and MD5 sums checked\n",
      "package 'credentials' successfully unpacked and MD5 sums checked\n",
      "package 'openssl' successfully unpacked and MD5 sums checked\n",
      "package 'sys' successfully unpacked and MD5 sums checked\n",
      "package 'zip' successfully unpacked and MD5 sums checked\n",
      "package 'gitcreds' successfully unpacked and MD5 sums checked\n",
      "package 'httr2' successfully unpacked and MD5 sums checked\n",
      "package 'ini' successfully unpacked and MD5 sums checked\n",
      "package 'httpuv' successfully unpacked and MD5 sums checked\n",
      "package 'mime' successfully unpacked and MD5 sums checked\n",
      "package 'xtable' successfully unpacked and MD5 sums checked\n",
      "package 'fontawesome' successfully unpacked and MD5 sums checked\n",
      "package 'sourcetools' successfully unpacked and MD5 sums checked\n",
      "package 'later' successfully unpacked and MD5 sums checked\n",
      "package 'promises' successfully unpacked and MD5 sums checked\n",
      "package 'sass' successfully unpacked and MD5 sums checked\n",
      "package 'jquerylib' successfully unpacked and MD5 sums checked\n",
      "package 'systemfonts' successfully unpacked and MD5 sums checked\n",
      "package 'textshaping' successfully unpacked and MD5 sums checked\n",
      "package 'tinytex' successfully unpacked and MD5 sums checked\n",
      "package 'xfun' successfully unpacked and MD5 sums checked\n",
      "package 'highr' successfully unpacked and MD5 sums checked\n",
      "package 'diffobj' successfully unpacked and MD5 sums checked\n",
      "package 'rematch2' successfully unpacked and MD5 sums checked\n",
      "package 'clipr' successfully unpacked and MD5 sums checked\n",
      "package 'curl' successfully unpacked and MD5 sums checked\n",
      "package 'gert' successfully unpacked and MD5 sums checked\n",
      "package 'gh' successfully unpacked and MD5 sums checked\n",
      "package 'rappdirs' successfully unpacked and MD5 sums checked\n",
      "package 'rprojroot' successfully unpacked and MD5 sums checked\n",
      "package 'rstudioapi' successfully unpacked and MD5 sums checked\n",
      "package 'whisker' successfully unpacked and MD5 sums checked\n",
      "package 'yaml' successfully unpacked and MD5 sums checked\n",
      "package 'cachem' successfully unpacked and MD5 sums checked\n",
      "package 'shiny' successfully unpacked and MD5 sums checked\n",
      "package 'callr' successfully unpacked and MD5 sums checked\n",
      "package 'processx' successfully unpacked and MD5 sums checked\n",
      "package 'bslib' successfully unpacked and MD5 sums checked\n",
      "package 'downlit' successfully unpacked and MD5 sums checked\n",
      "package 'ragg' successfully unpacked and MD5 sums checked\n",
      "package 'rmarkdown' successfully unpacked and MD5 sums checked\n",
      "package 'xml2' successfully unpacked and MD5 sums checked\n",
      "package 'htmlwidgets' successfully unpacked and MD5 sums checked\n",
      "package 'xopen' successfully unpacked and MD5 sums checked\n",
      "package 'brew' successfully unpacked and MD5 sums checked\n",
      "package 'commonmark' successfully unpacked and MD5 sums checked\n",
      "package 'knitr' successfully unpacked and MD5 sums checked\n",
      "package 'brio' successfully unpacked and MD5 sums checked\n",
      "package 'praise' successfully unpacked and MD5 sums checked\n",
      "package 'ps' successfully unpacked and MD5 sums checked\n",
      "package 'waldo' successfully unpacked and MD5 sums checked\n",
      "package 'usethis' successfully unpacked and MD5 sums checked\n",
      "package 'desc' successfully unpacked and MD5 sums checked\n",
      "package 'fs' successfully unpacked and MD5 sums checked\n",
      "package 'memoise' successfully unpacked and MD5 sums checked\n",
      "package 'miniUI' successfully unpacked and MD5 sums checked\n",
      "package 'pkgbuild' successfully unpacked and MD5 sums checked\n",
      "package 'pkgdown' successfully unpacked and MD5 sums checked\n",
      "package 'pkgload' successfully unpacked and MD5 sums checked\n",
      "package 'profvis' successfully unpacked and MD5 sums checked\n",
      "package 'rcmdcheck' successfully unpacked and MD5 sums checked\n",
      "package 'remotes' successfully unpacked and MD5 sums checked\n",
      "package 'roxygen2' successfully unpacked and MD5 sums checked\n",
      "package 'rversions' successfully unpacked and MD5 sums checked\n",
      "package 'sessioninfo' successfully unpacked and MD5 sums checked\n",
      "package 'testthat' successfully unpacked and MD5 sums checked\n",
      "package 'urlchecker' successfully unpacked and MD5 sums checked\n",
      "package 'devtools' successfully unpacked and MD5 sums checked\n",
      "\n",
      "The downloaded binary packages are in\n",
      "\tC:\\Users\\cobot\\AppData\\Local\\Temp\\Rtmpg9vJXL\\downloaded_packages\n"
     ]
    },
    {
     "name": "stderr",
     "output_type": "stream",
     "text": [
      "installing the source package 'httr'\n",
      "\n",
      "\n"
     ]
    }
   ],
   "source": [
    "install.packages(\"devtools\")"
   ]
  },
  {
   "cell_type": "code",
   "execution_count": 3,
   "id": "6ef4560d",
   "metadata": {},
   "outputs": [
    {
     "name": "stderr",
     "output_type": "stream",
     "text": [
      "Installing package into 'C:/Users/cobot/AppData/Local/R/win-library/4.3'\n",
      "(as 'lib' is unspecified)\n",
      "\n"
     ]
    },
    {
     "name": "stdout",
     "output_type": "stream",
     "text": [
      "package 'RSNNS' successfully unpacked and MD5 sums checked\n",
      "\n",
      "The downloaded binary packages are in\n",
      "\tC:\\Users\\cobot\\AppData\\Local\\Temp\\Rtmpg9vJXL\\downloaded_packages\n"
     ]
    }
   ],
   "source": [
    "install.packages(\"RSNNS\")"
   ]
  },
  {
   "cell_type": "code",
   "execution_count": 32,
   "id": "05346853",
   "metadata": {},
   "outputs": [],
   "source": [
    "combined_relevant_features = cbind(relevant_training_values,training_labels)"
   ]
  },
  {
   "cell_type": "code",
   "execution_count": 42,
   "id": "03772ba5",
   "metadata": {},
   "outputs": [
    {
     "data": {
      "text/html": [
       "<table class=\"dataframe\">\n",
       "<caption>A data.frame: 6 × 20</caption>\n",
       "<thead>\n",
       "\t<tr><th></th><th scope=col>foundation_typer</th><th scope=col>ground_floor_typev</th><th scope=col>foundation_typew</th><th scope=col>has_superstructure_mud_mortar_stone</th><th scope=col>roof_typex</th><th scope=col>ground_floor_typef</th><th scope=col>has_superstructure_cement_mortar_brick</th><th scope=col>foundation_typei</th><th scope=col>other_floor_typeq</th><th scope=col>foundation_typeu</th><th scope=col>other_floor_typej</th><th scope=col>count_floors_pre_eq</th><th scope=col>other_floor_types</th><th scope=col>roof_typen</th><th scope=col>roof_typeq</th><th scope=col>has_superstructure_rc_engineered</th><th scope=col>has_superstructure_rc_non_engineered</th><th scope=col>other_floor_typex</th><th scope=col>has_superstructure_timber</th><th scope=col>damage_grade</th></tr>\n",
       "\t<tr><th></th><th scope=col>&lt;dbl&gt;</th><th scope=col>&lt;dbl&gt;</th><th scope=col>&lt;dbl&gt;</th><th scope=col>&lt;dbl&gt;</th><th scope=col>&lt;dbl&gt;</th><th scope=col>&lt;dbl&gt;</th><th scope=col>&lt;dbl&gt;</th><th scope=col>&lt;dbl&gt;</th><th scope=col>&lt;dbl&gt;</th><th scope=col>&lt;dbl&gt;</th><th scope=col>&lt;dbl&gt;</th><th scope=col>&lt;dbl&gt;</th><th scope=col>&lt;dbl&gt;</th><th scope=col>&lt;dbl&gt;</th><th scope=col>&lt;dbl&gt;</th><th scope=col>&lt;dbl&gt;</th><th scope=col>&lt;dbl&gt;</th><th scope=col>&lt;dbl&gt;</th><th scope=col>&lt;dbl&gt;</th><th scope=col>&lt;int&gt;</th></tr>\n",
       "</thead>\n",
       "<tbody>\n",
       "\t<tr><th scope=row>802906</th><td>1</td><td>0</td><td>0</td><td>1</td><td>0</td><td>1</td><td>0</td><td>0</td><td>1</td><td>0</td><td>0</td><td>-0.1782734</td><td>0</td><td>1</td><td>0</td><td>0</td><td>0</td><td>0</td><td>0</td><td>3</td></tr>\n",
       "\t<tr><th scope=row>28830</th><td>1</td><td>0</td><td>0</td><td>1</td><td>0</td><td>0</td><td>0</td><td>0</td><td>1</td><td>0</td><td>0</td><td>-0.1782734</td><td>0</td><td>1</td><td>0</td><td>0</td><td>0</td><td>0</td><td>0</td><td>2</td></tr>\n",
       "\t<tr><th scope=row>94947</th><td>1</td><td>0</td><td>0</td><td>1</td><td>0</td><td>1</td><td>0</td><td>0</td><td>0</td><td>0</td><td>0</td><td>-0.1782734</td><td>0</td><td>1</td><td>0</td><td>0</td><td>0</td><td>1</td><td>0</td><td>3</td></tr>\n",
       "\t<tr><th scope=row>590882</th><td>1</td><td>0</td><td>0</td><td>1</td><td>0</td><td>1</td><td>0</td><td>0</td><td>0</td><td>0</td><td>0</td><td>-0.1782734</td><td>0</td><td>1</td><td>0</td><td>0</td><td>0</td><td>1</td><td>1</td><td>2</td></tr>\n",
       "\t<tr><th scope=row>201944</th><td>1</td><td>0</td><td>0</td><td>0</td><td>0</td><td>1</td><td>0</td><td>0</td><td>0</td><td>0</td><td>0</td><td> 1.1959862</td><td>0</td><td>1</td><td>0</td><td>0</td><td>0</td><td>1</td><td>0</td><td>3</td></tr>\n",
       "\t<tr><th scope=row>333020</th><td>1</td><td>0</td><td>0</td><td>1</td><td>0</td><td>1</td><td>0</td><td>0</td><td>1</td><td>0</td><td>0</td><td>-0.1782734</td><td>0</td><td>1</td><td>0</td><td>0</td><td>0</td><td>0</td><td>0</td><td>2</td></tr>\n",
       "</tbody>\n",
       "</table>\n"
      ],
      "text/latex": [
       "A data.frame: 6 × 20\n",
       "\\begin{tabular}{r|llllllllllllllllllll}\n",
       "  & foundation\\_typer & ground\\_floor\\_typev & foundation\\_typew & has\\_superstructure\\_mud\\_mortar\\_stone & roof\\_typex & ground\\_floor\\_typef & has\\_superstructure\\_cement\\_mortar\\_brick & foundation\\_typei & other\\_floor\\_typeq & foundation\\_typeu & other\\_floor\\_typej & count\\_floors\\_pre\\_eq & other\\_floor\\_types & roof\\_typen & roof\\_typeq & has\\_superstructure\\_rc\\_engineered & has\\_superstructure\\_rc\\_non\\_engineered & other\\_floor\\_typex & has\\_superstructure\\_timber & damage\\_grade\\\\\n",
       "  & <dbl> & <dbl> & <dbl> & <dbl> & <dbl> & <dbl> & <dbl> & <dbl> & <dbl> & <dbl> & <dbl> & <dbl> & <dbl> & <dbl> & <dbl> & <dbl> & <dbl> & <dbl> & <dbl> & <int>\\\\\n",
       "\\hline\n",
       "\t802906 & 1 & 0 & 0 & 1 & 0 & 1 & 0 & 0 & 1 & 0 & 0 & -0.1782734 & 0 & 1 & 0 & 0 & 0 & 0 & 0 & 3\\\\\n",
       "\t28830 & 1 & 0 & 0 & 1 & 0 & 0 & 0 & 0 & 1 & 0 & 0 & -0.1782734 & 0 & 1 & 0 & 0 & 0 & 0 & 0 & 2\\\\\n",
       "\t94947 & 1 & 0 & 0 & 1 & 0 & 1 & 0 & 0 & 0 & 0 & 0 & -0.1782734 & 0 & 1 & 0 & 0 & 0 & 1 & 0 & 3\\\\\n",
       "\t590882 & 1 & 0 & 0 & 1 & 0 & 1 & 0 & 0 & 0 & 0 & 0 & -0.1782734 & 0 & 1 & 0 & 0 & 0 & 1 & 1 & 2\\\\\n",
       "\t201944 & 1 & 0 & 0 & 0 & 0 & 1 & 0 & 0 & 0 & 0 & 0 &  1.1959862 & 0 & 1 & 0 & 0 & 0 & 1 & 0 & 3\\\\\n",
       "\t333020 & 1 & 0 & 0 & 1 & 0 & 1 & 0 & 0 & 1 & 0 & 0 & -0.1782734 & 0 & 1 & 0 & 0 & 0 & 0 & 0 & 2\\\\\n",
       "\\end{tabular}\n"
      ],
      "text/markdown": [
       "\n",
       "A data.frame: 6 × 20\n",
       "\n",
       "| <!--/--> | foundation_typer &lt;dbl&gt; | ground_floor_typev &lt;dbl&gt; | foundation_typew &lt;dbl&gt; | has_superstructure_mud_mortar_stone &lt;dbl&gt; | roof_typex &lt;dbl&gt; | ground_floor_typef &lt;dbl&gt; | has_superstructure_cement_mortar_brick &lt;dbl&gt; | foundation_typei &lt;dbl&gt; | other_floor_typeq &lt;dbl&gt; | foundation_typeu &lt;dbl&gt; | other_floor_typej &lt;dbl&gt; | count_floors_pre_eq &lt;dbl&gt; | other_floor_types &lt;dbl&gt; | roof_typen &lt;dbl&gt; | roof_typeq &lt;dbl&gt; | has_superstructure_rc_engineered &lt;dbl&gt; | has_superstructure_rc_non_engineered &lt;dbl&gt; | other_floor_typex &lt;dbl&gt; | has_superstructure_timber &lt;dbl&gt; | damage_grade &lt;int&gt; |\n",
       "|---|---|---|---|---|---|---|---|---|---|---|---|---|---|---|---|---|---|---|---|---|\n",
       "| 802906 | 1 | 0 | 0 | 1 | 0 | 1 | 0 | 0 | 1 | 0 | 0 | -0.1782734 | 0 | 1 | 0 | 0 | 0 | 0 | 0 | 3 |\n",
       "| 28830 | 1 | 0 | 0 | 1 | 0 | 0 | 0 | 0 | 1 | 0 | 0 | -0.1782734 | 0 | 1 | 0 | 0 | 0 | 0 | 0 | 2 |\n",
       "| 94947 | 1 | 0 | 0 | 1 | 0 | 1 | 0 | 0 | 0 | 0 | 0 | -0.1782734 | 0 | 1 | 0 | 0 | 0 | 1 | 0 | 3 |\n",
       "| 590882 | 1 | 0 | 0 | 1 | 0 | 1 | 0 | 0 | 0 | 0 | 0 | -0.1782734 | 0 | 1 | 0 | 0 | 0 | 1 | 1 | 2 |\n",
       "| 201944 | 1 | 0 | 0 | 0 | 0 | 1 | 0 | 0 | 0 | 0 | 0 |  1.1959862 | 0 | 1 | 0 | 0 | 0 | 1 | 0 | 3 |\n",
       "| 333020 | 1 | 0 | 0 | 1 | 0 | 1 | 0 | 0 | 1 | 0 | 0 | -0.1782734 | 0 | 1 | 0 | 0 | 0 | 0 | 0 | 2 |\n",
       "\n"
      ],
      "text/plain": [
       "       foundation_typer ground_floor_typev foundation_typew\n",
       "802906 1                0                  0               \n",
       "28830  1                0                  0               \n",
       "94947  1                0                  0               \n",
       "590882 1                0                  0               \n",
       "201944 1                0                  0               \n",
       "333020 1                0                  0               \n",
       "       has_superstructure_mud_mortar_stone roof_typex ground_floor_typef\n",
       "802906 1                                   0          1                 \n",
       "28830  1                                   0          0                 \n",
       "94947  1                                   0          1                 \n",
       "590882 1                                   0          1                 \n",
       "201944 0                                   0          1                 \n",
       "333020 1                                   0          1                 \n",
       "       has_superstructure_cement_mortar_brick foundation_typei\n",
       "802906 0                                      0               \n",
       "28830  0                                      0               \n",
       "94947  0                                      0               \n",
       "590882 0                                      0               \n",
       "201944 0                                      0               \n",
       "333020 0                                      0               \n",
       "       other_floor_typeq foundation_typeu other_floor_typej count_floors_pre_eq\n",
       "802906 1                 0                0                 -0.1782734         \n",
       "28830  1                 0                0                 -0.1782734         \n",
       "94947  0                 0                0                 -0.1782734         \n",
       "590882 0                 0                0                 -0.1782734         \n",
       "201944 0                 0                0                  1.1959862         \n",
       "333020 1                 0                0                 -0.1782734         \n",
       "       other_floor_types roof_typen roof_typeq has_superstructure_rc_engineered\n",
       "802906 0                 1          0          0                               \n",
       "28830  0                 1          0          0                               \n",
       "94947  0                 1          0          0                               \n",
       "590882 0                 1          0          0                               \n",
       "201944 0                 1          0          0                               \n",
       "333020 0                 1          0          0                               \n",
       "       has_superstructure_rc_non_engineered other_floor_typex\n",
       "802906 0                                    0                \n",
       "28830  0                                    0                \n",
       "94947  0                                    1                \n",
       "590882 0                                    1                \n",
       "201944 0                                    1                \n",
       "333020 0                                    0                \n",
       "       has_superstructure_timber damage_grade\n",
       "802906 0                         3           \n",
       "28830  0                         2           \n",
       "94947  0                         3           \n",
       "590882 1                         2           \n",
       "201944 0                         3           \n",
       "333020 0                         2           "
      ]
     },
     "metadata": {},
     "output_type": "display_data"
    }
   ],
   "source": [
    "head(combined_relevant_features)"
   ]
  },
  {
   "cell_type": "code",
   "execution_count": 43,
   "id": "8b508d89",
   "metadata": {},
   "outputs": [
    {
     "data": {
      "text/html": [
       "<style>\n",
       ".list-inline {list-style: none; margin:0; padding: 0}\n",
       ".list-inline>li {display: inline-block}\n",
       ".list-inline>li:not(:last-child)::after {content: \"\\00b7\"; padding: 0 .5ex}\n",
       "</style>\n",
       "<ol class=list-inline><li>260601</li><li>20</li></ol>\n"
      ],
      "text/latex": [
       "\\begin{enumerate*}\n",
       "\\item 260601\n",
       "\\item 20\n",
       "\\end{enumerate*}\n"
      ],
      "text/markdown": [
       "1. 260601\n",
       "2. 20\n",
       "\n",
       "\n"
      ],
      "text/plain": [
       "[1] 260601     20"
      ]
     },
     "metadata": {},
     "output_type": "display_data"
    }
   ],
   "source": [
    "dim(combined_relevant_features)"
   ]
  },
  {
   "cell_type": "code",
   "execution_count": 44,
   "id": "c981a2f1",
   "metadata": {},
   "outputs": [
    {
     "name": "stdout",
     "output_type": "stream",
     "text": [
      "# weights:  106\n",
      "initial  value 893202.459948 \n",
      "final  value 497131.000000 \n",
      "converged\n"
     ]
    }
   ],
   "source": [
    "hidden_nodes = 5\n",
    "NN_out = nnet(damage_grade ~ ., method=\"class\",data=combined_relevant_features, size = hidden_nodes, skip = FALSE, trace = T, maxit = 3000, rang = 0.2)"
   ]
  },
  {
   "cell_type": "code",
   "execution_count": 45,
   "id": "5c4191c3",
   "metadata": {},
   "outputs": [
    {
     "data": {
      "text/plain": [
       "a 19-5-1 network with 106 weights\n",
       "inputs: foundation_typer ground_floor_typev foundation_typew has_superstructure_mud_mortar_stone roof_typex ground_floor_typef has_superstructure_cement_mortar_brick foundation_typei other_floor_typeq foundation_typeu other_floor_typej count_floors_pre_eq other_floor_types roof_typen roof_typeq has_superstructure_rc_engineered has_superstructure_rc_non_engineered other_floor_typex has_superstructure_timber \n",
       "output(s): damage_grade \n",
       "options were -"
      ]
     },
     "metadata": {},
     "output_type": "display_data"
    }
   ],
   "source": [
    "NN_out"
   ]
  },
  {
   "cell_type": "markdown",
   "id": "d45b8e54",
   "metadata": {},
   "source": [
    "Subset of normalized test values with only the relevant features."
   ]
  },
  {
   "cell_type": "code",
   "execution_count": 46,
   "id": "4172dbf4",
   "metadata": {},
   "outputs": [],
   "source": [
    "relevant_test_values = normalized_test_values[,relevant_features]"
   ]
  },
  {
   "cell_type": "code",
   "execution_count": 47,
   "id": "70d1ca51",
   "metadata": {},
   "outputs": [],
   "source": [
    "Predicted_labels_NN = predict(NN_out, newdata = relevant_test_values)"
   ]
  },
  {
   "cell_type": "code",
   "execution_count": 48,
   "id": "e1582225",
   "metadata": {},
   "outputs": [
    {
     "data": {
      "text/html": [
       "<table class=\"dataframe\">\n",
       "<caption>A matrix: 6 × 1 of type dbl</caption>\n",
       "<tbody>\n",
       "\t<tr><th scope=row>300051</th><td>1</td></tr>\n",
       "\t<tr><th scope=row>99355</th><td>1</td></tr>\n",
       "\t<tr><th scope=row>890251</th><td>1</td></tr>\n",
       "\t<tr><th scope=row>745817</th><td>1</td></tr>\n",
       "\t<tr><th scope=row>421793</th><td>1</td></tr>\n",
       "\t<tr><th scope=row>871976</th><td>1</td></tr>\n",
       "</tbody>\n",
       "</table>\n"
      ],
      "text/latex": [
       "A matrix: 6 × 1 of type dbl\n",
       "\\begin{tabular}{r|l}\n",
       "\t300051 & 1\\\\\n",
       "\t99355 & 1\\\\\n",
       "\t890251 & 1\\\\\n",
       "\t745817 & 1\\\\\n",
       "\t421793 & 1\\\\\n",
       "\t871976 & 1\\\\\n",
       "\\end{tabular}\n"
      ],
      "text/markdown": [
       "\n",
       "A matrix: 6 × 1 of type dbl\n",
       "\n",
       "| 300051 | 1 |\n",
       "| 99355 | 1 |\n",
       "| 890251 | 1 |\n",
       "| 745817 | 1 |\n",
       "| 421793 | 1 |\n",
       "| 871976 | 1 |\n",
       "\n"
      ],
      "text/plain": [
       "       [,1]\n",
       "300051 1   \n",
       "99355  1   \n",
       "890251 1   \n",
       "745817 1   \n",
       "421793 1   \n",
       "871976 1   "
      ]
     },
     "metadata": {},
     "output_type": "display_data"
    }
   ],
   "source": [
    "head(Predicted_labels_NN)"
   ]
  },
  {
   "cell_type": "code",
   "execution_count": 41,
   "id": "b54c361b",
   "metadata": {},
   "outputs": [],
   "source": [
    "write.csv(Predicted_labels_NN, \"NN_test_labels.csv\")"
   ]
  },
  {
   "cell_type": "markdown",
   "id": "14213dcf",
   "metadata": {},
   "source": [
    "hidden nodes selection"
   ]
  },
  {
   "cell_type": "code",
   "execution_count": null,
   "id": "c37b8fe6",
   "metadata": {},
   "outputs": [],
   "source": [
    "# To define the training values.\n",
    "X = combined_data[,setdiff(colnames(combined_data),\"damage_grade\")]\n",
    "# To define the training labels.\n",
    "Y = combined_data[,\"damage_grade\"]\n",
    "\n",
    "# Number of buildings.\n",
    "N = nrow(X)\n",
    "# Number of features.\n",
    "n = ncol(X)    "
   ]
  },
  {
   "cell_type": "code",
   "execution_count": null,
   "id": "59226723",
   "metadata": {},
   "outputs": [],
   "source": [
    "# Define the range of hidden nodes to test\n",
    "hidden_nodes <- seq(from = 1, to = 10, by = 1)\n",
    "\n",
    "# Number of folds for the cross-validation.\n",
    "CV_folds <- 10\n",
    "\n",
    "# Calculate the size of each fold as the floor division of the number of rows in \n",
    "# the combined data set by the number of folds.\n",
    "size_CV <- floor(nrow(combined_data) / CV_folds)\n",
    "\n",
    "# To store the cross-validation error of each fold.\n",
    "CV_err <- numeric(CV_folds)\n",
    "\n",
    "# To loop over each fold.\n",
    "for (i in 1:CV_folds) {\n",
    "  \n",
    "  # For each fold, a test set is defined.\n",
    "  idx_ts <- (((i - 1) * size_CV + 1):(i * size_CV))\n",
    "  X_ts <- X[idx_ts, ]\n",
    "  Y_ts <- Y[idx_ts]\n",
    "  \n",
    "  # For each loop, a training set is defined.\n",
    "  idx_tr <- setdiff(1:nrow(combined_data), idx_ts)\n",
    "  X_tr <- X[idx_tr, ]\n",
    "  Y_tr <- Y[idx_tr]\n",
    "  \n",
    "  # Fit a decision tree model on the training set.\n",
    "  DS <- cbind(X_tr, target_variable = Y_tr)\n",
    "  model <- nnet(target_variable ~ ., data = DS, size = c(hidden_nodes[i]), linout = TRUE)\n",
    "  \n",
    "  # The damage grades for the test set are predicted.\n",
    "  Y_hat_ts <- predict(model, X_ts)\n",
    "  \n",
    "  # The MSE between the predicted and actual damage grade is computed (CV error)\n",
    "  CV_err[i] <- mean((Y_hat_ts - Y_ts)^2)\n",
    "}\n",
    "\n",
    "df <- data.frame(hidden_nodes = hidden_nodes, error = CV_err)\n",
    "ggplot(df, aes(x = hidden_nodes, y = error)) +\n",
    "  geom_line() +\n",
    "  geom_point() +\n",
    "  labs(x = \"Number of hidden nodes\", y = \"Training error\")"
   ]
  }
 ],
 "metadata": {
  "kernelspec": {
   "display_name": "R",
   "language": "R",
   "name": "ir"
  },
  "language_info": {
   "codemirror_mode": "r",
   "file_extension": ".r",
   "mimetype": "text/x-r-source",
   "name": "R",
   "pygments_lexer": "r",
   "version": "4.3.0"
  }
 },
 "nbformat": 4,
 "nbformat_minor": 5
}
