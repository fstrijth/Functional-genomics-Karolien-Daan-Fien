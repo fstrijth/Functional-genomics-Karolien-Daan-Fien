{
 "cells": [
  {
   "cell_type": "code",
   "execution_count": 58,
   "id": "004a82d5",
   "metadata": {},
   "outputs": [
    {
     "name": "stdout",
     "output_type": "stream",
     "text": [
      "package 'gridExtra' successfully unpacked and MD5 sums checked\n",
      "\n",
      "The downloaded binary packages are in\n",
      "\tC:\\Users\\Hello\\AppData\\Local\\Temp\\Rtmp4Ssw5e\\downloaded_packages\n"
     ]
    }
   ],
   "source": [
    "install.packages(\"gridExtra\")   # Install & load gridExtra\n",
    "library(\"gridExtra\")\n",
    "library(\"ggplot\")"
   ]
  },
  {
   "cell_type": "code",
   "execution_count": 63,
   "id": "71724f95",
   "metadata": {},
   "outputs": [],
   "source": [
    "library(\"ggplot2\")"
   ]
  },
  {
   "cell_type": "code",
   "execution_count": 29,
   "id": "4d0969fc",
   "metadata": {},
   "outputs": [],
   "source": [
    "# Load the adjusted p-values of the clinical variables.\n",
    "age_clusters = read.csv(\"lowest_padj_AGE.csv\")\n",
    "bmi_clusters = read.csv(\"lowest_padj_BMI.csv\")\n",
    "height_clusters = read.csv(\"lowest_padj_HGHT.csv\")\n",
    "weight_clusters = read.csv(\"lowest_padj_WGHT.csv\")\n",
    "\n",
    "# Load the adjusted p-values of the technical variables.\n",
    "cohort_clusters = read.csv(\"lowest_padj_COHORT.csv\")\n",
    "hardy_clusters = read.csv(\"lowest_padj_DTHHRDY.csv\")\n",
    "ischemic_clusters = read.csv(\"lowest_padj_TRISCHD.csv\")"
   ]
  },
  {
   "cell_type": "code",
   "execution_count": 30,
   "id": "7911b3f5",
   "metadata": {},
   "outputs": [],
   "source": [
    "cluster_table = data.frame(\n",
    "    X = c(1:64))"
   ]
  },
  {
   "cell_type": "code",
   "execution_count": 255,
   "id": "d876109d",
   "metadata": {},
   "outputs": [],
   "source": [
    "merged_table = merge(cluster_table, age_clusters[, c(\"X\", \"padj\")], by = \"X\", all.x = TRUE)\n",
    "colnames(merged_table)[colnames(merged_table) == \"padj\"] <- \"Age\"\n",
    "\n",
    "merged_table2 = merge(merged_table, bmi_clusters[, c(\"X\", \"padj\")], by = \"X\", all.x = TRUE)\n",
    "colnames(merged_table2)[colnames(merged_table2) == \"padj\"] <- \"BMI\"\n",
    "\n",
    "merged_table3 = merge(merged_table2, height_clusters[, c(\"X\", \"padj\")], by = \"X\", all.x = TRUE)\n",
    "colnames(merged_table3)[colnames(merged_table3) == \"padj\"] <- \"Height\"\n",
    "\n",
    "merged_table4 = merge(merged_table3, weight_clusters[, c(\"X\", \"padj\")], by = \"X\", all.x = TRUE)\n",
    "colnames(merged_table4)[colnames(merged_table4) == \"padj\"] <- \"Weight\"\n",
    "\n",
    "merged_table5 = merge(merged_table4, ischemic_clusters[, c(\"X\", \"padj\")], by = \"X\", all.x = TRUE)\n",
    "colnames(merged_table5)[colnames(merged_table5) == \"padj\"] <- \"Ischemic time\"\n",
    "\n",
    "merged_table6 = merge(merged_table5, cohort_clusters[, c(\"X\", \"padj\")], by = \"X\", all.x = TRUE)\n",
    "colnames(merged_table6)[colnames(merged_table6) == \"padj\"] <- \"Donor type\"\n",
    "\n",
    "final_table = merge(merged_table6, hardy_clusters[, c(\"X\", \"padj\")], by = \"X\", all.x = TRUE)\n",
    "colnames(final_table)[colnames(final_table) == \"padj\"] <- \"Hardy scale\"\n",
    "\n",
    "\n",
    "final_table = final_table[, -which(names(final_merged_table) == \"X\")]"
   ]
  },
  {
   "cell_type": "code",
   "execution_count": 256,
   "id": "fe798077",
   "metadata": {},
   "outputs": [],
   "source": [
    "final_table <- as.data.frame(lapply(final_table, function(x) prettyNum(x, digits = 4)))"
   ]
  },
  {
   "cell_type": "code",
   "execution_count": 257,
   "id": "f5b24e01",
   "metadata": {},
   "outputs": [],
   "source": [
    "final_xtable <- xtable(final_table)"
   ]
  },
  {
   "cell_type": "code",
   "execution_count": 261,
   "id": "f05bd469",
   "metadata": {},
   "outputs": [
    {
     "name": "stdout",
     "output_type": "stream",
     "text": [
      "% latex table generated in R 4.1.3 by xtable 1.8-4 package\n",
      "% Fri May 26 17:58:45 2023\n",
      "\\begin{longtable}{rlllllll}\n",
      "  \\hline\n",
      " & Age & BMI & Height & Weight & Ischemic.time & Donor.type & Hardy.scale \\\\ \n",
      "  \\hline\n",
      "1 & NA & NA & 0.01723 & NA & 5.546e-10 & 1.79e-05 & 0.003406 \\\\ \n",
      "  2 & 0.001198 & NA & NA & NA & 0.0002567 & 0.0001537 & NA \\\\ \n",
      "  3 & 0.05149 & NA & 0.03872 & NA & 0.00283 & 0.008541 & 0.06003 \\\\ \n",
      "  4 & 0.01064 & 0.03017 & 0.00224 & 0.0003752 & 1.551e-10 & 7.26e-15 & 0.04552 \\\\ \n",
      "  5 & NA & NA & 0.06548 & NA & 0.0007575 & 6.736e-18 & 2.17e-06 \\\\ \n",
      "  6 & 0.001096 & NA & NA & NA & 0.005469 & 9.418e-07 & 0.03455 \\\\ \n",
      "  7 & NA & NA & NA & NA & 0.03864 & 0.07643 & NA \\\\ \n",
      "  8 & 0.09888 & NA & 0.008393 & 0.01718 & 0.09621 & 0.09379 & NA \\\\ \n",
      "  9 & 0.0001584 & 0.05232 & NA & NA & 4.102e-05 & 0.02768 & NA \\\\ \n",
      "  10 & 0.02061 & NA & NA & NA & NA & NA & NA \\\\ \n",
      "  11 & 0.001096 & NA & NA & NA & 0.007683 & 0.01303 & NA \\\\ \n",
      "  12 & 0.008373 & NA & 0.0003686 & 0.0003752 & 8.52e-18 & 4.257e-20 & 0.005826 \\\\ \n",
      "  13 & 0.0008038 & NA & 0.01761 & 0.05744 & NA & NA & NA \\\\ \n",
      "  14 & NA & NA & NA & NA & 0.03014 & NA & NA \\\\ \n",
      "  15 & NA & 0.01426 & 0.006143 & 0.0003451 & 0.0004316 & 8.993e-05 & NA \\\\ \n",
      "  16 & 0.001669 & NA & NA & NA & 0.00283 & 5.538e-07 & 0.0007651 \\\\ \n",
      "  17 & NA & NA & NA & NA & 0.06267 & 0.01643 & 0.0327 \\\\ \n",
      "  18 & NA & 0.04432 & NA & 0.01432 & NA & 0.02238 & NA \\\\ \n",
      "  19 & 0.0005788 & NA & NA & 0.05155 & NA & NA & NA \\\\ \n",
      "  20 & NA & NA & 0.005457 & 0.07262 & 8.748e-06 & 0.001007 & NA \\\\ \n",
      "  21 & NA & NA & NA & NA & 0.04071 & 0.03781 & NA \\\\ \n",
      "  22 & 0.04158 & NA & 0.01975 & 0.008431 & NA & NA & NA \\\\ \n",
      "  23 & NA & NA & 0.04537 & 0.05747 & 7.079e-05 & 5.547e-09 & 0.03455 \\\\ \n",
      "  24 & NA & NA & NA & NA & NA & NA & 0.07104 \\\\ \n",
      "  25 & 0.001096 & NA & NA & NA & 0.000754 & 0.002847 & 0.07104 \\\\ \n",
      "  26 & NA & 0.03017 & 0.008805 & 0.0001168 & 1.262e-22 & 6.21e-13 & 0.000137 \\\\ \n",
      "  27 & 0.0002044 & NA & 0.04442 & NA & NA & NA & NA \\\\ \n",
      "  28 & 0.002599 & NA & NA & NA & 0.02454 & 3.79e-10 & 1.975e-08 \\\\ \n",
      "  29 & 9.314e-05 & NA & NA & NA & 7.063e-05 & 0.0001901 & NA \\\\ \n",
      "  30 & 0.01064 & 0.08448 & NA & 0.06122 & NA & NA & 0.03546 \\\\ \n",
      "  31 & 0.007826 & NA & 0.01447 & 0.02442 & 0.007683 & 0.004388 & NA \\\\ \n",
      "  32 & NA & NA & 0.01692 & 0.01762 & 3.072e-06 & 3.01e-06 & 0.01633 \\\\ \n",
      "  33 & 0.001441 & NA & NA & 0.01944 & 4.019e-31 & 6.282e-23 & 1.736e-06 \\\\ \n",
      "  34 & 0.006398 & NA & 0.00224 & 0.0437 & 2.105e-06 & 6.614e-09 & 0.02682 \\\\ \n",
      "  35 & NA & NA & NA & NA & 0.000754 & 5.004e-20 & 1.975e-08 \\\\ \n",
      "  36 & NA & NA & NA & 0.0437 & NA & NA & 0.08955 \\\\ \n",
      "  37 & 0.001623 & NA & 0.01692 & 0.0437 & NA & NA & NA \\\\ \n",
      "  38 & 0.01026 & NA & 0.003951 & 0.01894 & 0.09258 & NA & NA \\\\ \n",
      "  39 & NA & NA & 0.0002454 & 0.04423 & 4.854e-28 & 7.342e-14 & 5.333e-05 \\\\ \n",
      "  40 & 3.587e-06 & NA & NA & NA & 0.008188 & 0.003439 & NA \\\\ \n",
      "  41 & 0.002697 & 0.007459 & 0.03872 & 0.0003752 & NA & NA & NA \\\\ \n",
      "  42 & NA & NA & 0.01692 & 0.002031 & NA & 0.01071 & NA \\\\ \n",
      "  43 & NA & NA & NA & NA & 0.0005344 & 0.034 & NA \\\\ \n",
      "  44 & 2.014e-06 & NA & NA & NA & 0.005469 & 0.001743 & NA \\\\ \n",
      "  45 & NA & NA & NA & NA & NA & NA & 0.01977 \\\\ \n",
      "  46 & NA & 0.09697 & 0.004183 & 0.002031 & 6.321e-09 & 1.235e-14 & 0.03992 \\\\ \n",
      "  47 & NA & NA & NA & NA & NA & NA & 0.003406 \\\\ \n",
      "  48 & 0.0001584 & NA & 0.04442 & 0.05747 & 1.215e-17 & 2.008e-21 & 0.000137 \\\\ \n",
      "  49 & NA & 0.04781 & NA & 0.01495 & 0.05632 & 0.01643 & NA \\\\ \n",
      "  50 & 4.695e-06 & NA & NA & NA & 0.05953 & 0.002848 & 0.06739 \\\\ \n",
      "  51 & NA & NA & NA & NA & 5.875e-11 & 2.314e-11 & 9.091e-05 \\\\ \n",
      "  52 & NA & 0.0008424 & NA & 0.0003752 & 0.0003001 & 0.0006361 & NA \\\\ \n",
      "  53 & 1.053e-05 & NA & NA & NA & NA & 0.005318 & 0.02593 \\\\ \n",
      "  54 & NA & NA & 0.005023 & NA & NA & 1.81e-05 & 0.002129 \\\\ \n",
      "  55 & NA & NA & NA & NA & NA & 0.06215 & 0.04946 \\\\ \n",
      "  56 & 0.007826 & NA & NA & NA & 2.105e-06 & 5.189e-06 & 0.03992 \\\\ \n",
      "  57 & NA & NA & 0.005472 & 0.01341 & 1.136e-24 & 3.446e-25 & 6.829e-06 \\\\ \n",
      "  58 & 0.01583 & NA & NA & NA & NA & 6.986e-05 & NA \\\\ \n",
      "  59 & NA & 0.04781 & NA & 0.008431 & NA & 0.09379 & NA \\\\ \n",
      "  60 & 0.0592 & NA & NA & NA & 2.482e-08 & 2.39e-08 & 0.009142 \\\\ \n",
      "  61 & NA & NA & NA & NA & 4.519e-12 & 8.079e-10 & 0.003034 \\\\ \n",
      "  62 & 4.642e-05 & NA & NA & NA & 0.00283 & 0.002433 & NA \\\\ \n",
      "  63 & NA & NA & 0.005023 & NA & 2.738e-14 & 6.911e-06 & 0.002642 \\\\ \n",
      "  64 & NA & NA & NA & NA & NA & NA & NA \\\\ \n",
      "   \\hline\n",
      "\\hline\n",
      "\\end{longtable}\n"
     ]
    }
   ],
   "source": [
    "latex_code <- print.xtable(final_xtable,tabular.environment = \"longtable\", floating = FALSE)"
   ]
  },
  {
   "cell_type": "code",
   "execution_count": null,
   "id": "454313e7",
   "metadata": {},
   "outputs": [],
   "source": []
  },
  {
   "cell_type": "code",
   "execution_count": null,
   "id": "5c0d5959",
   "metadata": {},
   "outputs": [],
   "source": []
  }
 ],
 "metadata": {
  "kernelspec": {
   "display_name": "R",
   "language": "R",
   "name": "ir"
  },
  "language_info": {
   "codemirror_mode": "r",
   "file_extension": ".r",
   "mimetype": "text/x-r-source",
   "name": "R",
   "pygments_lexer": "r",
   "version": "4.1.3"
  }
 },
 "nbformat": 4,
 "nbformat_minor": 5
}
