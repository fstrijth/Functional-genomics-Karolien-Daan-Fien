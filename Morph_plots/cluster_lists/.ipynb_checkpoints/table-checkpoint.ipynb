{
 "cells": [
  {
   "cell_type": "code",
   "execution_count": 12,
   "id": "004a82d5",
   "metadata": {},
   "outputs": [],
   "source": [
    "\n",
    "library(\"gridExtra\")\n",
    "library(\"xtable\")"
   ]
  },
  {
   "cell_type": "code",
   "execution_count": 23,
   "id": "4d0969fc",
   "metadata": {},
   "outputs": [],
   "source": [
    "# Load the adjusted p-values of the clinical variables.\n",
    "age_clusters = read.csv(\"lowest_padj_AGE.csv\")\n",
    "bmi_clusters = read.csv(\"lowest_padj_BMI.csv\")\n",
    "height_clusters = read.csv(\"lowest_padj_HGHT.csv\")\n",
    "weight_clusters = read.csv(\"lowest_padj_WGHT.csv\")\n",
    "\n",
    "# Load the adjusted p-values of the technical variables.\n",
    "cohort_clusters = read.csv(\"lowest_padj_COHORT.csv\")\n",
    "hardy_clusters = read.csv(\"lowest_padj_DTHHRDY.csv\")\n",
    "ischemic_clusters = read.csv(\"lowest_padj_TRISCHD.csv\")"
   ]
  },
  {
   "cell_type": "code",
   "execution_count": 24,
   "id": "7911b3f5",
   "metadata": {},
   "outputs": [],
   "source": [
    "cluster_table = data.frame(\n",
    "    X = c(1:64))"
   ]
  },
  {
   "cell_type": "code",
   "execution_count": 25,
   "id": "d876109d",
   "metadata": {},
   "outputs": [
    {
     "ename": "ERROR",
     "evalue": "Error in which(names(final_merged_table) == \"X\"): object 'final_merged_table' not found\n",
     "output_type": "error",
     "traceback": [
      "Error in which(names(final_merged_table) == \"X\"): object 'final_merged_table' not found\nTraceback:\n",
      "1. final_table[, -which(names(final_merged_table) == \"X\")]",
      "2. `[.data.frame`(final_table, , -which(names(final_merged_table) == \n .     \"X\"))",
      "3. which(names(final_merged_table) == \"X\")"
     ]
    }
   ],
   "source": [
    "merged_table = merge(cluster_table, age_clusters[, c(\"X\", \"padj\")], by = \"X\", all.x = TRUE)\n",
    "colnames(merged_table)[colnames(merged_table) == \"padj\"] <- \"Age\"\n",
    "\n",
    "merged_table2 = merge(merged_table, bmi_clusters[, c(\"X\", \"padj\")], by = \"X\", all.x = TRUE)\n",
    "colnames(merged_table2)[colnames(merged_table2) == \"padj\"] <- \"BMI\"\n",
    "\n",
    "merged_table3 = merge(merged_table2, height_clusters[, c(\"X\", \"padj\")], by = \"X\", all.x = TRUE)\n",
    "colnames(merged_table3)[colnames(merged_table3) == \"padj\"] <- \"Height\"\n",
    "\n",
    "merged_table4 = merge(merged_table3, weight_clusters[, c(\"X\", \"padj\")], by = \"X\", all.x = TRUE)\n",
    "colnames(merged_table4)[colnames(merged_table4) == \"padj\"] <- \"Weight\"\n",
    "\n",
    "merged_table5 = merge(merged_table4, ischemic_clusters[, c(\"X\", \"padj\")], by = \"X\", all.x = TRUE)\n",
    "colnames(merged_table5)[colnames(merged_table5) == \"padj\"] <- \"Ischemic time\"\n",
    "\n",
    "merged_table6 = merge(merged_table5, cohort_clusters[, c(\"X\", \"padj\")], by = \"X\", all.x = TRUE)\n",
    "colnames(merged_table6)[colnames(merged_table6) == \"padj\"] <- \"Donor type\"\n",
    "\n",
    "final_table = merge(merged_table6, hardy_clusters[, c(\"X\", \"padj\")], by = \"X\", all.x = TRUE)\n",
    "colnames(final_table)[colnames(final_table) == \"padj\"] <- \"Hardy scale\"\n",
    "\n",
    "\n",
    "final_table = final_table[, -which(names(final_merged_table) == \"X\")]"
   ]
  },
  {
   "cell_type": "code",
   "execution_count": 26,
   "id": "fe798077",
   "metadata": {},
   "outputs": [],
   "source": [
    "final_table <- as.data.frame(lapply(final_table, function(x) prettyNum(x, digits = 4)))"
   ]
  },
  {
   "cell_type": "code",
   "execution_count": 27,
   "id": "f5b24e01",
   "metadata": {},
   "outputs": [],
   "source": [
    "final_xtable <- xtable(final_table)"
   ]
  },
  {
   "cell_type": "code",
   "execution_count": 30,
   "id": "f05bd469",
   "metadata": {},
   "outputs": [
    {
     "name": "stdout",
     "output_type": "stream",
     "text": [
      "% latex table generated in R 4.1.3 by xtable 1.8-4 package\n",
      "% Tue May 30 09:22:13 2023\n",
      "\\begin{longtable}{llllllll}\n",
      "  \\hline\n",
      "X & Age & BMI & Height & Weight & Ischemic.time & Donor.type & Hardy.scale \\\\ \n",
      "  \\hline\n",
      "1 & NA & NA & 0.01675 & NA & 5.634e-10 & 1.79e-05 & 0.003406 \\\\ \n",
      "  2 & 0.001301 & NA & NA & NA & 0.0002608 & 0.0001537 & NA \\\\ \n",
      "  3 & 0.05157 & NA & 0.03825 & NA & 0.002875 & 0.008541 & 0.06003 \\\\ \n",
      "  4 & 0.01089 & 0.03122 & 0.00188 & 0.0003512 & 1.576e-10 & 7.26e-15 & 0.04552 \\\\ \n",
      "  5 & NA & NA & 0.06632 & NA & 0.0007695 & 6.736e-18 & 2.17e-06 \\\\ \n",
      "  6 & 0.001232 & NA & NA & NA & 0.005556 & 9.418e-07 & 0.03455 \\\\ \n",
      "  7 & NA & NA & NA & NA & 0.03926 & 0.07643 & NA \\\\ \n",
      "  8 & 0.09984 & NA & 0.008058 & 0.01696 & 0.09774 & 0.09379 & NA \\\\ \n",
      "  9 & 0.000168 & 0.05348 & NA & NA & 4.167e-05 & 0.02768 & NA \\\\ \n",
      "  10 & 0.02132 & NA & NA & NA & NA & NA & NA \\\\ \n",
      "  11 & 0.001232 & NA & NA & NA & 0.007805 & 0.01303 & NA \\\\ \n",
      "  12 & 0.009133 & NA & 0.0002578 & 0.0003512 & 8.656e-18 & 4.257e-20 & 0.005826 \\\\ \n",
      "  13 & 0.0008826 & NA & 0.01682 & 0.0571 & NA & NA & NA \\\\ \n",
      "  14 & 0.002914 & NA & 3.433e-07 & 1.383e-08 & 0.03062 & NA & NA \\\\ \n",
      "  15 & NA & 0.01297 & 0.005581 & 0.0002022 & 0.0004385 & 8.993e-05 & NA \\\\ \n",
      "  16 & 0.001795 & NA & NA & NA & 0.002875 & 5.538e-07 & 0.0007651 \\\\ \n",
      "  17 & NA & NA & NA & NA & 0.06366 & 0.01643 & 0.0327 \\\\ \n",
      "  18 & NA & 0.04622 & NA & 0.01401 & NA & 0.02238 & NA \\\\ \n",
      "  19 & 0.0006838 & NA & NA & 0.05249 & NA & NA & NA \\\\ \n",
      "  20 & NA & NA & 0.005085 & 0.07276 & 8.887e-06 & 0.001007 & NA \\\\ \n",
      "  21 & NA & NA & NA & NA & 0.04136 & 0.03781 & NA \\\\ \n",
      "  22 & 0.03464 & 0.09089 & 0.01767 & 0.005794 & NA & NA & NA \\\\ \n",
      "  23 & NA & NA & 0.04544 & 0.0571 & 7.191e-05 & 5.547e-09 & 0.03455 \\\\ \n",
      "  24 & NA & NA & NA & NA & NA & NA & 0.07104 \\\\ \n",
      "  25 & 0.001232 & NA & NA & NA & 0.0007659 & 0.002847 & 0.07104 \\\\ \n",
      "  26 & NA & 0.03122 & 0.008264 & 6.358e-05 & 1.282e-22 & 6.21e-13 & 0.000137 \\\\ \n",
      "  27 & 0.000204 & NA & 0.04398 & NA & NA & NA & NA \\\\ \n",
      "  28 & 0.002805 & NA & NA & NA & 0.02493 & 3.79e-10 & 1.975e-08 \\\\ \n",
      "  29 & 9.973e-05 & NA & NA & NA & 7.175e-05 & 0.0001901 & NA \\\\ \n",
      "  30 & 0.01092 & 0.08672 & NA & 0.0613 & NA & NA & 0.03546 \\\\ \n",
      "  31 & 0.008229 & NA & 0.0139 & 0.02423 & 0.007805 & 0.004388 & NA \\\\ \n",
      "  32 & NA & NA & 0.01648 & 0.01716 & 3.121e-06 & 3.01e-06 & 0.01633 \\\\ \n",
      "  33 & 0.001399 & NA & NA & 0.01889 & 4.083e-31 & 6.282e-23 & 1.736e-06 \\\\ \n",
      "  34 & 0.006637 & NA & 0.00188 & 0.0424 & 2.139e-06 & 6.614e-09 & 0.02682 \\\\ \n",
      "  35 & NA & NA & NA & NA & 0.0007659 & 5.004e-20 & 1.975e-08 \\\\ \n",
      "  36 & NA & NA & NA & 0.0424 & NA & NA & 0.08955 \\\\ \n",
      "  37 & 0.001331 & NA & 0.01648 & 0.03974 & NA & NA & NA \\\\ \n",
      "  38 & 0.01031 & NA & 0.003346 & 0.01868 & 0.09405 & NA & NA \\\\ \n",
      "  39 & NA & NA & 0.0001225 & 0.04394 & 4.932e-28 & 7.342e-14 & 5.333e-05 \\\\ \n",
      "  40 & 2.936e-06 & NA & NA & NA & 0.008318 & 0.003439 & NA \\\\ \n",
      "  41 & 0.002936 & 0.008349 & 0.03825 & 0.0003763 & NA & NA & NA \\\\ \n",
      "  42 & NA & NA & 0.01648 & 0.001972 & NA & 0.01071 & NA \\\\ \n",
      "  43 & NA & NA & NA & NA & 0.0005429 & 0.034 & NA \\\\ \n",
      "  44 & 1.882e-06 & NA & NA & NA & 0.005556 & 0.001743 & NA \\\\ \n",
      "  45 & NA & NA & NA & NA & NA & NA & 0.01977 \\\\ \n",
      "  46 & NA & 0.09243 & 0.003707 & 0.002 & 6.422e-09 & 1.235e-14 & 0.03992 \\\\ \n",
      "  47 & NA & NA & NA & NA & NA & NA & 0.003406 \\\\ \n",
      "  48 & 0.000168 & NA & 0.04398 & 0.0571 & 1.235e-17 & 2.008e-21 & 0.000137 \\\\ \n",
      "  49 & NA & 0.05064 & NA & 0.01502 & 0.05721 & 0.01643 & NA \\\\ \n",
      "  50 & 3.65e-06 & NA & NA & NA & 0.06047 & 0.002848 & 0.06739 \\\\ \n",
      "  51 & NA & NA & NA & NA & 5.968e-11 & 2.314e-11 & 9.091e-05 \\\\ \n",
      "  52 & NA & 0.0008852 & 0.08348 & 0.0003512 & 0.0003049 & 0.0006361 & NA \\\\ \n",
      "  53 & 1.319e-05 & NA & NA & NA & NA & 0.005318 & 0.02593 \\\\ \n",
      "  54 & NA & NA & 0.004518 & NA & NA & 1.81e-05 & 0.002129 \\\\ \n",
      "  55 & NA & NA & NA & NA & NA & 0.06215 & 0.04946 \\\\ \n",
      "  56 & 0.008237 & NA & NA & NA & 2.139e-06 & 5.189e-06 & 0.03992 \\\\ \n",
      "  57 & NA & NA & 0.005177 & 0.01295 & 1.154e-24 & 3.446e-25 & 6.829e-06 \\\\ \n",
      "  58 & 0.01257 & NA & NA & NA & NA & 6.986e-05 & NA \\\\ \n",
      "  59 & NA & 0.05064 & NA & 0.007912 & NA & 0.09379 & NA \\\\ \n",
      "  60 & 0.05894 & NA & NA & NA & 2.521e-08 & 2.39e-08 & 0.009142 \\\\ \n",
      "  61 & NA & NA & NA & NA & 4.59e-12 & 8.079e-10 & 0.003034 \\\\ \n",
      "  62 & 5.094e-05 & NA & NA & NA & 0.002875 & 0.002433 & NA \\\\ \n",
      "  63 & NA & NA & 0.004518 & NA & 2.781e-14 & 6.911e-06 & 0.002642 \\\\ \n",
      "  64 & NA & NA & NA & NA & NA & NA & NA \\\\ \n",
      "   \\hline\n",
      "\\hline\n",
      "\\end{longtable}\n"
     ]
    }
   ],
   "source": [
    "latex_code <- print.xtable(final_xtable,tabular.environment = \"longtable\", floating = FALSE,include.rownames = FALSE)"
   ]
  },
  {
   "cell_type": "code",
   "execution_count": null,
   "id": "454313e7",
   "metadata": {},
   "outputs": [],
   "source": []
  },
  {
   "cell_type": "code",
   "execution_count": null,
   "id": "5c0d5959",
   "metadata": {},
   "outputs": [],
   "source": []
  }
 ],
 "metadata": {
  "kernelspec": {
   "display_name": "R",
   "language": "R",
   "name": "ir"
  }
 },
 "nbformat": 4,
 "nbformat_minor": 5
}
